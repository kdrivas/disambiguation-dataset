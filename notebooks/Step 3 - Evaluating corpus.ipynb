{
 "cells": [
  {
   "cell_type": "code",
   "execution_count": 2,
   "metadata": {},
   "outputs": [],
   "source": [
    "import numpy as np\n",
    "from pathlib import Path\n",
    "from collections import Counter\n",
    "import os\n",
    "import re\n",
    "import nltk\n",
    "\n",
    "os.chdir('../')\n",
    "\n",
    "from data import read_sentences"
   ]
  },
  {
   "cell_type": "code",
   "execution_count": 384,
   "metadata": {},
   "outputs": [],
   "source": [
    "PT_VERBS = ['tratar', 'estabelecer', 'marcar', 'vir', 'colocar',\\\n",
    "           'fechar', 'dar', 'cair', 'encontrar', 'registrar',\\\n",
    "           'levar', 'receber', 'apresentar', 'passar', 'deixar',\\\n",
    "           'chegar', 'ficar', 'fazer', 'ter', 'ser']"
   ]
  },
  {
   "cell_type": "code",
   "execution_count": 385,
   "metadata": {},
   "outputs": [],
   "source": [
    "PT_DICT_VERBS ={\n",
    "    'tratar': ['deal with', 'treat', 'process', 'deal', 'manage', 'do', 'attend', 'look after', 'cherrish', 'misuse', 'size'],\\\n",
    "    'estabelecer': ['establish', 'set', 'fix', 'lay down', 'make', 'settle', 'determine', 'presribe', 'impose', 'enter into', 'stipulate', 'organize', 'seat'],\\\n",
    "    'marcar': ['mark', 'brand', 'dial', 'book', 'stamp', 'show', 'read', 'define', 'trace', 'earmark', 'reserve', 'feature', 'signilize', 'scribe'],\\\n",
    "    'vir': ['come', 'arrive', 'come on', 'come up with'],\\\n",
    "    'colocar': ['put', 'lay', 'set', 'place', 'post', 'pose', 'stick', 'plant', 'dispose', 'collocate', 'posit', 'bestow', 'pitch', 'clap', 'ship', 'placatory'],\\\n",
    "    'fechar': ['close', 'shut', 'seal', 'turn off', 'pin down', 'fasten', 'occlude', 'shut in', 'box', 'impount', 'bar', 'berate', 'stop up', 'mure', 'stopple', 'rail', 'pen', 'inmure'],\\\n",
    "    'dar': ['to give', 'give', 'impart', 'provide', 'render', 'afford', 'yield', 'allow', 'hand', 'deal', 'administer', 'give in', 'gift', 'confer', 'inflict', 'handsel', 'accord'],\\\n",
    "    'cair': ['fall', 'go down', 'drop', 'sink', 'collapse', 'founder', 'topple', 'lapse', 'sleet', 'keel over', 'prey', 'prostrate', 'pelt', 'plump', 'flump'],\\\n",
    "    'encontrar': ['meet', 'find', 'detect', 'encounter', 'find out', 'discover', 'meet with', 'experience', 'get together', 'impinge', 'hunt up'],\\\n",
    "    'registrar': ['register', 'record', 'read', 'book', 'enroll', 'inscribe', 'enrol', 'list', 'write down', 'set down', 'trace', 'score', 'label', 'matriculate', 'prick down', 'calendar', 'signalize'],\\\n",
    "    'levar': ['take along', 'take', 'carry', 'convey', 'go', 'prompt', 'induce', 'hold', 'charge', 'ravish'],\\\n",
    "    'receber': ['to receive', 'receive', 'welcome', 'get', 'have', 'accept', 'collect', 'meet', 'entertain', 'do', 'reap', 'derive', 'salute'],\\\n",
    "    'apresentar': ['to present', 'present', 'introduce', 'show', 'exhibit', 'lodge', 'produce', 'put', 'bring forward', 'come up with', 'represent', 'bring up', 'render'],\\\n",
    "    'passar': ['pass', 'spend', 'hand', 'go', 'go by', 'elapse', 'slip away', 'come', 'transfer', 'give in'],\\\n",
    "    'deixar': ['leave', 'let', 'have', 'quit', 'let go', 'depart', 'go away', 'drop off', 'leave out'],\\\n",
    "    'chegar': ['to arrive', 'arrive', ' get in', 'come', 'achieve', 'land', 'get around', 'turn up'],\\\n",
    "    'ficar': ['stay', 'bide', 'be', 'remain', 'go', 'continue', 'keep', 'come'],\\\n",
    "    'fazer': ['do', 'perform', 'make', 'cause', 'create', 'produce', 'render', 'manufacture'],\\\n",
    "    'ter': ['tue', 'have', 'take'],\\\n",
    "    'ser': ['to be', 'be', 'being']\n",
    "}"
   ]
  },
  {
   "cell_type": "markdown",
   "metadata": {},
   "source": [
    "# Eval senses tagged"
   ]
  },
  {
   "cell_type": "markdown",
   "metadata": {},
   "source": [
    "## Read translations"
   ]
  },
  {
   "cell_type": "code",
   "execution_count": 534,
   "metadata": {},
   "outputs": [],
   "source": [
    "or_file_semcor = open('data/translation/semcor/en_pt/semcor_or_2.txt', 'r')\n",
    "tr_file_semcor = open('data/translation/semcor/en_pt/semcor_tr_2.txt', 'r')\n",
    "id_file_semcor = open('data/translation/semcor/en_pt/semcor_id_2.txt', 'r')\n",
    "al_file_semcor = open('data/translation/semcor/en_pt/semcor_al_2.txt', 'r')\n",
    "\n",
    "or_file_omsti = open('data/translation/omsti/en_pt/omsti_or.txt', 'r')\n",
    "tr_file_omsti = open('data/translation/omsti/en_pt/omsti_tr.txt', 'r')\n",
    "id_file_omsti = open('data/translation/omsti/en_pt/omsti_id.txt', 'r')\n",
    "al_file_omsti = open('data/translation/omsti/en_pt/omsti_al.txt', 'r')"
   ]
  },
  {
   "cell_type": "code",
   "execution_count": 451,
   "metadata": {},
   "outputs": [],
   "source": [
    "def parse_alignment(chars):\n",
    "    alignment = []\n",
    "    for e in re.split(r'[,|;]', chars):\n",
    "        temp = e.split('-')\n",
    "        range_a = temp[0].split(':')\n",
    "        range_b = temp[1].split(':')\n",
    "        alignment.append([np.arange(int(range_a[0]), int(range_a[0]) + int(range_a[1]) + 1),\\\n",
    "                         np.arange(int(range_b[0]), int(range_b[0]) + int(range_b[1]) + 1)])\n",
    "        \n",
    "    return alignment"
   ]
  },
  {
   "cell_type": "code",
   "execution_count": 452,
   "metadata": {},
   "outputs": [],
   "source": [
    "def load_arrays(or_file, tr_file, id_file, al_file):\n",
    "    tr_ar = []\n",
    "    for sent in tr_file:\n",
    "        tr_ar.append(sent.replace('\\n', ''))\n",
    "        \n",
    "    or_ar = []\n",
    "    for sent in or_file:\n",
    "        or_ar.append(sent.replace('\\n', ''))\n",
    "\n",
    "    id_ar = []\n",
    "    for sent in id_file:\n",
    "        id_ar.append(int(sent.replace('\\n', '')))\n",
    "\n",
    "    al_ar = []\n",
    "    for sent in al_file:\n",
    "        al_ar.append(parse_alignment(sent.replace('\\n', '')))\n",
    "        \n",
    "    return np.array(or_ar), np.array(tr_ar), np.array(id_ar), np.array(al_ar)"
   ]
  },
  {
   "cell_type": "code",
   "execution_count": 453,
   "metadata": {},
   "outputs": [],
   "source": [
    "or_semcor, tr_semcor, id_semcor, al_semcor = load_arrays(or_file_semcor, tr_file_semcor, id_file_semcor, al_file_semcor)\n",
    "or_omsti, tr_omsti, id_omsti, al_omsti = load_arrays(or_file_omsti, tr_file_omsti, id_file_omsti, al_file_omsti)"
   ]
  },
  {
   "cell_type": "code",
   "execution_count": 547,
   "metadata": {},
   "outputs": [
    {
     "data": {
      "text/plain": [
       "(37163, 37163, 37163, 37163)"
      ]
     },
     "execution_count": 547,
     "metadata": {},
     "output_type": "execute_result"
    }
   ],
   "source": [
    "len(or_semcor), len(tr_semcor), len(id_semcor), len(al_semcor)"
   ]
  },
  {
   "cell_type": "code",
   "execution_count": 548,
   "metadata": {},
   "outputs": [
    {
     "data": {
      "text/plain": [
       "(40260, 40260, 40260, 40260)"
      ]
     },
     "execution_count": 548,
     "metadata": {},
     "output_type": "execute_result"
    }
   ],
   "source": [
    "len(or_omsti), len(tr_omsti), len(id_omsti), len(al_omsti)"
   ]
  },
  {
   "cell_type": "code",
   "execution_count": 445,
   "metadata": {},
   "outputs": [],
   "source": [
    "or_file_semcor.close()\n",
    "tr_file_semcor.close()\n",
    "id_file_semcor.close()\n",
    "al_file_semcor.close()\n",
    "\n",
    "or_file_omsti.close()\n",
    "tr_file_omsti.close()\n",
    "id_file_omsti.close()\n",
    "al_file_omsti.close()"
   ]
  },
  {
   "cell_type": "markdown",
   "metadata": {},
   "source": [
    "## Read corpus annotations"
   ]
  },
  {
   "cell_type": "code",
   "execution_count": 17,
   "metadata": {},
   "outputs": [],
   "source": [
    "input_sent_semcor, sent_to_id_semcor, target_sent_semcor = read_sentences(Path.cwd() / 'data/WSD_Evaluation_Framework/Training_Corpora/', 'SemCor', False)\n",
    "input_sent_temp, sent_to_id_temp, target_sent_temp = read_sentences(Path.cwd() / 'data/WSD_Evaluation_Framework/Training_Corpora/', 'SemCor+OMSTI', True)\n",
    "\n",
    "# Filter sentences\n",
    "input_sent_omsti = []\n",
    "sent_to_id_omsti = []\n",
    "target_sent_omsti = []\n",
    "for ix, sent in enumerate(input_sent_temp):\n",
    "    if sent not in input_sent_semcor:\n",
    "        input_sent_omsti.append(sent)\n",
    "        sent_to_id_omsti.append(sent_to_id_temp[ix])\n",
    "        target_sent_omsti.append(target_sent_temp[ix])"
   ]
  },
  {
   "cell_type": "markdown",
   "metadata": {},
   "source": [
    "## Check amount of valid data"
   ]
  },
  {
   "cell_type": "code",
   "execution_count": 150,
   "metadata": {},
   "outputs": [],
   "source": [
    "def get_alignment(pos_word, al):\n",
    "    temp = []\n",
    "    for e in al:\n",
    "        if pos_word in e[1]:\n",
    "            temp.append(e)\n",
    "    \n",
    "    if len(temp):\n",
    "        temp = sorted(temp, key= lambda x: len(x[1]))\n",
    "        temp = temp[0]\n",
    "        \n",
    "    return temp"
   ]
  },
  {
   "cell_type": "code",
   "execution_count": 367,
   "metadata": {},
   "outputs": [],
   "source": [
    "def count_words_with_verb(sent):\n",
    "    temp_ix = []\n",
    "    temp_cont = []\n",
    "    cont_char = 0\n",
    "    for ix, word in enumerate(sent.split()):\n",
    "        if word in PT_VERBS:\n",
    "            temp_cont.append(cont_char)\n",
    "            temp_ix.append(ix)\n",
    "        cont_char += len(word) + 1\n",
    "    return temp_cont, temp_ix"
   ]
  },
  {
   "cell_type": "code",
   "execution_count": 368,
   "metadata": {},
   "outputs": [],
   "source": [
    "def count_tagged_instance(id_arr, al_arr, tr_arr, input_sent_arr, sent_to_id_arr, target_sent_arr):\n",
    "    cont = 0\n",
    "    for ix_tr, ix_input_sent in enumerate(id_arr):\n",
    "        \n",
    "        input_sent = input_sent_arr[ix_input_sent]\n",
    "        sent_to_id = sent_to_id_arr[ix_input_sent]\n",
    "        target_sent = target_sent_arr[ix_input_sent]\n",
    "        \n",
    "        al = al_arr[ix_tr]\n",
    "        tr = tr_arr[ix_tr]\n",
    "        \n",
    "        arr_cont_char, arr_pos_word = count_words_with_verb(tr)\n",
    "        if len(arr_cont_char):\n",
    "            for cont_char, pos_word in zip(arr_cont_char, arr_pos_word):\n",
    "                alingment = get_alignment(cont_char, al)\n",
    "                #print(alingment)\n",
    "                t_or = min(alingment[0])\n",
    "                d_or = max(alingment[0])\n",
    "                t_tr = min(alingment[1])\n",
    "                d_tr = max(alingment[1])\n",
    "\n",
    "                ant_n_words = len(input_sent[:t_or].split())\n",
    "                n_words = len(input_sent[t_or:d_or].split())\n",
    "                for id_sense in sent_to_id[ant_n_words:(ant_n_words+n_words)]:\n",
    "                    if target_sent[id_sense] != 'no_instance':\n",
    "                        cont +=1\n",
    "    \n",
    "    return cont"
   ]
  },
  {
   "cell_type": "code",
   "execution_count": 216,
   "metadata": {},
   "outputs": [
    {
     "data": {
      "text/plain": [
       "7084"
      ]
     },
     "execution_count": 216,
     "metadata": {},
     "output_type": "execute_result"
    }
   ],
   "source": [
    "count_tagged_instance(id_semcor, al_semcor, tr_semcor, input_sent_semcor, sent_to_id_semcor, target_sent_semcor)"
   ]
  },
  {
   "cell_type": "code",
   "execution_count": 217,
   "metadata": {},
   "outputs": [
    {
     "data": {
      "text/plain": [
       "6611"
      ]
     },
     "execution_count": 217,
     "metadata": {},
     "output_type": "execute_result"
    }
   ],
   "source": [
    "count_tagged_instance(id_omsti, al_omsti, tr_omsti, input_sent_omsti, sent_to_id_omsti, target_sent_omsti)"
   ]
  },
  {
   "cell_type": "code",
   "execution_count": 214,
   "metadata": {},
   "outputs": [
    {
     "data": {
      "text/plain": [
       "76260"
      ]
     },
     "execution_count": 214,
     "metadata": {},
     "output_type": "execute_result"
    }
   ],
   "source": [
    "len(id_semcor) + len(id_omsti)"
   ]
  },
  {
   "cell_type": "markdown",
   "metadata": {},
   "source": [
    "# Eval metrics"
   ]
  },
  {
   "cell_type": "code",
   "execution_count": 280,
   "metadata": {},
   "outputs": [],
   "source": [
    "or_file_semcor = open('data/translation/semcor/pt_en/semcor_or_3.txt', 'r')\n",
    "tr_file_semcor = open('data/translation/semcor/pt_en/semcor_tr_3.txt', 'r')\n",
    "al_file_semcor = open('data/translation/semcor/pt_en/semcor_al_3.txt', 'r')\n",
    "\n",
    "or_file_omsti = open('data/translation/omsti/pt_en/omsti_or_2.txt', 'r')\n",
    "tr_file_omsti = open('data/translation/omsti/pt_en/omsti_tr_2.txt', 'r')\n",
    "al_file_omsti = open('data/translation/omsti/pt_en/omsti_al_2.txt', 'r')"
   ]
  },
  {
   "cell_type": "code",
   "execution_count": 281,
   "metadata": {},
   "outputs": [],
   "source": [
    "bck_or_semcor, bck_tr_semcor, _, bck_al_semcor = load_arrays(or_file_semcor, tr_file_semcor, [], al_file_semcor)\n",
    "bck_or_omsti, bck_tr_omsti, _, bck_al_omsti = load_arrays(or_file_omsti, tr_file_omsti, [], al_file_omsti)"
   ]
  },
  {
   "cell_type": "code",
   "execution_count": 282,
   "metadata": {},
   "outputs": [],
   "source": [
    "or_file_semcor.close()\n",
    "tr_file_semcor.close()\n",
    "al_file_semcor.close()\n",
    "\n",
    "or_file_omsti.close()\n",
    "tr_file_omsti.close()\n",
    "al_file_omsti.close()"
   ]
  },
  {
   "cell_type": "code",
   "execution_count": 242,
   "metadata": {},
   "outputs": [
    {
     "data": {
      "text/plain": [
       "('the next days may show where things are .',\n",
       " 'the next days may show where things stand .')"
      ]
     },
     "execution_count": 242,
     "metadata": {},
     "output_type": "execute_result"
    }
   ],
   "source": [
    "bck_tr_semcor[-100], or_semcor[-100]"
   ]
  },
  {
   "cell_type": "code",
   "execution_count": 243,
   "metadata": {},
   "outputs": [
    {
     "data": {
      "text/plain": [
       "('whether as athletes or spectators , when we find ourselves in and participate in international sporting events , we share the brilliance of world-class competition , whether it be in the pain of losing, or the glory of winning , but more importantly , on a willingness of participation .',\n",
       " 'whether as athletes or spectators , when we meet at and participate in international sporting events , we share in the glow of world-class competition , whether it be in the heartbreak of losing or in the glory of winning , but most importantly , in the goodwill of participation .')"
      ]
     },
     "execution_count": 243,
     "metadata": {},
     "output_type": "execute_result"
    }
   ],
   "source": [
    "bck_tr_omsti[-100], or_omsti[-100]"
   ]
  },
  {
   "cell_type": "markdown",
   "metadata": {},
   "source": [
    "## Eval Rouge"
   ]
  },
  {
   "cell_type": "code",
   "execution_count": null,
   "metadata": {},
   "outputs": [],
   "source": [
    "import rouge"
   ]
  },
  {
   "cell_type": "code",
   "execution_count": 1083,
   "metadata": {},
   "outputs": [],
   "source": [
    "def get_rouge_per_sentence(input_sentences, trns_sentences):\n",
    "    f1_scores = []\n",
    "    for sent, trns in zip(input_sentences, trns_sentences):\n",
    "        evaluator = rouge.Rouge(metrics=['rouge-n'],\n",
    "                               max_n=2,\n",
    "                               limit_length=True,\n",
    "                               length_limit=100,\n",
    "                               length_limit_type='words',\n",
    "                               alpha=0.5, # Default F1_score\n",
    "                               weight_factor=1.2,\n",
    "                               stemming=True)\n",
    "\n",
    "        all_hypothesis = [trns]\n",
    "        all_references = [sent]\n",
    "\n",
    "        scores = evaluator.get_scores(all_hypothesis, all_references)\n",
    "        for metric, results in sorted(scores.items(), key=lambda x: x[0]):\n",
    "            if metric == 'rouge-2':\n",
    "                f1_scores.append(results['f'])\n",
    "\n",
    "    return np.array(f1_scores)"
   ]
  },
  {
   "cell_type": "code",
   "execution_count": 1084,
   "metadata": {},
   "outputs": [],
   "source": [
    "rouge_omsti = get_rouge_per_sentence(or_omsti, bck_tr_omsti)\n",
    "rouge_semcor = get_rouge_per_sentence(or_semcor, bck_tr_semcor)"
   ]
  },
  {
   "cell_type": "markdown",
   "metadata": {},
   "source": [
    "## Eval Bleu"
   ]
  },
  {
   "cell_type": "code",
   "execution_count": 1085,
   "metadata": {},
   "outputs": [],
   "source": [
    "import nltk\n",
    "from nltk.translate.bleu_score import SmoothingFunction\n",
    "\n",
    "def get_bleu_per_sentence(input_sentences, trns_sentences):\n",
    "    bleu_scores = []\n",
    "    smoothie = SmoothingFunction().method4\n",
    "    for sent, trns in zip(input_sentences, trns_sentences):\n",
    "        hypothesis = trns.split() \n",
    "        reference = sent.split()\n",
    "        \n",
    "        references = [reference]\n",
    "        bleu = nltk.translate.bleu_score.sentence_bleu(references, hypothesis, smoothing_function=smoothie)\n",
    "        \n",
    "        bleu_scores.append(bleu)\n",
    "\n",
    "    return np.array(bleu_scores)"
   ]
  },
  {
   "cell_type": "code",
   "execution_count": 1086,
   "metadata": {},
   "outputs": [],
   "source": [
    "bleu_omsti = get_bleu_per_sentence(or_omsti, bck_tr_omsti)\n",
    "bleu_semcor = get_bleu_per_sentence(or_semcor, bck_tr_semcor)"
   ]
  },
  {
   "cell_type": "markdown",
   "metadata": {},
   "source": [
    "# Transform translations"
   ]
  },
  {
   "cell_type": "code",
   "execution_count": 272,
   "metadata": {},
   "outputs": [],
   "source": [
    "def count_words(sent):\n",
    "    temp_ix = []\n",
    "    temp_cont = []\n",
    "    cont_char = 0\n",
    "    for ix, word in enumerate(sent.split()):\n",
    "        temp_cont.append(cont_char)\n",
    "        temp_ix.append(ix)\n",
    "        \n",
    "        cont_char += len(word) + 1\n",
    "        \n",
    "    return temp_cont, temp_ix"
   ]
  },
  {
   "cell_type": "code",
   "execution_count": 388,
   "metadata": {},
   "outputs": [],
   "source": [
    "def check_word(tr_word, orig_words):\n",
    "    if tr_word in PT_DICT_VERBS:\n",
    "        orig_options = PT_DICT_VERBS[tr_word]\n",
    "        for orig_word in orig_words:\n",
    "            if orig_word in orig_options:\n",
    "                return True\n",
    "                \n",
    "    return False"
   ]
  },
  {
   "cell_type": "code",
   "execution_count": 909,
   "metadata": {},
   "outputs": [],
   "source": [
    "from spacy.tokens import Doc\n",
    "\n",
    "class WhitespaceTokenizer(object):\n",
    "    def __init__(self, vocab):\n",
    "        self.vocab = vocab\n",
    "\n",
    "    def __call__(self, text):\n",
    "        words = text.split(' ')\n",
    "        # All tokens 'own' a subsequent space character in this tokenizer\n",
    "        spaces = [True] * len(words)\n",
    "        return Doc(self.vocab, words=words, spaces=spaces)\n"
   ]
  },
  {
   "cell_type": "code",
   "execution_count": 910,
   "metadata": {},
   "outputs": [],
   "source": [
    "import spacy\n",
    "\n",
    "nlp_pt = spacy.load('pt_core_news_sm')\n",
    "nlp_pt.tokenizer = WhitespaceTokenizer(nlp_pt.vocab)\n",
    "\n",
    "nlp_en = spacy.load('en_core_web_sm')\n",
    "nlp_en.tokenizer = WhitespaceTokenizer(nlp_en.vocab)"
   ]
  },
  {
   "cell_type": "code",
   "execution_count": 912,
   "metadata": {},
   "outputs": [],
   "source": [
    "def get_pos_tags(orig_sentences, trns_sentences): \n",
    "    tags_tr = []\n",
    "    for sent in (trns_sentences):\n",
    "        if len(sent):\n",
    "            tag_tr = []\n",
    "            temp = nlp_pt(str(sent).strip())\n",
    "            for token in temp:\n",
    "                tag_tr.append([token.text, token.pos_])\n",
    "            tags_tr.append(tag_tr)\n",
    "        else:\n",
    "            tags_tr.append(['invalid', 'invalid'])\n",
    "    \n",
    "    tags_or = []\n",
    "    for sent in (orig_sentences):\n",
    "        if len(sent):\n",
    "            tag_or = []\n",
    "            temp = nlp_en(str(sent).strip())\n",
    "            for token in temp:\n",
    "                tag_or.append([token.text, token.pos_])\n",
    "            tags_or.append(tag_or)\n",
    "        else:\n",
    "            tags_or.append(['invalid', 'invalid'])\n",
    "        \n",
    "    return tags_or, tags_tr"
   ]
  },
  {
   "cell_type": "code",
   "execution_count": 1009,
   "metadata": {},
   "outputs": [],
   "source": [
    "def tagged_translations(selected_id_tr, id_arr, al_arr, tr_arr, input_sent_arr, sent_to_id_arr, target_sent_arr, pos_or, pos_tr):\n",
    "    cont = 0\n",
    "    tagged_tr = []\n",
    "    \n",
    "    for ix_tr, ix_input_sent in zip(selected_id_tr, id_arr.take(selected_id_tr)):\n",
    "        input_sent = input_sent_arr[ix_input_sent]\n",
    "        sent_to_id = sent_to_id_arr[ix_input_sent]\n",
    "        target_sent = target_sent_arr[ix_input_sent]\n",
    "        \n",
    "        al = al_arr[ix_tr]\n",
    "        tr = tr_arr[ix_tr]\n",
    "        \n",
    "        arr_cont_char, arr_pos_word = count_words(tr)\n",
    "        if len(arr_cont_char):\n",
    "            \n",
    "            tags_tr = pos_tr[ix_tr]\n",
    "            tags_or = pos_or[ix_input_sent]\n",
    "            if verbose:\n",
    "                print()\n",
    "                print('sentence orig: ', input_sent)\n",
    "                print('sentence translated: ', tr)\n",
    "            temp = []\n",
    "            for cont_char, pos_word in zip(arr_cont_char, arr_pos_word):\n",
    "                alingment = get_alignment(cont_char, al)\n",
    "                if len(alingment):\n",
    "                    t_or = min(alingment[0])\n",
    "                    d_or = max(alingment[0])\n",
    "                    t_tr = min(alingment[1])\n",
    "                    d_tr = max(alingment[1])\n",
    "\n",
    "                    ant_n_words_or = len(input_sent[:t_or].split())\n",
    "                    n_words_or = len(input_sent[t_or:d_or].split())\n",
    "                    \n",
    "                    ant_n_words_tr = len(tr[:t_tr].split())\n",
    "                    n_words_tr = len(tr[t_tr:d_tr].split())\n",
    "                    \n",
    "                    input_sent_tokens = input_sent.split()[ant_n_words_or:(ant_n_words_or+n_words_or)]\n",
    "                    trns_sent_tokens = tr.split()[ant_n_words_tr:(ant_n_words_tr+n_words_tr)]\n",
    "                    \n",
    "                    if verbose:\n",
    "                        print()\n",
    "                        print('translated word: ', tr.split()[pos_word])\n",
    "                        print('senses: ', np.array(target_sent).take(sent_to_id[ant_n_words_or:(ant_n_words_or+n_words_or)]))\n",
    "                        print('token input original: ', input_sent_tokens)\n",
    "                        print('token translations: ', tr.split()[ant_n_words_tr:(ant_n_words_tr+n_words_tr)])\n",
    "                        print('pos original: ', tags_tr[pos_word])\n",
    "                        print('pos translation: ', tags_or[ant_n_words_or:(ant_n_words_or+n_words_or)])\n",
    "                    if len(input_sent_tokens) == 1:   \n",
    "                        \n",
    "                        tag_or = tags_or[ant_n_words_or:(ant_n_words_or+n_words_or)][0]\n",
    "                        tag_tr = tags_tr[pos_word]\n",
    "                        id_sense = sent_to_id[ant_n_words_or:(ant_n_words_or+n_words_or)][0]\n",
    "                        if verbose:\n",
    "                            print('token 1: ', target_sent[id_sense])\n",
    "                        if target_sent[id_sense] != 'no_instance' and tag_or[1] == tag_tr[1]: \n",
    "                            temp.append(target_sent[id_sense])\n",
    "                        else:\n",
    "                            temp.append('no_instance') \n",
    "\n",
    "                    elif len(input_sent_tokens) <= 4 and len(trns_sent_tokens) <= 5 and check_word(tr.split()[pos_word], input_sent[t_or:d_or].split()):\n",
    "                        is_ambiguous = False\n",
    "\n",
    "                        for id_sense, word in zip(sent_to_id[ant_n_words_or:(ant_n_words_or+n_words_or)], input_sent_tokens):\n",
    "                            if target_sent[id_sense] != 'no_instance' and word in PT_DICT_VERBS[tr.split()[pos_word]]:\n",
    "                                is_ambiguous = True\n",
    "                                break\n",
    "                        \n",
    "                        if is_ambiguous:\n",
    "                            if verbose:\n",
    "                                print('token check_word: ', target_sent[id_sense])\n",
    "                            temp.append(target_sent[id_sense])\n",
    "                        else:\n",
    "                            temp.append('no_instance')\n",
    "                            \n",
    "                    elif len(input_sent_tokens) <= 4 and len(trns_sent_tokens) <= 4:   \n",
    "                        \n",
    "                        is_ambiguous = False\n",
    "                        tag_tr = tags_tr[pos_word]\n",
    "                        \n",
    "                        tag_cntr_or = Counter([tag[1] for tag in tags_or[ant_n_words_or:(ant_n_words_or+n_words_or)]])\n",
    "                        tag_cntr_tr = Counter([tag[1] for tag in tags_tr[ant_n_words_tr:(ant_n_words_tr+n_words_tr)]])\n",
    "\n",
    "                        for id_sense, tag_or in zip(sent_to_id[ant_n_words_or:(ant_n_words_or+n_words_or)], tags_or[ant_n_words_or:(ant_n_words_or+n_words_or)]):\n",
    "                            if target_sent[id_sense] != 'no_instance' and tag_or[1] == tag_tr[1] and tag_cntr_tr[tag_tr[1]] == 1 and tag_cntr_or[tag_or[1]] == 1: \n",
    "                                is_ambiguous = True\n",
    "                                temp_id = target_sent[id_sense]\n",
    "                                if verbose:\n",
    "                                    print('sentido encontrado: ', temp_id)\n",
    "                                break\n",
    "                                \n",
    "                        if is_ambiguous:\n",
    "                            temp.append(temp_id)\n",
    "                        else:\n",
    "                            temp.append('no_instance')\n",
    "\n",
    "                    else:\n",
    "                        temp.append('no_instance')\n",
    "                else:\n",
    "                    temp.append('no_instance')\n",
    "            \n",
    "            tagged_tr.append([temp, tr])\n",
    "    \n",
    "    return tagged_tr"
   ]
  },
  {
   "cell_type": "code",
   "execution_count": 1053,
   "metadata": {
    "scrolled": true
   },
   "outputs": [
    {
     "data": {
      "text/plain": [
       "(['no_instance',\n",
       "  'd006.s071.t000',\n",
       "  'd006.s071.t001',\n",
       "  'no_instance',\n",
       "  'no_instance',\n",
       "  'no_instance',\n",
       "  'd006.s071.t002',\n",
       "  'no_instance',\n",
       "  'no_instance',\n",
       "  'd006.s071.t003',\n",
       "  'd006.s071.t004',\n",
       "  'no_instance',\n",
       "  'd006.s071.t005',\n",
       "  'd006.s071.t006',\n",
       "  'no_instance',\n",
       "  'd006.s071.t007',\n",
       "  'd006.s071.t008',\n",
       "  'no_instance',\n",
       "  'd006.s071.t009',\n",
       "  'no_instance',\n",
       "  'no_instance',\n",
       "  'no_instance',\n",
       "  'no_instance',\n",
       "  'd006.s071.t010',\n",
       "  'd006.s071.t011',\n",
       "  'd006.s071.t012',\n",
       "  'no_instance',\n",
       "  'no_instance',\n",
       "  'd006.s071.t013',\n",
       "  'no_instance',\n",
       "  'd006.s071.t014',\n",
       "  'no_instance',\n",
       "  'd006.s071.t015',\n",
       "  'no_instance',\n",
       "  'd006.s071.t016',\n",
       "  'no_instance',\n",
       "  'd006.s071.t017',\n",
       "  'no_instance'],\n",
       " [('on', 0),\n",
       "  ('december', 1),\n",
       "  ('9', 2),\n",
       "  (',', 3),\n",
       "  ('1862', 4),\n",
       "  (',', 5),\n",
       "  ('sergeant', 6),\n",
       "  ('edwin', 6),\n",
       "  ('h.', 6),\n",
       "  ('fay', 6),\n",
       "  (',', 7),\n",
       "  ('an', 8),\n",
       "  ('unusual', 9),\n",
       "  ('louisianan', 10),\n",
       "  ('who', 11),\n",
       "  ('held', 12),\n",
       "  ('a.', 13),\n",
       "  ('b.', 13),\n",
       "  ('and', 14),\n",
       "  ('m.', 15),\n",
       "  ('a.', 15),\n",
       "  ('degrees', 16),\n",
       "  ('from', 17),\n",
       "  ('harvard', 18),\n",
       "  ('university', 18),\n",
       "  ('and', 19),\n",
       "  ('who', 20),\n",
       "  ('before', 21),\n",
       "  ('the', 22),\n",
       "  ('war', 23),\n",
       "  ('was', 24),\n",
       "  ('headmaster', 25),\n",
       "  ('of', 26),\n",
       "  ('a', 27),\n",
       "  ('private', 28),\n",
       "  ('school', 28),\n",
       "  ('for', 29),\n",
       "  ('boys', 30),\n",
       "  ('in', 31),\n",
       "  ('louisiana', 32),\n",
       "  (',', 33),\n",
       "  ('wrote', 34),\n",
       "  ('his', 35),\n",
       "  ('wife', 36),\n",
       "  (':', 37)])"
      ]
     },
     "execution_count": 1053,
     "metadata": {},
     "output_type": "execute_result"
    }
   ],
   "source": [
    "(target_sent_semcor[id_semcor[728]]), list(zip((input_sent_semcor[728].split()), sent_to_id_semcor[728]))"
   ]
  },
  {
   "cell_type": "code",
   "execution_count": 1054,
   "metadata": {
    "scrolled": true
   },
   "outputs": [
    {
     "name": "stdout",
     "output_type": "stream",
     "text": [
      "\n",
      "sentence orig:  on december 9 , 1862 , sergeant edwin h. fay , an unusual louisianan who held a. b. and m. a. degrees from harvard university and who before the war was headmaster of a private school for boys in louisiana , wrote his wife :\n",
      "sentence translated:  em 9 de dezembro de 1862 , o sargento edwin h. fay , uma invulgar louisianan, que realizou uma. b. e m. um. graus da universidade de harvard e que antes da guerra, era diretor de uma escola particular para meninos, em louisiana , escreveu a sua esposa :\n",
      "\n",
      "translated word:  em\n",
      "senses:  ['no_instance' 'd006.s071.t000' 'd006.s071.t001' 'no_instance']\n",
      "token input original:  ['on', 'december', '9', ',']\n",
      "token translations:  ['em', '9', 'de', 'dezembro', 'de']\n",
      "pos original:  ['em', 'ADP']\n",
      "pos translation:  [['on', 'ADP'], ['december', 'NOUN'], ['9', 'NUM'], [',', 'PUNCT']]\n",
      "\n",
      "translated word:  9\n",
      "senses:  ['no_instance' 'd006.s071.t000' 'd006.s071.t001' 'no_instance']\n",
      "token input original:  ['on', 'december', '9', ',']\n",
      "token translations:  ['em', '9', 'de', 'dezembro', 'de']\n",
      "pos original:  ['9', 'NUM']\n",
      "pos translation:  [['on', 'ADP'], ['december', 'NOUN'], ['9', 'NUM'], [',', 'PUNCT']]\n",
      "\n",
      "translated word:  de\n",
      "senses:  ['no_instance' 'd006.s071.t000' 'd006.s071.t001' 'no_instance']\n",
      "token input original:  ['on', 'december', '9', ',']\n",
      "token translations:  ['em', '9', 'de', 'dezembro', 'de']\n",
      "pos original:  ['de', 'ADP']\n",
      "pos translation:  [['on', 'ADP'], ['december', 'NOUN'], ['9', 'NUM'], [',', 'PUNCT']]\n",
      "\n",
      "translated word:  dezembro\n",
      "senses:  ['no_instance' 'd006.s071.t000' 'd006.s071.t001' 'no_instance']\n",
      "token input original:  ['on', 'december', '9', ',']\n",
      "token translations:  ['em', '9', 'de', 'dezembro', 'de']\n",
      "pos original:  ['dezembro', 'NOUN']\n",
      "pos translation:  [['on', 'ADP'], ['december', 'NOUN'], ['9', 'NUM'], [',', 'PUNCT']]\n",
      "\n",
      "translated word:  de\n",
      "senses:  ['no_instance' 'd006.s071.t000' 'd006.s071.t001' 'no_instance']\n",
      "token input original:  ['on', 'december', '9', ',']\n",
      "token translations:  ['em', '9', 'de', 'dezembro', 'de']\n",
      "pos original:  ['de', 'ADP']\n",
      "pos translation:  [['on', 'ADP'], ['december', 'NOUN'], ['9', 'NUM'], [',', 'PUNCT']]\n",
      "\n",
      "translated word:  1862\n",
      "senses:  ['no_instance']\n",
      "token input original:  ['1862']\n",
      "token translations:  ['1862']\n",
      "pos original:  ['1862', 'NUM']\n",
      "pos translation:  [['1862', 'NUM']]\n",
      "token 1:  no_instance\n",
      "\n",
      "translated word:  ,\n",
      "senses:  ['no_instance' 'd006.s071.t002']\n",
      "token input original:  [',', 'sergeant']\n",
      "token translations:  [',', 'o', 'sargento']\n",
      "pos original:  [',', 'PUNCT']\n",
      "pos translation:  [[',', 'PUNCT'], ['sergeant', 'NOUN']]\n",
      "\n",
      "translated word:  o\n",
      "senses:  ['no_instance' 'd006.s071.t002']\n",
      "token input original:  [',', 'sergeant']\n",
      "token translations:  [',', 'o', 'sargento']\n",
      "pos original:  ['o', 'DET']\n",
      "pos translation:  [[',', 'PUNCT'], ['sergeant', 'NOUN']]\n",
      "\n",
      "translated word:  sargento\n",
      "senses:  ['no_instance' 'd006.s071.t002']\n",
      "token input original:  [',', 'sergeant']\n",
      "token translations:  [',', 'o', 'sargento']\n",
      "pos original:  ['sargento', 'NOUN']\n",
      "pos translation:  [[',', 'PUNCT'], ['sergeant', 'NOUN']]\n",
      "sentido encontrado:  d006.s071.t002\n",
      "\n",
      "translated word:  edwin\n",
      "senses:  ['d006.s071.t002']\n",
      "token input original:  ['edwin']\n",
      "token translations:  ['edwin']\n",
      "pos original:  ['edwin', 'ADJ']\n",
      "pos translation:  [['edwin', 'NOUN']]\n",
      "token 1:  d006.s071.t002\n",
      "\n",
      "translated word:  h.\n",
      "senses:  ['d006.s071.t002']\n",
      "token input original:  ['h.']\n",
      "token translations:  ['h.']\n",
      "pos original:  ['h.', 'PROPN']\n",
      "pos translation:  [['h.', 'NOUN']]\n",
      "token 1:  d006.s071.t002\n",
      "\n",
      "translated word:  fay\n",
      "senses:  ['d006.s071.t002']\n",
      "token input original:  ['fay']\n",
      "token translations:  ['fay']\n",
      "pos original:  ['fay', 'ADJ']\n",
      "pos translation:  [['fay', 'ADV']]\n",
      "token 1:  d006.s071.t002\n",
      "\n",
      "translated word:  ,\n",
      "senses:  ['no_instance' 'no_instance' 'd006.s071.t003']\n",
      "token input original:  [',', 'an', 'unusual']\n",
      "token translations:  [',', 'uma', 'invulgar']\n",
      "pos original:  [',', 'PUNCT']\n",
      "pos translation:  [[',', 'PUNCT'], ['an', 'DET'], ['unusual', 'ADJ']]\n",
      "\n",
      "translated word:  uma\n",
      "senses:  ['no_instance' 'no_instance' 'd006.s071.t003']\n",
      "token input original:  [',', 'an', 'unusual']\n",
      "token translations:  [',', 'uma', 'invulgar']\n",
      "pos original:  ['uma', 'DET']\n",
      "pos translation:  [[',', 'PUNCT'], ['an', 'DET'], ['unusual', 'ADJ']]\n",
      "\n",
      "translated word:  invulgar\n",
      "senses:  ['no_instance' 'no_instance' 'd006.s071.t003']\n",
      "token input original:  [',', 'an', 'unusual']\n",
      "token translations:  [',', 'uma', 'invulgar']\n",
      "pos original:  ['invulgar', 'VERB']\n",
      "pos translation:  [[',', 'PUNCT'], ['an', 'DET'], ['unusual', 'ADJ']]\n",
      "\n",
      "translated word:  louisianan,\n",
      "senses:  ['d006.s071.t004']\n",
      "token input original:  ['louisianan']\n",
      "token translations:  ['louisianan,']\n",
      "pos original:  ['louisianan,', 'NOUN']\n",
      "pos translation:  [['louisianan', 'NOUN']]\n",
      "token 1:  d006.s071.t004\n",
      "\n",
      "translated word:  que\n",
      "senses:  ['no_instance' 'd006.s071.t005' 'd006.s071.t006']\n",
      "token input original:  ['who', 'held', 'a.']\n",
      "token translations:  ['que', 'realizou', 'uma.', 'b.']\n",
      "pos original:  ['que', 'PRON']\n",
      "pos translation:  [['who', 'NOUN'], ['held', 'VERB'], ['a.', 'NOUN']]\n",
      "\n",
      "translated word:  realizou\n",
      "senses:  ['no_instance' 'd006.s071.t005' 'd006.s071.t006']\n",
      "token input original:  ['who', 'held', 'a.']\n",
      "token translations:  ['que', 'realizou', 'uma.', 'b.']\n",
      "pos original:  ['realizou', 'VERB']\n",
      "pos translation:  [['who', 'NOUN'], ['held', 'VERB'], ['a.', 'NOUN']]\n",
      "sentido encontrado:  d006.s071.t005\n",
      "\n",
      "translated word:  uma.\n",
      "senses:  ['no_instance' 'd006.s071.t005' 'd006.s071.t006']\n",
      "token input original:  ['who', 'held', 'a.']\n",
      "token translations:  ['que', 'realizou', 'uma.', 'b.']\n",
      "pos original:  ['uma.', 'ADJ']\n",
      "pos translation:  [['who', 'NOUN'], ['held', 'VERB'], ['a.', 'NOUN']]\n",
      "\n",
      "translated word:  b.\n",
      "senses:  ['d006.s071.t006']\n",
      "token input original:  ['b.']\n",
      "token translations:  ['b.']\n",
      "pos original:  ['b.', 'NOUN']\n",
      "pos translation:  [['b.', 'NOUN']]\n",
      "token 1:  d006.s071.t006\n",
      "\n",
      "translated word:  e\n",
      "senses:  ['no_instance']\n",
      "token input original:  ['and']\n",
      "token translations:  ['e']\n",
      "pos original:  ['e', 'CCONJ']\n",
      "pos translation:  [['and', 'CCONJ']]\n",
      "token 1:  no_instance\n",
      "\n",
      "translated word:  m.\n",
      "senses:  ['d006.s071.t007']\n",
      "token input original:  ['m.']\n",
      "token translations:  ['m.']\n",
      "pos original:  ['m.', 'NOUN']\n",
      "pos translation:  [['m.', 'NOUN']]\n",
      "token 1:  d006.s071.t007\n",
      "\n",
      "translated word:  um.\n",
      "senses:  ['d006.s071.t007']\n",
      "token input original:  ['a.']\n",
      "token translations:  ['um.']\n",
      "pos original:  ['um.', 'ADJ']\n",
      "pos translation:  [['a.', 'NOUN']]\n",
      "token 1:  d006.s071.t007\n",
      "\n",
      "translated word:  graus\n",
      "senses:  ['d006.s071.t008']\n",
      "token input original:  ['degrees']\n",
      "token translations:  ['graus']\n",
      "pos original:  ['graus', 'NOUN']\n",
      "pos translation:  [['degrees', 'NOUN']]\n",
      "token 1:  d006.s071.t008\n",
      "\n",
      "translated word:  da\n",
      "senses:  ['no_instance' 'd006.s071.t009' 'd006.s071.t009' 'no_instance']\n",
      "token input original:  ['from', 'harvard', 'university', 'and']\n",
      "token translations:  ['da', 'universidade', 'de', 'harvard', 'e']\n",
      "pos original:  ['da', 'ADP']\n",
      "pos translation:  [['from', 'ADP'], ['harvard', 'NOUN'], ['university', 'NOUN'], ['and', 'CCONJ']]\n",
      "\n",
      "translated word:  universidade\n",
      "senses:  ['no_instance' 'd006.s071.t009' 'd006.s071.t009' 'no_instance']\n",
      "token input original:  ['from', 'harvard', 'university', 'and']\n",
      "token translations:  ['da', 'universidade', 'de', 'harvard', 'e']\n",
      "pos original:  ['universidade', 'NOUN']\n",
      "pos translation:  [['from', 'ADP'], ['harvard', 'NOUN'], ['university', 'NOUN'], ['and', 'CCONJ']]\n",
      "\n",
      "translated word:  de\n",
      "senses:  ['no_instance' 'd006.s071.t009' 'd006.s071.t009' 'no_instance']\n",
      "token input original:  ['from', 'harvard', 'university', 'and']\n",
      "token translations:  ['da', 'universidade', 'de', 'harvard', 'e']\n",
      "pos original:  ['de', 'ADP']\n",
      "pos translation:  [['from', 'ADP'], ['harvard', 'NOUN'], ['university', 'NOUN'], ['and', 'CCONJ']]\n",
      "\n",
      "translated word:  harvard\n",
      "senses:  ['no_instance' 'd006.s071.t009' 'd006.s071.t009' 'no_instance']\n",
      "token input original:  ['from', 'harvard', 'university', 'and']\n",
      "token translations:  ['da', 'universidade', 'de', 'harvard', 'e']\n",
      "pos original:  ['harvard', 'NOUN']\n",
      "pos translation:  [['from', 'ADP'], ['harvard', 'NOUN'], ['university', 'NOUN'], ['and', 'CCONJ']]\n",
      "\n",
      "translated word:  e\n",
      "senses:  ['no_instance' 'd006.s071.t009' 'd006.s071.t009' 'no_instance']\n",
      "token input original:  ['from', 'harvard', 'university', 'and']\n",
      "token translations:  ['da', 'universidade', 'de', 'harvard', 'e']\n",
      "pos original:  ['e', 'CCONJ']\n",
      "pos translation:  [['from', 'ADP'], ['harvard', 'NOUN'], ['university', 'NOUN'], ['and', 'CCONJ']]\n",
      "\n",
      "translated word:  que\n",
      "senses:  ['no_instance']\n",
      "token input original:  ['who']\n",
      "token translations:  ['que']\n",
      "pos original:  ['que', 'SCONJ']\n",
      "pos translation:  [['who', 'NOUN']]\n",
      "token 1:  no_instance\n",
      "\n",
      "translated word:  antes\n",
      "senses:  ['no_instance' 'no_instance' 'd006.s071.t010' 'd006.s071.t011']\n",
      "token input original:  ['before', 'the', 'war', 'was']\n",
      "token translations:  ['antes', 'da', 'guerra,', 'era']\n",
      "pos original:  ['antes', 'ADV']\n",
      "pos translation:  [['before', 'ADP'], ['the', 'DET'], ['war', 'NOUN'], ['was', 'VERB']]\n",
      "\n",
      "translated word:  da\n",
      "senses:  ['no_instance' 'no_instance' 'd006.s071.t010' 'd006.s071.t011']\n",
      "token input original:  ['before', 'the', 'war', 'was']\n",
      "token translations:  ['antes', 'da', 'guerra,', 'era']\n",
      "pos original:  ['da', 'ADP']\n",
      "pos translation:  [['before', 'ADP'], ['the', 'DET'], ['war', 'NOUN'], ['was', 'VERB']]\n",
      "\n",
      "translated word:  guerra,\n",
      "senses:  ['no_instance' 'no_instance' 'd006.s071.t010' 'd006.s071.t011']\n",
      "token input original:  ['before', 'the', 'war', 'was']\n",
      "token translations:  ['antes', 'da', 'guerra,', 'era']\n",
      "pos original:  ['guerra,', 'NOUN']\n",
      "pos translation:  [['before', 'ADP'], ['the', 'DET'], ['war', 'NOUN'], ['was', 'VERB']]\n",
      "sentido encontrado:  d006.s071.t010\n",
      "\n",
      "translated word:  era\n",
      "senses:  ['no_instance' 'no_instance' 'd006.s071.t010' 'd006.s071.t011']\n",
      "token input original:  ['before', 'the', 'war', 'was']\n",
      "token translations:  ['antes', 'da', 'guerra,', 'era']\n",
      "pos original:  ['era', 'VERB']\n",
      "pos translation:  [['before', 'ADP'], ['the', 'DET'], ['war', 'NOUN'], ['was', 'VERB']]\n",
      "sentido encontrado:  d006.s071.t011\n",
      "\n",
      "translated word:  diretor\n",
      "senses:  ['d006.s071.t012' 'no_instance' 'no_instance']\n",
      "token input original:  ['headmaster', 'of', 'a']\n",
      "token translations:  ['diretor', 'de', 'uma']\n",
      "pos original:  ['diretor', 'NOUN']\n",
      "pos translation:  [['headmaster', 'NOUN'], ['of', 'ADP'], ['a', 'DET']]\n",
      "sentido encontrado:  d006.s071.t012\n",
      "\n",
      "translated word:  de\n",
      "senses:  ['d006.s071.t012' 'no_instance' 'no_instance']\n",
      "token input original:  ['headmaster', 'of', 'a']\n",
      "token translations:  ['diretor', 'de', 'uma']\n",
      "pos original:  ['de', 'ADP']\n",
      "pos translation:  [['headmaster', 'NOUN'], ['of', 'ADP'], ['a', 'DET']]\n",
      "\n",
      "translated word:  uma\n",
      "senses:  ['d006.s071.t012' 'no_instance' 'no_instance']\n",
      "token input original:  ['headmaster', 'of', 'a']\n",
      "token translations:  ['diretor', 'de', 'uma']\n",
      "pos original:  ['uma', 'DET']\n",
      "pos translation:  [['headmaster', 'NOUN'], ['of', 'ADP'], ['a', 'DET']]\n",
      "\n",
      "translated word:  escola\n",
      "senses:  ['d006.s071.t013' 'd006.s071.t013']\n",
      "token input original:  ['private', 'school']\n",
      "token translations:  ['escola', 'particular']\n",
      "pos original:  ['escola', 'NOUN']\n",
      "pos translation:  [['private', 'ADJ'], ['school', 'NOUN']]\n",
      "sentido encontrado:  d006.s071.t013\n",
      "\n",
      "translated word:  particular\n",
      "senses:  ['d006.s071.t013' 'd006.s071.t013']\n",
      "token input original:  ['private', 'school']\n",
      "token translations:  ['escola', 'particular']\n",
      "pos original:  ['particular', 'ADJ']\n",
      "pos translation:  [['private', 'ADJ'], ['school', 'NOUN']]\n",
      "sentido encontrado:  d006.s071.t013\n",
      "\n",
      "translated word:  para\n",
      "senses:  ['no_instance' 'd006.s071.t014' 'no_instance']\n",
      "token input original:  ['for', 'boys', 'in']\n",
      "token translations:  ['para', 'meninos,', 'em']\n",
      "pos original:  ['para', 'ADP']\n",
      "pos translation:  [['for', 'ADP'], ['boys', 'NOUN'], ['in', 'ADP']]\n",
      "\n",
      "translated word:  meninos,\n",
      "senses:  ['no_instance' 'd006.s071.t014' 'no_instance']\n",
      "token input original:  ['for', 'boys', 'in']\n",
      "token translations:  ['para', 'meninos,', 'em']\n",
      "pos original:  ['meninos,', 'NOUN']\n",
      "pos translation:  [['for', 'ADP'], ['boys', 'NOUN'], ['in', 'ADP']]\n",
      "sentido encontrado:  d006.s071.t014\n",
      "\n",
      "translated word:  em\n",
      "senses:  ['no_instance' 'd006.s071.t014' 'no_instance']\n",
      "token input original:  ['for', 'boys', 'in']\n",
      "token translations:  ['para', 'meninos,', 'em']\n",
      "pos original:  ['em', 'ADP']\n",
      "pos translation:  [['for', 'ADP'], ['boys', 'NOUN'], ['in', 'ADP']]\n",
      "\n",
      "translated word:  louisiana\n",
      "senses:  ['d006.s071.t015']\n",
      "token input original:  ['louisiana']\n",
      "token translations:  ['louisiana']\n",
      "pos original:  ['louisiana', 'NOUN']\n",
      "pos translation:  [['louisiana', 'NOUN']]\n",
      "token 1:  d006.s071.t015\n",
      "\n",
      "translated word:  ,\n",
      "senses:  ['no_instance' 'd006.s071.t016' 'no_instance']\n",
      "token input original:  [',', 'wrote', 'his']\n",
      "token translations:  [',', 'escreveu', 'a', 'sua']\n",
      "pos original:  [',', 'PUNCT']\n",
      "pos translation:  [[',', 'PUNCT'], ['wrote', 'VERB'], ['his', 'ADJ']]\n",
      "\n",
      "translated word:  escreveu\n",
      "senses:  ['no_instance' 'd006.s071.t016' 'no_instance']\n",
      "token input original:  [',', 'wrote', 'his']\n",
      "token translations:  [',', 'escreveu', 'a', 'sua']\n",
      "pos original:  ['escreveu', 'VERB']\n",
      "pos translation:  [[',', 'PUNCT'], ['wrote', 'VERB'], ['his', 'ADJ']]\n",
      "sentido encontrado:  d006.s071.t016\n",
      "\n",
      "translated word:  a\n",
      "senses:  ['no_instance' 'd006.s071.t016' 'no_instance']\n",
      "token input original:  [',', 'wrote', 'his']\n",
      "token translations:  [',', 'escreveu', 'a', 'sua']\n",
      "pos original:  ['a', 'DET']\n",
      "pos translation:  [[',', 'PUNCT'], ['wrote', 'VERB'], ['his', 'ADJ']]\n",
      "\n",
      "translated word:  sua\n",
      "senses:  ['no_instance' 'd006.s071.t016' 'no_instance']\n",
      "token input original:  [',', 'wrote', 'his']\n",
      "token translations:  [',', 'escreveu', 'a', 'sua']\n",
      "pos original:  ['sua', 'DET']\n",
      "pos translation:  [[',', 'PUNCT'], ['wrote', 'VERB'], ['his', 'ADJ']]\n",
      "\n",
      "translated word:  esposa\n",
      "senses:  ['d006.s071.t017']\n",
      "token input original:  ['wife']\n",
      "token translations:  ['esposa']\n",
      "pos original:  ['esposa', 'NOUN']\n",
      "pos translation:  [['wife', 'NOUN']]\n",
      "token 1:  d006.s071.t017\n",
      "\n",
      "translated word:  :\n",
      "senses:  ['d006.s071.t008' 'no_instance' 'd006.s071.t009' 'd006.s071.t009'\n",
      " 'no_instance' 'no_instance' 'no_instance' 'no_instance' 'd006.s071.t010'\n",
      " 'd006.s071.t011' 'd006.s071.t012' 'no_instance' 'no_instance'\n",
      " 'd006.s071.t013' 'd006.s071.t013' 'no_instance' 'd006.s071.t014'\n",
      " 'no_instance' 'd006.s071.t015' 'no_instance' 'd006.s071.t016'\n",
      " 'no_instance' 'd006.s071.t017' 'no_instance']\n",
      "token input original:  ['degrees', 'from', 'harvard', 'university', 'and', 'who', 'before', 'the', 'war', 'was', 'headmaster', 'of', 'a', 'private', 'school', 'for', 'boys', 'in', 'louisiana', ',', 'wrote', 'his', 'wife', ':']\n",
      "token translations:  ['graus', 'da', 'universidade', 'de', 'harvard', 'e', 'que', 'antes', 'da', 'guerra,', 'era', 'diretor', 'de', 'uma', 'escola', 'particular', 'para', 'meninos,', 'em', 'louisiana', ',', 'escreveu', 'a', 'sua', 'esposa', ':']\n",
      "pos original:  [':', 'PUNCT']\n",
      "pos translation:  [['degrees', 'NOUN'], ['from', 'ADP'], ['harvard', 'NOUN'], ['university', 'NOUN'], ['and', 'CCONJ'], ['who', 'NOUN'], ['before', 'ADP'], ['the', 'DET'], ['war', 'NOUN'], ['was', 'VERB'], ['headmaster', 'NOUN'], ['of', 'ADP'], ['a', 'DET'], ['private', 'ADJ'], ['school', 'NOUN'], ['for', 'ADP'], ['boys', 'NOUN'], ['in', 'ADP'], ['louisiana', 'NOUN'], [',', 'PUNCT'], ['wrote', 'VERB'], ['his', 'ADJ'], ['wife', 'NOUN'], [':', 'PUNCT']]\n"
     ]
    }
   ],
   "source": [
    "tagged_tr_semcor_r = tagged_translations(np.array([728]), id_semcor, al_semcor, tr_semcor, input_sent_semcor, sent_to_id_semcor, target_sent_semcor, pos_or, pos_tr)\n"
   ]
  },
  {
   "cell_type": "code",
   "execution_count": 1103,
   "metadata": {},
   "outputs": [],
   "source": [
    "def filter_index(rouge, id_arr, or_arr, bleu=[], p=''):\n",
    "    \n",
    "    if len(bleu):\n",
    "        filtered_ids = np.where(((np.array(rouge) > (np.mean(rouge) - np.std(rouge))) & ((np.array(bleu) > (np.mean(bleu) - np.std(bleu))))))[0]\n",
    "    else:\n",
    "        filtered_ids = np.where(np.array(rouge) > (np.mean(rouge) - np.std(rouge)))[0]\n",
    "    print(f'{p:15s}total ids: {len(id_arr)}\\t|\\t After filter: {len(filtered_ids)}')\n",
    "    return filtered_ids"
   ]
  },
  {
   "cell_type": "code",
   "execution_count": 666,
   "metadata": {},
   "outputs": [],
   "source": [
    "def get_verbs(sent):\n",
    "    temp_cont = []\n",
    "    for ix, word in enumerate(sent.split()):\n",
    "        if word in PT_VERBS:\n",
    "            temp_cont.append(ix)\n",
    "    return temp_cont"
   ]
  },
  {
   "cell_type": "code",
   "execution_count": 497,
   "metadata": {},
   "outputs": [],
   "source": [
    "def count_instances_with_verbs(tagged_tr):\n",
    "    cont = []\n",
    "    for ix, instance in enumerate(tagged_tr):\n",
    "        arr_pos_word = get_verbs(instance[1])\n",
    "        if len(arr_pos_word):\n",
    "            for pos_word in arr_pos_word:\n",
    "                if instance[0][pos_word] != 'no_instance':\n",
    "                    cont.append(ix)\n",
    "                    \n",
    "    return len(cont)"
   ]
  },
  {
   "cell_type": "markdown",
   "metadata": {},
   "source": [
    "## Filtering semcor"
   ]
  },
  {
   "cell_type": "markdown",
   "metadata": {},
   "source": [
    "### Filter id's"
   ]
  },
  {
   "cell_type": "code",
   "execution_count": 1104,
   "metadata": {},
   "outputs": [
    {
     "name": "stdout",
     "output_type": "stream",
     "text": [
      "rouge          total ids: 37163\t|\t After filter: 32488\n",
      "bleu           total ids: 37163\t|\t After filter: 31132\n",
      "bleu-rouge     total ids: 37163\t|\t After filter: 30699\n"
     ]
    }
   ],
   "source": [
    "filtered_ids_semcor_r = filter_index(rouge_semcor, id_semcor, tr_semcor, p='rouge')\n",
    "filtered_ids_semcor_b = filter_index(bleu_semcor, id_semcor, tr_semcor, p='bleu')\n",
    "filtered_ids_semcor_r_b = filter_index(rouge_semcor, id_semcor, tr_semcor, bleu_semcor, p='bleu-rouge')"
   ]
  },
  {
   "cell_type": "markdown",
   "metadata": {},
   "source": [
    "### Make target"
   ]
  },
  {
   "cell_type": "code",
   "execution_count": 913,
   "metadata": {
    "scrolled": true
   },
   "outputs": [],
   "source": [
    "pos_or, pos_tr = get_pos_tags(input_sent_semcor, tr_semcor)"
   ]
  },
  {
   "cell_type": "code",
   "execution_count": 866,
   "metadata": {},
   "outputs": [],
   "source": [
    "for ix, s in enumerate(tr_semcor):\n",
    "    if len(s.split()) != len(pos_tr[ix]):\n",
    "        print(False)\n",
    "        break"
   ]
  },
  {
   "cell_type": "code",
   "execution_count": 867,
   "metadata": {},
   "outputs": [],
   "source": [
    "for ix, s in enumerate(input_sent_semcor):\n",
    "    if len(s.split()) != len(pos_or[ix]):\n",
    "        print(False)\n",
    "        break"
   ]
  },
  {
   "cell_type": "code",
   "execution_count": 917,
   "metadata": {},
   "outputs": [],
   "source": [
    "np.save('pos_or.npy', pos_or)\n",
    "np.save('pos_tr.npy', pos_tr)"
   ]
  },
  {
   "cell_type": "code",
   "execution_count": 1066,
   "metadata": {},
   "outputs": [],
   "source": [
    "verbose=False"
   ]
  },
  {
   "cell_type": "code",
   "execution_count": 1067,
   "metadata": {
    "scrolled": true
   },
   "outputs": [
    {
     "name": "stdout",
     "output_type": "stream",
     "text": [
      "tagging with rouge\n",
      "tagging with bleu\n",
      "tagging with rouge and bleu\n"
     ]
    }
   ],
   "source": [
    "print('tagging with rouge')\n",
    "tagged_tr_semcor_r = tagged_translations(filtered_ids_semcor_r, id_semcor, al_semcor, tr_semcor, input_sent_semcor, sent_to_id_semcor, target_sent_semcor, pos_or, pos_tr)\n",
    "print('tagging with bleu')\n",
    "tagged_tr_semcor_b = tagged_translations(filtered_ids_semcor_b, id_semcor, al_semcor, tr_semcor, input_sent_semcor, sent_to_id_semcor, target_sent_semcor, pos_or, pos_tr)\n",
    "print('tagging with rouge and bleu')\n",
    "tagged_tr_semcor_r_b = tagged_translations(filtered_ids_semcor_r_b, id_semcor, al_semcor, tr_semcor, input_sent_semcor, sent_to_id_semcor, target_sent_semcor, pos_or, pos_tr)"
   ]
  },
  {
   "cell_type": "code",
   "execution_count": 1052,
   "metadata": {},
   "outputs": [
    {
     "data": {
      "text/plain": [
       "728"
      ]
     },
     "execution_count": 1052,
     "metadata": {},
     "output_type": "execute_result"
    }
   ],
   "source": [
    "filtered_ids_semcor_r[649]"
   ]
  },
  {
   "cell_type": "code",
   "execution_count": 1028,
   "metadata": {},
   "outputs": [],
   "source": [
    "k= []\n",
    "for ix, sent in enumerate(tagged_tr_semcor_r):\n",
    "    c = Counter([i for i in sent[0] if i != 'no_instance'])\n",
    "    if len(c) > 0 and (c.most_common(1)[0][1] > 1) :\n",
    "        k.append([ix, sent])\n"
   ]
  },
  {
   "cell_type": "code",
   "execution_count": 1030,
   "metadata": {},
   "outputs": [
    {
     "data": {
      "text/plain": [
       "45"
      ]
     },
     "execution_count": 1030,
     "metadata": {},
     "output_type": "execute_result"
    }
   ],
   "source": [
    "filtered_ids_semcor_r[43]"
   ]
  },
  {
   "cell_type": "code",
   "execution_count": 1046,
   "metadata": {
    "scrolled": true
   },
   "outputs": [
    {
     "data": {
      "text/plain": [
       "[649,\n",
       " [['no_instance',\n",
       "   'no_instance',\n",
       "   'no_instance',\n",
       "   'no_instance',\n",
       "   'no_instance',\n",
       "   'no_instance',\n",
       "   'no_instance',\n",
       "   'no_instance',\n",
       "   'd006.s071.t002',\n",
       "   'no_instance',\n",
       "   'no_instance',\n",
       "   'no_instance',\n",
       "   'no_instance',\n",
       "   'no_instance',\n",
       "   'no_instance',\n",
       "   'd006.s071.t004',\n",
       "   'no_instance',\n",
       "   'd006.s071.t005',\n",
       "   'no_instance',\n",
       "   'd006.s071.t006',\n",
       "   'no_instance',\n",
       "   'd006.s071.t007',\n",
       "   'no_instance',\n",
       "   'd006.s071.t008',\n",
       "   'no_instance',\n",
       "   'no_instance',\n",
       "   'no_instance',\n",
       "   'no_instance',\n",
       "   'no_instance',\n",
       "   'no_instance',\n",
       "   'no_instance',\n",
       "   'no_instance',\n",
       "   'd006.s071.t010',\n",
       "   'd006.s071.t011',\n",
       "   'd006.s071.t012',\n",
       "   'no_instance',\n",
       "   'no_instance',\n",
       "   'd006.s071.t013',\n",
       "   'd006.s071.t013',\n",
       "   'no_instance',\n",
       "   'd006.s071.t014',\n",
       "   'no_instance',\n",
       "   'd006.s071.t015',\n",
       "   'no_instance',\n",
       "   'd006.s071.t016',\n",
       "   'no_instance',\n",
       "   'no_instance',\n",
       "   'd006.s071.t017',\n",
       "   'no_instance'],\n",
       "  'em 9 de dezembro de 1862 , o sargento edwin h. fay , uma invulgar louisianan, que realizou uma. b. e m. um. graus da universidade de harvard e que antes da guerra, era diretor de uma escola particular para meninos, em louisiana , escreveu a sua esposa :']]"
      ]
     },
     "execution_count": 1046,
     "metadata": {},
     "output_type": "execute_result"
    }
   ],
   "source": [
    "k[100]"
   ]
  },
  {
   "cell_type": "code",
   "execution_count": 1018,
   "metadata": {},
   "outputs": [
    {
     "data": {
      "text/plain": [
       "0"
      ]
     },
     "execution_count": 1018,
     "metadata": {},
     "output_type": "execute_result"
    }
   ],
   "source": [
    "len(c)"
   ]
  },
  {
   "cell_type": "code",
   "execution_count": 946,
   "metadata": {
    "scrolled": true
   },
   "outputs": [
    {
     "data": {
      "text/plain": [
       "['no_instance',\n",
       " 'd010.s002.t000',\n",
       " 'no_instance',\n",
       " 'no_instance',\n",
       " 'd010.s002.t001',\n",
       " 'no_instance',\n",
       " 'd010.s002.t002',\n",
       " 'd010.s002.t003',\n",
       " 'no_instance',\n",
       " 'd010.s002.t004',\n",
       " 'no_instance',\n",
       " 'no_instance',\n",
       " 'd010.s002.t005',\n",
       " 'no_instance',\n",
       " 'no_instance',\n",
       " 'no_instance',\n",
       " 'd010.s002.t006',\n",
       " 'no_instance',\n",
       " 'd010.s002.t007',\n",
       " 'no_instance',\n",
       " 'no_instance',\n",
       " 'd010.s002.t008',\n",
       " 'd010.s002.t009',\n",
       " 'no_instance',\n",
       " 'd010.s002.t010',\n",
       " 'd010.s002.t011',\n",
       " 'no_instance',\n",
       " 'no_instance',\n",
       " 'd010.s002.t012',\n",
       " 'd010.s002.t013',\n",
       " 'd010.s002.t014',\n",
       " 'no_instance',\n",
       " 'd010.s002.t015',\n",
       " 'd010.s002.t016',\n",
       " 'no_instance',\n",
       " 'd010.s002.t017',\n",
       " 'no_instance',\n",
       " 'no_instance',\n",
       " 'd010.s002.t018',\n",
       " 'no_instance',\n",
       " 'd010.s002.t019',\n",
       " 'd010.s002.t020',\n",
       " 'no_instance',\n",
       " 'd010.s002.t021',\n",
       " 'd010.s002.t022',\n",
       " 'no_instance',\n",
       " 'd010.s002.t023',\n",
       " 'd010.s002.t024',\n",
       " 'd010.s002.t025',\n",
       " 'no_instance',\n",
       " 'd010.s002.t026',\n",
       " 'd010.s002.t027',\n",
       " 'no_instance']"
      ]
     },
     "execution_count": 946,
     "metadata": {},
     "output_type": "execute_result"
    }
   ],
   "source": [
    "target_sent_semcor[1174]"
   ]
  },
  {
   "cell_type": "code",
   "execution_count": 976,
   "metadata": {
    "scrolled": true
   },
   "outputs": [
    {
     "data": {
      "text/plain": [
       "[['no_instance',\n",
       "  'no_instance',\n",
       "  'no_instance',\n",
       "  'no_instance',\n",
       "  'no_instance',\n",
       "  'no_instance',\n",
       "  'no_instance',\n",
       "  'd106.s080.t004',\n",
       "  'no_instance',\n",
       "  'no_instance',\n",
       "  'd106.s080.t006',\n",
       "  'no_instance',\n",
       "  'd106.s080.t008',\n",
       "  'd106.s080.t007',\n",
       "  'no_instance',\n",
       "  'no_instance',\n",
       "  'd106.s080.t009',\n",
       "  'no_instance',\n",
       "  'no_instance',\n",
       "  'no_instance',\n",
       "  'no_instance',\n",
       "  'd106.s080.t011',\n",
       "  'no_instance',\n",
       "  'no_instance',\n",
       "  'no_instance',\n",
       "  'no_instance',\n",
       "  'd106.s080.t013',\n",
       "  'no_instance',\n",
       "  'no_instance',\n",
       "  'd106.s080.t014',\n",
       "  'no_instance',\n",
       "  'no_instance',\n",
       "  'no_instance',\n",
       "  'no_instance'],\n",
       " 'o restante ( incompleta ) componentes, todos têm um mesmo número de pontos comuns a qualquer argumento , e são definidos apenas em uma forma de sub-intervalo de [ 0 , t ] .']"
      ]
     },
     "execution_count": 976,
     "metadata": {},
     "output_type": "execute_result"
    }
   ],
   "source": [
    "tagged_tr_semcor_r[10000]"
   ]
  },
  {
   "cell_type": "markdown",
   "metadata": {},
   "source": [
    "### Checking target"
   ]
  },
  {
   "cell_type": "code",
   "execution_count": 1068,
   "metadata": {},
   "outputs": [],
   "source": [
    "for instance in tagged_tr_semcor_r:\n",
    "    if len(instance[0]) != len(instance[1].split()):\n",
    "        print(False)"
   ]
  },
  {
   "cell_type": "code",
   "execution_count": 1069,
   "metadata": {},
   "outputs": [
    {
     "data": {
      "text/plain": [
       "3054"
      ]
     },
     "execution_count": 1069,
     "metadata": {},
     "output_type": "execute_result"
    }
   ],
   "source": [
    "# Rouge\n",
    "count_instances_with_verbs(tagged_tr_semcor_r)"
   ]
  },
  {
   "cell_type": "code",
   "execution_count": 1070,
   "metadata": {},
   "outputs": [],
   "source": [
    "for instance in tagged_tr_semcor_b:\n",
    "    if len(instance[0]) != len(instance[1].split()):\n",
    "        print(False)"
   ]
  },
  {
   "cell_type": "code",
   "execution_count": 1071,
   "metadata": {},
   "outputs": [
    {
     "data": {
      "text/plain": [
       "2968"
      ]
     },
     "execution_count": 1071,
     "metadata": {},
     "output_type": "execute_result"
    }
   ],
   "source": [
    "# Bleu\n",
    "count_instances_with_verbs(tagged_tr_semcor_b)"
   ]
  },
  {
   "cell_type": "code",
   "execution_count": 1072,
   "metadata": {},
   "outputs": [],
   "source": [
    "for instance in tagged_tr_semcor_r_b:\n",
    "    if len(instance[0]) != len(instance[1].split()):\n",
    "        print(False)"
   ]
  },
  {
   "cell_type": "code",
   "execution_count": 1073,
   "metadata": {},
   "outputs": [
    {
     "data": {
      "text/plain": [
       "2940"
      ]
     },
     "execution_count": 1073,
     "metadata": {},
     "output_type": "execute_result"
    }
   ],
   "source": [
    "# Rouge and Bleu\n",
    "count_instances_with_verbs(tagged_tr_semcor_r_b)"
   ]
  },
  {
   "cell_type": "markdown",
   "metadata": {},
   "source": [
    "### Annotate target"
   ]
  },
  {
   "cell_type": "code",
   "execution_count": 1074,
   "metadata": {},
   "outputs": [],
   "source": [
    "d_senses = {}\n",
    "with open(Path.cwd() / 'data/WSD_Evaluation_Framework/Training_Corpora/SemCor/semcor.gold.key.txt', 'r') as f:\n",
    "    for line in f.read().split('\\n'):\n",
    "        if len(line):\n",
    "            temp = line.split()\n",
    "            d_senses[temp[0]] = temp[1:]"
   ]
  },
  {
   "cell_type": "code",
   "execution_count": 1161,
   "metadata": {},
   "outputs": [],
   "source": [
    "def save_tagged_sentence(dir_path, tagged_tr, name_file, d_senses, metric, mode='w', wordnet_senses={}):\n",
    "    tagged_sense_sent = []\n",
    "    cont = 0\n",
    "    for instance in tagged_tr:\n",
    "        temp = []\n",
    "        for ix, word in enumerate(instance[1].split()):\n",
    "            if instance[0][ix] != 'no_instance':\n",
    "                if len(wordnet_senses) != 0:\n",
    "                    if d_senses[instance[0][ix]][0] in wordnet_senses:\n",
    "                        temp.append(wordnet_senses[d_senses[instance[0][ix]][0]])\n",
    "                    else:\n",
    "                        cont += 1\n",
    "                        temp.append(word)\n",
    "                else:\n",
    "                    temp.append(d_senses[instance[0][ix]][0])\n",
    "            else:\n",
    "                temp.append(word)\n",
    "\n",
    "        tagged_sense_sent.append(' '.join(temp))\n",
    "\n",
    "    if mode == 'w':\n",
    "        np.save(dir_path / f'{name_file}.npy', np.array(zip(tagged_sense_sent, metric)))\n",
    "    \n",
    "    with open(dir_path / f'{name_file}_out.txt', mode) as file:\n",
    "        for sent in tagged_sense_sent:\n",
    "            file.write(sent + '\\n')\n",
    "    file.close()\n",
    "            \n",
    "    with open(dir_path / f'{name_file}_in.txt', mode) as file:\n",
    "        for sent in tagged_tr:\n",
    "            file.write(sent[1] + '\\n')\n",
    "    file.close()        \n",
    "    return cont"
   ]
  },
  {
   "cell_type": "code",
   "execution_count": 1153,
   "metadata": {},
   "outputs": [],
   "source": [
    "wordnet_senses = {}\n",
    "with open(Path.cwd() / 'data/wordnet/index.sense') as f:\n",
    "    for line in f.read().split('\\n'):\n",
    "        if len(line) > 1:\n",
    "            wordnet_senses[line.split()[0]] = line.split()[1]\n",
    "f.close()"
   ]
  },
  {
   "cell_type": "code",
   "execution_count": 1160,
   "metadata": {},
   "outputs": [
    {
     "name": "stdout",
     "output_type": "stream",
     "text": [
      "Saving rouge\n",
      "0\n",
      "Saving bleu\n",
      "0\n",
      "Saving rouge and bleu\n",
      "0\n"
     ]
    }
   ],
   "source": [
    "print('Saving rouge')\n",
    "print(save_tagged_sentence(Path.cwd() / 'data/disambiguation/semcor', tagged_tr_semcor_r, 'semcor_rouge_map', d_senses, rouge_semcor.take(filtered_ids_semcor_r), wordnet_senses=wordnet_senses))\n",
    "print('Saving bleu')\n",
    "print(save_tagged_sentence(Path.cwd() / 'data/disambiguation/semcor', tagged_tr_semcor_b, 'semcor_bleu_map', d_senses, bleu_semcor.take(filtered_ids_semcor_r), wordnet_senses=wordnet_senses))\n",
    "print('Saving rouge and bleu')\n",
    "print(save_tagged_sentence(Path.cwd() / 'data/disambiguation/semcor', tagged_tr_semcor_r_b, 'semcor_rouge_bleu_map', d_senses, list(zip(rouge_semcor.take(filtered_ids_semcor_r), bleu_semcor.take(filtered_ids_semcor_r))), wordnet_senses=wordnet_senses))"
   ]
  },
  {
   "cell_type": "code",
   "execution_count": 1063,
   "metadata": {},
   "outputs": [
    {
     "data": {
      "text/plain": [
       "['em 9 de dezembro de 1862 , o person%1:03:00:: edwin h. fay , uma invulgar louisianan%1:18:00:: que hold%2:40:00:: uma. ab%1:10:00:: e ma%1:10:00:: um. degree%1:10:00:: da universidade de harvard e que antes da war%1:26:00:: be%2:42:06:: headmaster%1:18:00:: de uma private_school%1:14:00:: private_school%1:14:00:: para boy%1:18:00:: em louisiana%1:15:00:: , write%2:32:00:: a sua wife%1:18:00:: :']"
      ]
     },
     "execution_count": 1063,
     "metadata": {},
     "output_type": "execute_result"
    }
   ],
   "source": [
    "tagged_sense_sent"
   ]
  },
  {
   "cell_type": "code",
   "execution_count": 1064,
   "metadata": {},
   "outputs": [
    {
     "data": {
      "text/plain": [
       "['em 9 de dezembro de 1862 , o person%1:03:00:: edwin h. fay , uma invulgar louisianan%1:18:00:: que hold%2:40:00:: uma. ab%1:10:00:: e ma%1:10:00:: um. degree%1:10:00:: da universidade de harvard e que antes da war%1:26:00:: be%2:42:06:: headmaster%1:18:00:: de uma private_school%1:14:00:: private_school%1:14:00:: para boy%1:18:00:: em louisiana%1:15:00:: , write%2:32:00:: a sua wife%1:18:00:: :']"
      ]
     },
     "execution_count": 1064,
     "metadata": {},
     "output_type": "execute_result"
    }
   ],
   "source": [
    "tagged_sense_sent"
   ]
  },
  {
   "cell_type": "code",
   "execution_count": 645,
   "metadata": {},
   "outputs": [
    {
     "data": {
      "text/plain": [
       "['no_instance',\n",
       " 'no_instance',\n",
       " 'no_instance',\n",
       " 'no_instance',\n",
       " 'no_instance',\n",
       " 'no_instance',\n",
       " 'no_instance',\n",
       " 'no_instance',\n",
       " 'no_instance',\n",
       " 'no_instance',\n",
       " 'no_instance',\n",
       " 'no_instance',\n",
       " 'no_instance',\n",
       " 'd000.s000.t005',\n",
       " 'd000.s000.t005',\n",
       " 'd000.s000.t006',\n",
       " 'no_instance']"
      ]
     },
     "execution_count": 645,
     "metadata": {},
     "output_type": "execute_result"
    }
   ],
   "source": [
    "instance"
   ]
  },
  {
   "cell_type": "code",
   "execution_count": 598,
   "metadata": {},
   "outputs": [
    {
     "data": {
      "text/plain": [
       "[['no_instance',\n",
       "  'no_instance',\n",
       "  'no_instance',\n",
       "  'no_instance',\n",
       "  'no_instance',\n",
       "  'no_instance',\n",
       "  'no_instance',\n",
       "  'no_instance',\n",
       "  'no_instance',\n",
       "  'no_instance',\n",
       "  'no_instance',\n",
       "  'no_instance',\n",
       "  'no_instance',\n",
       "  'd000.s000.t005',\n",
       "  'd000.s000.t005',\n",
       "  'd000.s000.t006',\n",
       "  'no_instance'],\n",
       " 'quanto tempo tem sido desde que reviu os objectivos do seu benefício e serviço de programa ?']"
      ]
     },
     "execution_count": 598,
     "metadata": {},
     "output_type": "execute_result"
    }
   ],
   "source": [
    "tagged_tr_semcor_r[0]"
   ]
  },
  {
   "cell_type": "code",
   "execution_count": 600,
   "metadata": {
    "scrolled": true
   },
   "outputs": [
    {
     "data": {
      "text/plain": [
       "'how long has it been since you reviewed the objectives of your benefit and service program ?'"
      ]
     },
     "execution_count": 600,
     "metadata": {},
     "output_type": "execute_result"
    }
   ],
   "source": [
    "input_sent_semcor[0]"
   ]
  },
  {
   "cell_type": "code",
   "execution_count": 601,
   "metadata": {
    "scrolled": true
   },
   "outputs": [
    {
     "data": {
      "text/plain": [
       "['no_instance',\n",
       " 'd000.s000.t000',\n",
       " 'no_instance',\n",
       " 'no_instance',\n",
       " 'd000.s000.t001',\n",
       " 'no_instance',\n",
       " 'no_instance',\n",
       " 'd000.s000.t002',\n",
       " 'no_instance',\n",
       " 'd000.s000.t003',\n",
       " 'no_instance',\n",
       " 'no_instance',\n",
       " 'd000.s000.t004',\n",
       " 'no_instance',\n",
       " 'd000.s000.t005',\n",
       " 'd000.s000.t006',\n",
       " 'no_instance']"
      ]
     },
     "execution_count": 601,
     "metadata": {},
     "output_type": "execute_result"
    }
   ],
   "source": [
    "target_sent_semcor[0]"
   ]
  },
  {
   "cell_type": "code",
   "execution_count": 642,
   "metadata": {},
   "outputs": [
    {
     "data": {
      "text/plain": [
       "{'d000.s000.t000': ['long%3:00:02::'],\n",
       " 'd000.s000.t001': ['be%2:42:03::'],\n",
       " 'd000.s000.t002': ['review%2:31:00::'],\n",
       " 'd000.s000.t003': ['objective%1:09:00::'],\n",
       " 'd000.s000.t004': ['benefit%1:21:00::'],\n",
       " 'd000.s000.t005': ['service%1:04:07::'],\n",
       " 'd000.s000.t006': ['program%1:09:01::'],\n",
       " 'd000.s001.t000': ['permit%2:41:00::'],\n",
       " 'd000.s001.t001': ['become%2:42:01::'],\n",
       " 'd000.s001.t002': ['giveaway%1:21:00::'],\n",
       " 'd000.s001.t003': ['program%1:09:01::'],\n",
       " 'd000.s001.t004': ['rather%4:02:02::'],\n",
       " 'd000.s001.t005': ['have%2:42:00::'],\n",
       " 'd000.s001.t006': ['goal%1:09:00::'],\n",
       " 'd000.s001.t007': ['improved%3:00:00::'],\n",
       " 'd000.s001.t008': ['employee%1:18:00::'],\n",
       " 'd000.s001.t009': ['morale%1:26:00::'],\n",
       " 'd000.s001.t010': ['consequently%4:02:00::'],\n",
       " 'd000.s001.t011': ['increased%3:00:00::'],\n",
       " 'd000.s001.t012': ['productivity%1:07:00::'],\n",
       " 'd000.s002.t000': ['effort%1:04:00::'],\n",
       " 'd000.s002.t001': ['make%2:41:00::'],\n",
       " 'd000.s002.t002': ['assess%2:31:00::'],\n",
       " 'd000.s002.t003': ['result%1:11:00::'],\n",
       " 'd000.s002.t004': ['program%1:09:01::'],\n",
       " 'd000.s003.t000': ['measure%2:31:01::'],\n",
       " 'd000.s003.t001': ['reduced%3:00:04::'],\n",
       " 'd000.s003.t002': ['absenteeism%1:04:00::'],\n",
       " 'd000.s003.t003': ['turnover%1:24:00::'],\n",
       " 'd000.s003.t004': ['accident%1:11:01::'],\n",
       " 'd000.s003.t005': ['grievance%1:10:01::'],\n",
       " 'd000.s003.t006': ['improved%5:00:00:better:00'],\n",
       " 'd000.s003.t007': ['quality%1:07:00::'],\n",
       " 'd000.s003.t008': ['output%1:04:00::'],\n",
       " 'd000.s004.t000': ['set%2:32:00::'],\n",
       " 'd000.s004.t001': ['specific%3:00:00::'],\n",
       " 'd000.s004.t002': ['objective%1:09:00::'],\n",
       " 'd000.s004.t003': ['employee%1:18:00::'],\n",
       " 'd000.s004.t004': ['publication%1:10:00::'],\n",
       " 'd000.s005.t000': ['reach%2:38:06::'],\n",
       " 'd000.s005.t001': ['goal%1:09:00::'],\n",
       " 'd000.s006.t000': ['be%2:42:03::'],\n",
       " 'd000.s006.t001': ['larger%5:00:00:large:00'],\n",
       " 'd000.s006.t002': ['fancy%3:00:00::'],\n",
       " 'd000.s006.t003': ['really%4:02:03::'],\n",
       " 'd000.s006.t004': ['need%2:34:00::'],\n",
       " 'd000.s007.t000': ['use%2:34:01::'],\n",
       " 'd000.s007.t001': ['most%4:02:00::'],\n",
       " 'd000.s007.t002': ['economical%5:00:00:efficient:00'],\n",
       " 'd000.s007.t003': ['printing%1:04:00::'],\n",
       " 'd000.s007.t004': ['method%1:09:00::'],\n",
       " 'd000.s007.t005': ['paper%1:27:00::'],\n",
       " 'd000.s008.t000': ['be%2:42:00::'],\n",
       " 'd000.s008.t001': ['other%3:00:00::'],\n",
       " 'd000.s008.t002': ['cheap%3:00:00::'],\n",
       " 'd000.s008.t003': ['communication%1:10:01::'],\n",
       " 'd000.s008.t004': ['technique%1:09:00::'],\n",
       " 'd000.s008.t005': ['substitute%2:40:00::'],\n",
       " 'd000.s009.t000': ['attitude%1:09:00::'],\n",
       " 'd000.s009.t001': ['employee%1:18:00::'],\n",
       " 'd000.s009.t002': ['benefit%1:21:00::'],\n",
       " 'd000.s009.t003': ['encourage%2:41:00::'],\n",
       " 'd000.s009.t004': ['excess%1:07:02::'],\n",
       " 'd000.s009.t005': ['free%5:00:00:unpaid:00'],\n",
       " 'd000.s009.t006': ['government%1:14:00::'],\n",
       " 'd000.s009.t007': ['work%1:04:00::'],\n",
       " 'd000.s009.t008': ['plant%1:06:01::'],\n",
       " 'd000.s010.t000': ['purchasing_agent%1:18:00::'],\n",
       " 'd000.s010.t001': ['offer%2:40:02::'],\n",
       " 'd000.s010.t002': ['too_much%4:02:00::'],\n",
       " 'd000.s010.t003': ['free%3:00:00::'],\n",
       " 'd000.s010.t004': ['buying%1:04:00::'],\n",
       " 'd000.s010.t005': ['service%1:14:05::', 'service%1:04:00::'],\n",
       " 'd000.s010.t006': ['employee%1:18:00::'],\n",
       " 'd000.s011.t000': ['improvement%1:04:00::'],\n",
       " 'd000.s011.t001': ['recommend%2:32:01::'],\n",
       " 'd000.s011.t002': ['working%5:00:00:employed:00'],\n",
       " 'd000.s011.t003': ['condition%1:26:00::'],\n",
       " 'd000.s011.t004': ['lighting%1:06:00::'],\n",
       " 'd000.s011.t005': ['restroom%1:06:00::'],\n",
       " 'd000.s011.t006': ['eating%1:04:00::'],\n",
       " 'd000.s011.t007': ['facility%1:06:00::'],\n",
       " 'd000.s011.t008': ['try%2:41:00::'],\n",
       " 'd000.s011.t009': ['set%2:32:00::'],\n",
       " 'd000.s011.t010': ['effectiveness%1:07:00::'],\n",
       " 'd000.s011.t011': ['productivity%1:07:00::'],\n",
       " 'd000.s012.t000': ['negotiate%2:32:00::'],\n",
       " 'd000.s012.t001': ['union%1:14:01::'],\n",
       " 'd000.s012.t002': ['make%2:30:00::'],\n",
       " 'd000.s012.t003': ['sure%5:00:00:careful:00'],\n",
       " 'd000.s012.t004': ['employee%1:18:00::'],\n",
       " 'd000.s012.t005': ['have%2:40:00::'],\n",
       " 'd000.s012.t006': ['choice%1:04:00::'],\n",
       " 'd000.s012.t007': ['new%3:00:00::'],\n",
       " 'd000.s012.t008': ['benefit%1:21:00::'],\n",
       " 'd000.s012.t009': ['cent%1:23:00::'],\n",
       " 'd000.s012.t010': ['hour%1:28:00::'],\n",
       " 'd000.s012.t011': ['cost%1:21:00::'],\n",
       " 'd000.s012.t012': ['wage%1:21:00::'],\n",
       " 'd000.s013.t000': ['consider%2:32:02::'],\n",
       " 'd000.s013.t001': ['restrict%2:30:02::'],\n",
       " 'd000.s013.t002': ['employee%1:18:00::'],\n",
       " 'd000.s013.t003': ['benefit%1:21:00::'],\n",
       " 'd000.s013.t004': ['pay%2:40:00::'],\n",
       " 'd000.s013.t005': ['profit_sharing%1:21:00::'],\n",
       " 'd000.s013.t006': ['money%1:21:00::'],\n",
       " 'd000.s013.t007': ['do%2:41:01::'],\n",
       " 'd000.s013.t008': ['union%1:14:01::'],\n",
       " 'd000.s013.t009': ['contract%1:10:00::'],\n",
       " 'd000.s013.t010': ['recently%4:02:00::'],\n",
       " 'd000.s013.t011': ['sign%2:41:00::'],\n",
       " 'd000.s013.t012': ['group%1:03:00::'],\n",
       " 'd000.s014.t000': ['employee%1:18:00::'],\n",
       " 'd000.s014.t001': ['understand%2:31:00::'],\n",
       " 'd000.s014.t002': ['benefit%1:21:00::'],\n",
       " 'd000.s014.t003': ['insurance%1:10:00::'],\n",
       " 'd000.s014.t004': ['entitle%2:41:00::'],\n",
       " 'd000.s015.t000': ['encourage%2:41:00::'],\n",
       " 'd000.s015.t001': ['take_advantage%2:40:00::'],\n",
       " 'd000.s015.t002': ['full%5:00:01:whole:00'],\n",
       " 'd000.s015.t003': ['legal%3:00:00::'],\n",
       " 'd000.s015.t004': ['benefit%1:21:00::'],\n",
       " 'd000.s016.t000': ['publicize%2:32:01::'],\n",
       " 'd000.s016.t001': ['cent%1:23:00::'],\n",
       " 'd000.s016.t002': ['hour%1:28:00::'],\n",
       " 'd000.s016.t003': ['value%1:09:00::'],\n",
       " 'd000.s016.t004': ['company%1:14:01::'],\n",
       " 'd000.s016.t005': ['share%1:21:00::'],\n",
       " 'd000.s016.t006': ['insurance_premium%1:21:00::'],\n",
       " 'd000.s017.t000': ['last%4:02:00::'],\n",
       " 'd000.s017.t001': ['compare%2:31:00::'],\n",
       " 'd000.s017.t002': ['present%3:00:01::'],\n",
       " 'd000.s017.t003': ['premium%1:21:02::'],\n",
       " 'd000.s017.t004': ['cost%1:07:00::'],\n",
       " 'd000.s017.t005': ['cost%1:07:00::'],\n",
       " 'd000.s017.t006': ['insurance%1:21:02::'],\n",
       " 'd000.s017.t007': ['other%3:00:00::'],\n",
       " 'd000.s017.t008': ['source%1:10:00::'],\n",
       " 'd000.s018.t000': ['insurance_company%1:14:00::'],\n",
       " 'd000.s018.t001': ['aid%2:41:00::'],\n",
       " 'd000.s018.t002': ['reduce%2:30:00::'],\n",
       " 'd000.s018.t003': ['administrative%3:01:00::'],\n",
       " 'd000.s018.t004': ['cost%1:21:00::'],\n",
       " 'd000.s019.t000': ['try%2:41:00::'],\n",
       " 'd000.s019.t001': ['maintain%2:40:00::'],\n",
       " 'd000.s019.t002': ['principle%1:09:01::'],\n",
       " 'd000.s019.t003': ['employee%1:18:00::'],\n",
       " 'd000.s019.t004': ['contribute%2:40:00::'],\n",
       " 'd000.s019.t005': ['oppose%2:42:00::'],\n",
       " 'd000.s019.t006': ['fully%4:02:03::'],\n",
       " 'd000.s019.t007': ['company%1:14:01::'],\n",
       " 'd000.s019.t008': ['paid%3:00:00::'],\n",
       " 'd000.s019.t009': ['program%1:09:00::'],\n",
       " 'd000.s020.t000': ['protect%2:33:00::'],\n",
       " 'd000.s020.t001': ['holiday%1:28:01::'],\n",
       " 'd000.s020.t002': ['privilege%1:07:02::'],\n",
       " 'd000.s020.t003': ['attendance%1:04:00::'],\n",
       " 'd000.s020.t004': ['requirement%1:09:01::'],\n",
       " 'd000.s020.t005': ['holiday%1:28:00::'],\n",
       " 'd000.s021.t000': ['plan%2:31:01::'],\n",
       " 'd000.s021.t001': ['limit%2:30:00::'],\n",
       " 'd000.s021.t002': ['holiday%1:28:00::'],\n",
       " 'd000.s021.t003': ['area%1:15:01::'],\n",
       " 'd000.s021.t004': ['pattern%1:04:00::'],\n",
       " 'd000.s022.t000': ['investigate%2:32:00::'],\n",
       " 'd000.s022.t001': ['possibility%1:09:01::'],\n",
       " 'd000.s022.t002': ['move%2:38:01::'],\n",
       " 'd000.s022.t003': ['holiday%1:28:01::'],\n",
       " 'd000.s022.t004': ['forward%4:02:02::'],\n",
       " 'd000.s022.t005': ['monday%1:28:00::'],\n",
       " 'd000.s022.t006': ['back%4:02:01::'],\n",
       " 'd000.s022.t007': ['friday%1:28:00::'],\n",
       " 'd000.s022.t008': ['have%2:40:00::'],\n",
       " 'd000.s022.t009': ['uninterrupted%5:00:00:unbroken:02'],\n",
       " 'd000.s022.t010': ['work%1:04:00::'],\n",
       " 'd000.s022.t011': ['week%1:28:01::'],\n",
       " 'd000.s023.t000': ['carefully%4:02:00::'],\n",
       " 'd000.s023.t001': ['police%2:41:00::'],\n",
       " 'd000.s023.t002': ['washup%1:04:00::'],\n",
       " 'd000.s023.t003': ['time%1:11:00::'],\n",
       " 'd000.s023.t004': ['rest%1:04:00::'],\n",
       " 'd000.s023.t005': ['period%1:28:00::'],\n",
       " 'd000.s023.t006': ['be%2:42:03::'],\n",
       " 'd000.s023.t007': ['certain%3:00:02::'],\n",
       " 'd000.s023.t008': ['all%3:00:00::'],\n",
       " 'd000.s023.t009': ['other%3:00:00::'],\n",
       " 'd000.s023.t010': ['time%1:11:00::'],\n",
       " 'd000.s023.t011': ['be%2:42:03::'],\n",
       " 'd000.s023.t012': ['productive%3:00:00::'],\n",
       " 'd000.s024.t000': ['watch%2:41:00::'],\n",
       " 'd000.s024.t001': ['work%1:04:00::'],\n",
       " 'd000.s024.t002': ['schedule%1:09:00::'],\n",
       " 'd000.s024.t003': ['boiler%1:06:00::'],\n",
       " 'd000.s024.t004': ['operator%1:18:00::'],\n",
       " 'd000.s024.t005': ['guard%1:18:03::'],\n",
       " 'd000.s024.t006': ['other%3:00:00::'],\n",
       " 'd000.s024.t007': ['24%5:00:00:cardinal:00'],\n",
       " 'd000.s024.t008': ['hour%1:28:00::'],\n",
       " 'd000.s024.t009': ['day%1:28:00::'],\n",
       " 'd000.s024.t010': ['7%5:00:00:cardinal:00'],\n",
       " 'd000.s024.t011': ['day%1:28:00::'],\n",
       " 'd000.s024.t012': ['week%1:28:00::'],\n",
       " 'd000.s024.t013': ['operation%1:26:00::'],\n",
       " 'd000.s024.t014': ['minimize%2:30:00::'],\n",
       " 'd000.s024.t015': ['overtime%1:28:01::'],\n",
       " 'd000.s025.t000': ['careful%3:00:00::'],\n",
       " 'd000.s025.t001': ['restrict%2:30:02::'],\n",
       " 'd000.s025.t002': ['number%1:07:00::'],\n",
       " 'd000.s025.t003': ['people%1:14:00::'],\n",
       " 'd000.s025.t004': ['at_one_time%4:02:00::'],\n",
       " 'd000.s025.t005': ['so%4:02:06::'],\n",
       " 'd000.s025.t006': ['total%5:00:00:whole:00'],\n",
       " 'd000.s025.t007': ['employment%1:04:02::'],\n",
       " 'd000.s025.t008': ['obligation%1:26:00::'],\n",
       " 'd000.s025.t009': ['be%2:42:03::'],\n",
       " 'd000.s025.t010': ['minimized%5:00:02:decreased:00'],\n",
       " 'd000.s026.t000': ['consider%2:31:01::'],\n",
       " 'd000.s026.t001': ['use%2:34:01::'],\n",
       " 'd000.s026.t002': ['vending%1:04:00::'],\n",
       " 'd000.s026.t003': ['equipment%1:06:00::'],\n",
       " 'd000.s026.t004': ['replace%2:30:00::'],\n",
       " 'd000.s026.t005': ['reduce%2:30:00::'],\n",
       " 'd000.s026.t006': ['number%1:07:00::'],\n",
       " 'd000.s026.t007': ['cafeteria%1:06:00::'],\n",
       " 'd000.s026.t008': ['employee%1:18:00::'],\n",
       " 'd000.s027.t000': ['be%2:42:06::'],\n",
       " 'd000.s027.t001': ['possibility%1:09:03::'],\n",
       " 'd000.s027.t002': ['operate%2:41:00::'],\n",
       " 'd000.s027.t003': ['cafeteria%1:06:00::'],\n",
       " 'd000.s027.t004': ['single%3:00:00::'],\n",
       " 'd000.s027.t005': ['shift%1:28:00::'],\n",
       " 'd000.s027.t006': ['only%4:02:01::'],\n",
       " 'd000.s027.t007': ['vending_machine%1:06:00::'],\n",
       " 'd000.s027.t008': ['prepackaged%5:00:00:packaged:00'],\n",
       " 'd000.s027.t009': ['sandwich%1:13:00::'],\n",
       " 'd000.s027.t010': ['shift%1:28:00::'],\n",
       " 'd000.s027.t011': ['operation%1:04:06::'],\n",
       " 'd000.s028.t000': ['check%2:31:00::'],\n",
       " 'd000.s028.t001': ['cost%1:21:00::'],\n",
       " 'd000.s028.t002': ['subcontract%2:41:01::'],\n",
       " 'd000.s028.t003': ['cafeteria%1:06:00::'],\n",
       " 'd000.s028.t004': ['operation%1:04:06::'],\n",
       " 'd000.s028.t005': ['save%2:40:00::'],\n",
       " 'd000.s028.t006': ['administrative%3:01:00::'],\n",
       " 'd000.s028.t007': ['cost%1:21:00::'],\n",
       " 'd000.s029.t000': ['possibility%1:09:03::'],\n",
       " 'd000.s029.t001': ['cafeteria%1:06:00::'],\n",
       " 'd000.s029.t002': ['help%1:18:00::'],\n",
       " 'd000.s029.t003': ['work%2:41:00::'],\n",
       " 'd000.s029.t004': ['part-time%3:00:00::'],\n",
       " 'd000.s029.t005': ['custodial%5:00:00:protective:00'],\n",
       " 'd000.s029.t006': ['other%3:00:00::'],\n",
       " 'd000.s029.t007': ['job%1:04:01::'],\n",
       " 'd000.s030.t000': ['stagger%2:35:00::'],\n",
       " 'd000.s030.t001': ['lunch%1:13:00::'],\n",
       " 'd000.s030.t002': ['period%1:28:00::'],\n",
       " 'd000.s030.t003': ['relieve%2:29:00::'],\n",
       " 'd000.s030.t004': ['capacity%1:23:00::'],\n",
       " 'd000.s030.t005': ['strain%1:19:00::'],\n",
       " 'd000.s030.t006': ['feeding%1:04:01::'],\n",
       " 'd000.s030.t007': ['facility%1:06:00::'],\n",
       " 'd000.s031.t000': ['feasible%5:00:00:possible:00'],\n",
       " 'd000.s031.t001': ['limit%2:30:00::'],\n",
       " 'd000.s031.t002': ['menu%1:10:00::'],\n",
       " 'd000.s031.t003': ['reduce%2:30:00::'],\n",
       " 'd000.s031.t004': ['feeding%1:04:01::'],\n",
       " 'd000.s031.t005': ['cost%1:21:00::'],\n",
       " 'd000.s032.t000': ['consider%2:31:01::'],\n",
       " 'd000.s032.t001': ['gradual%3:00:01::'],\n",
       " 'd000.s032.t002': ['withdrawal%1:04:03::'],\n",
       " 'd000.s032.t003': ['subsidy%1:21:00::'],\n",
       " 'd000.s032.t004': ['plant%1:06:01::'],\n",
       " 'd000.s032.t005': ['feeding%1:04:00::'],\n",
       " 'd000.s032.t006': ['operation%1:04:06::'],\n",
       " 'd000.s033.t000': ['utilize%2:34:00::'],\n",
       " 'd000.s033.t001': ['cafeteria%1:06:00::'],\n",
       " 'd000.s033.t002': ['space%1:15:00::'],\n",
       " 'd000.s033.t003': ['company%1:14:01::'],\n",
       " 'd000.s033.t004': ['meeting%1:14:00::'],\n",
       " 'd000.s033.t005': ['discussion%1:10:02::'],\n",
       " 'd000.s034.t000': ['expense%1:21:00::'],\n",
       " 'd000.s034.t001': ['area%1:26:00::'],\n",
       " 'd000.s034.t002': ['commensurate%3:00:00::'],\n",
       " 'd000.s034.t003': ['number%1:07:00::'],\n",
       " 'd000.s034.t004': ['employee%1:18:00::'],\n",
       " 'd000.s034.t005': ['benefit%2:40:00::'],\n",
       " 'd000.s034.t006': ['program%1:09:01::'],\n",
       " 'd000.s035.t000': ['audit%2:31:01::'],\n",
       " 'd000.s035.t001': ['program%1:09:01::'],\n",
       " 'd000.s035.t002': ['recently%4:02:00::'],\n",
       " 'd000.s035.t003': ['weed_out%2:40:00::'],\n",
       " 'd000.s035.t004': ['phase%1:28:00::'],\n",
       " 'd000.s035.t005': ['least%3:00:00::'],\n",
       " 'd000.s035.t006': ['participation%1:04:00::'],\n",
       " 'd000.s036.t000': ['employee%1:18:00::'],\n",
       " 'd000.s036.t001': ['contribute%2:40:00::'],\n",
       " 'd000.s036.t002': ['share%1:21:00::'],\n",
       " 'd000.s036.t003': ['money%1:21:00::'],\n",
       " 'd000.s036.t004': ['recreational_facility%1:06:00::'],\n",
       " 'd000.s037.t000': ['consider%2:31:01::'],\n",
       " 'd000.s037.t001': ['delegate%2:41:01::'],\n",
       " 'd000.s037.t002': ['operational%3:01:00::'],\n",
       " 'd000.s037.t003': ['responsibility%1:04:00::'],\n",
       " 'd000.s037.t004': ['employee%1:18:00::'],\n",
       " 'd000.s037.t005': ['association%1:14:00::'],\n",
       " 'd000.s037.t006': ['carefully%4:02:00::'],\n",
       " 'd000.s037.t007': ['restrict%2:30:00::'],\n",
       " 'd000.s037.t008': ['plant%1:06:01::'],\n",
       " 'd000.s037.t009': ['financial%3:01:00::'],\n",
       " 'd000.s037.t010': ['contribution%1:21:01::'],\n",
       " 'd000.s038.t000': ['employee%1:18:00::'],\n",
       " 'd000.s038.t001': ['garden%1:14:00::'],\n",
       " 'd000.s038.t002': ['club%1:14:00::'],\n",
       " 'd000.s038.t003': ['take_over%2:41:01::'],\n",
       " 'd000.s038.t004': ['partial%5:00:00:incomplete:00'],\n",
       " 'd000.s038.t005': ['care%1:04:00::'],\n",
       " 'd000.s038.t006': ['plant%1:06:01::'],\n",
       " 'd000.s038.t007': ['grounds%1:06:00::'],\n",
       " 'd000.s039.t000': ['camera%1:06:00::'],\n",
       " 'd000.s039.t001': ['club%1:14:00::'],\n",
       " 'd000.s039.t002': ['be%2:42:03::'],\n",
       " 'd000.s039.t003': ['useful%3:00:00::'],\n",
       " 'd000.s039.t004': ['take%2:32:02::'],\n",
       " 'd000.s039.t005': ['picture%1:06:00::'],\n",
       " 'd000.s039.t006': ['pertinent%5:00:00:relevant:00'],\n",
       " 'd000.s039.t007': ['plant%1:06:01::'],\n",
       " 'd000.s039.t008': ['safety%1:26:00::'],\n",
       " 'd000.s040.t000': ['spending%1:04:00::'],\n",
       " 'd000.s040.t001': ['too%4:02:00::'],\n",
       " 'd000.s040.t002': ['much%3:00:00::'],\n",
       " 'd000.s040.t003': ['money%1:21:00::'],\n",
       " 'd000.s040.t004': ['team%1:14:00::'],\n",
       " 'd000.s040.t005': ['uniform%1:06:00::'],\n",
       " 'd000.s040.t006': ['benefit%2:40:01::'],\n",
       " 'd000.s040.t007': ['only%4:02:02::'],\n",
       " 'd000.s040.t008': ['a_few%5:00:00:few:00'],\n",
       " 'd000.s040.t009': ['employee%1:18:00::'],\n",
       " 'd000.s041.t000': ['underwrite%2:32:01::'],\n",
       " 'd000.s041.t001': ['expensive%3:00:00::'],\n",
       " 'd000.s041.t002': ['team%1:14:00::'],\n",
       " 'd000.s041.t003': ['trip%1:04:00::'],\n",
       " 'd000.s042.t000': ['utilize%2:34:00::'],\n",
       " 'd000.s042.t001': ['vending_machine%1:06:00::'],\n",
       " 'd000.s042.t002': ['proceeds%1:21:00::'],\n",
       " 'd000.s042.t003': ['help%2:41:00::'],\n",
       " 'd000.s042.t004': ['pay%2:40:00::'],\n",
       " 'd000.s042.t005': ['program%1:09:01::'],\n",
       " 'd000.s043.t000': ['know%2:31:01::'],\n",
       " 'd000.s043.t001': ['trend%1:15:01::'],\n",
       " 'd000.s043.t002': ['cost%1:21:00::'],\n",
       " 'd000.s043.t003': ['maintain%2:40:00::'],\n",
       " 'd000.s043.t004': ['access_road%1:06:00::'],\n",
       " 'd000.s043.t005': ['parking_lot%1:15:00::'],\n",
       " 'd000.s044.t000': ['use%2:34:01::'],\n",
       " 'd000.s044.t001': ['parking%1:23:00::'],\n",
       " 'd000.s044.t002': ['attendant%1:18:00::'],\n",
       " 'd000.s044.t003': ['replace%2:30:00::'],\n",
       " 'd000.s044.t004': ['automatic%5:00:00:mechanical:00'],\n",
       " 'd000.s044.t005': ['parking%1:23:00::'],\n",
       " 'd000.s044.t006': ['gate%1:06:00::'],\n",
       " 'd000.s045.t000': ['local%3:00:01::'],\n",
       " 'd000.s045.t001': ['bus_company%1:14:00::'],\n",
       " 'd000.s045.t002': ['erect%2:36:00::'],\n",
       " 'd000.s045.t003': ['maintain%2:40:00::'],\n",
       " 'd000.s045.t004': ['bus_stop%1:15:00::'],\n",
       " 'd000.s045.t005': ['plant%1:06:01::'],\n",
       " 'd000.s046.t000': ['provide%2:40:00::'],\n",
       " 'd000.s046.t001': ['plant%1:06:01::'],\n",
       " 'd000.s046.t002': ['transportation%1:06:00::'],\n",
       " 'd000.s046.t003': ['replace%2:30:00::'],\n",
       " 'd000.s046.t004': ['available%3:00:00::'],\n",
       " 'd000.s046.t005': ['public%5:00:00:common:02', 'public%3:00:00::'],\n",
       " 'd000.s046.t006': ['transportation%1:06:00::'],\n",
       " 'd000.s047.t000': ['use%2:34:01::'],\n",
       " 'd000.s047.t001': ['company%1:14:01::'],\n",
       " 'd000.s047.t002': ['transportation%1:06:00::'],\n",
       " 'd000.s047.t003': ['train%1:06:00::'],\n",
       " 'd000.s047.t004': ['haul%2:35:00::'],\n",
       " 'd000.s047.t005': ['visitor%1:18:00::'],\n",
       " 'd000.s047.t006': ['taxi%1:06:00::'],\n",
       " 'd000.s047.t007': ['be%2:42:03::'],\n",
       " 'd000.s047.t008': ['cheap%3:00:00::'],\n",
       " 'd000.s048.t000': ['efficient%3:00:00::'],\n",
       " 'd000.s048.t001': ['necessary%3:00:00::'],\n",
       " 'd000.s048.t002': ['be%2:42:03::'],\n",
       " 'd000.s048.t003': ['company%1:14:01::'],\n",
       " 'd000.s048.t004': ['vehicle%1:06:00::'],\n",
       " 'd000.s049.t000': ['reschedule%2:32:00::'],\n",
       " 'd000.s050.t000': ['part-time%3:00:00::'],\n",
       " 'd000.s050.t001': ['driver%1:18:00::'],\n",
       " 'd000.s050.t002': ['assign%2:41:00::'],\n",
       " 'd000.s050.t003': ['other%3:00:00::'],\n",
       " 'd000.s050.t004': ['productive%3:00:00::'],\n",
       " 'd000.s050.t005': ['work%1:04:00::'],\n",
       " 'd000.s051.t000': ['be%2:42:03::'],\n",
       " 'd000.s051.t001': ['more%4:02:00::'],\n",
       " 'd000.s051.t002': ['economical%5:00:00:efficient:00'],\n",
       " 'd000.s051.t003': ['plant%1:06:01::'],\n",
       " 'd000.s051.t004': ['vacation%1:28:00::'],\n",
       " 'd000.s051.t005': ['shutdown%1:04:00::'],\n",
       " 'd000.s051.t006': ['spaced%5:00:00:distributed:00'],\n",
       " 'd000.s051.t007': ['vacation%1:28:00::'],\n",
       " 'd000.s051.t008': ['require%2:42:00::'],\n",
       " 'd000.s051.t009': ['extra%5:00:00:unnecessary:00'],\n",
       " 'd000.s051.t010': ['employee%1:18:00::'],\n",
       " 'd000.s051.t011': ['vacation%1:28:00::'],\n",
       " 'd000.s051.t012': ['fill-in%1:18:00::'],\n",
       " 'd000.s052.t000': ['vacation%1:28:00::'],\n",
       " 'd000.s052.t001': ['space%2:38:00::'],\n",
       " 'd000.s052.t002': ['12%5:00:00:cardinal:00'],\n",
       " 'd000.s052.t003': ['month%1:28:01::'],\n",
       " 'd000.s052.t004': ['minimize%2:30:00::'],\n",
       " 'd000.s052.t005': ['number%1:07:00::'],\n",
       " 'd000.s052.t006': ['employee%1:18:00::'],\n",
       " 'd000.s052.t007': ['fill-in%1:18:00::'],\n",
       " 'd000.s053.t000': ['insist%2:32:00::'],\n",
       " 'd000.s053.t001': ['unneeded%3:00:00::'],\n",
       " 'd000.s053.t002': ['salary%1:21:00::'],\n",
       " 'd000.s053.t003': ['employee%1:18:00::'],\n",
       " 'd000.s053.t004': ['take%2:40:06::'],\n",
       " 'd000.s053.t005': ['vacation%1:28:00::'],\n",
       " 'd000.s053.t006': ['plant%1:06:01::'],\n",
       " 'd000.s053.t007': ['shutdown%1:04:00::'],\n",
       " 'd000.s054.t000': ['sale%1:04:02::'],\n",
       " 'd000.s054.t001': ['purchasing_department%1:14:00::'],\n",
       " 'd000.s054.t002': ['do%2:41:01::'],\n",
       " 'd000.s054.t003': ['curtail%2:30:00::'],\n",
       " 'd000.s054.t004': ['order%1:10:01::'],\n",
       " 'd000.s054.t005': ['shipment%1:04:00::'],\n",
       " 'd000.s054.t006': ['receipt%1:04:00::'],\n",
       " 'd000.s054.t007': ['vacation%1:28:00::'],\n",
       " 'd000.s054.t008': ['shutdown%1:04:00::'],\n",
       " 'd000.s054.t009': ['period%1:28:00::'],\n",
       " 'd000.s055.t000': ['arbitrary%3:00:00::'],\n",
       " 'd000.s055.t001': ['retirement%1:26:00::'],\n",
       " 'd000.s055.t002': ['age%1:07:00::'],\n",
       " 'd000.s055.t003': ['actually%4:02:01::'],\n",
       " 'd000.s055.t004': ['cost%2:42:01::'],\n",
       " 'd000.s055.t005': ['plant%1:06:01::'],\n",
       " 'd000.s055.t006': ['money%1:21:00::'],\n",
       " 'd000.s056.t000': ['sort%1:09:00::'],\n",
       " 'd000.s056.t001': ['effort%1:04:00::'],\n",
       " 'd000.s056.t002': ['make%2:41:00::'],\n",
       " 'd000.s056.t003': ['assure%2:31:00::'],\n",
       " 'd000.s056.t004': ['old%3:00:02::'],\n",
       " 'd000.s056.t005': ['disabled%5:00:00:unfit:01'],\n",
       " 'd000.s056.t006': ['worker%1:18:00::'],\n",
       " 'd000.s056.t007': ['be%2:42:03::'],\n",
       " 'd000.s056.t008': ['fully%4:02:02::'],\n",
       " 'd000.s056.t009': ['productive%3:00:00::'],\n",
       " 'd000.s057.t000': ['early%3:00:00::'],\n",
       " 'd000.s057.t001': ['retirement%1:26:00::'],\n",
       " 'd000.s057.t002': ['nonproductive%5:00:00:unproductive:00'],\n",
       " 'd000.s057.t003': ['disabled%5:00:00:unfit:01'],\n",
       " 'd000.s057.t004': ['employee%1:18:00::'],\n",
       " 'd000.s057.t005': ['reduce%2:30:00::'],\n",
       " 'd000.s057.t006': ['number%1:07:00::'],\n",
       " 'd000.s057.t007': ['make-work%1:04:00::'],\n",
       " 'd000.s057.t008': ['job%1:04:00::'],\n",
       " 'd000.s058.t000': ['union%1:14:01::'],\n",
       " 'd000.s058.t001': ['accept%2:32:00::'],\n",
       " 'd000.s058.t002': ['seniority%1:26:00::'],\n",
       " 'd000.s058.t003': ['concession%1:10:00::'],\n",
       " 'd000.s058.t004': ['assign%2:41:00::'],\n",
       " 'd000.s058.t005': ['work%1:04:00::'],\n",
       " 'd000.s058.t006': ['old%3:00:02::'],\n",
       " 'd000.s058.t007': ['disabled%5:00:00:unfit:01'],\n",
       " 'd000.s058.t008': ['employee%1:18:00::'],\n",
       " 'd000.s059.t000': ['share%2:40:02::'],\n",
       " 'd000.s059.t001': ['medical%3:01:00::'],\n",
       " 'd000.s059.t002': ['facility%1:06:00::'],\n",
       " 'd000.s059.t003': ['staff%1:14:01::'],\n",
       " 'd000.s059.t004': ['plant%1:06:01::'],\n",
       " 'd000.s060.t000': ['have%2:40:00::'],\n",
       " 'd000.s060.t001': ['full-time%3:00:00::'],\n",
       " 'd000.s060.t002': ['doctor%1:18:00::'],\n",
       " 'd000.s060.t003': ['now%4:02:05::'],\n",
       " 'd000.s060.t004': ['replace%2:30:00::'],\n",
       " 'd000.s060.t005': ['part-time%3:00:00::'],\n",
       " 'd000.s060.t006': ['doctor%1:18:00::'],\n",
       " 'd000.s060.t007': ['serve%2:33:00::'],\n",
       " 'd000.s060.t008': ['fee%1:21:00::'],\n",
       " 'd000.s060.t009': ['case%1:18:03::'],\n",
       " 'd000.s060.t010': ['basis%1:24:00::'],\n",
       " 'd000.s060.t011': ['only%4:02:01::'],\n",
       " 'd000.s061.t000': ['plant%1:06:01::'],\n",
       " 'd000.s061.t001': ['nurse%1:18:00::'],\n",
       " 'd000.s061.t002': ['replace%2:30:00::'],\n",
       " 'd000.s061.t003': ['first_aid%1:04:00::'],\n",
       " 'd000.s061.t004': ['man%1:18:04::'],\n",
       " 'd000.s061.t005': ['work%2:41:00::'],\n",
       " 'd000.s061.t006': ['full-time%4:02:00::'],\n",
       " 'd000.s061.t007': ['some_other%5:00:00:other:00'],\n",
       " 'd000.s061.t008': ['assignment%1:04:00::'],\n",
       " 'd000.s062.t000': ['rigidly%4:02:00::'],\n",
       " 'd000.s062.t001': ['distinguish%2:31:00::'],\n",
       " 'd000.s062.t002': ['job%1:04:00::'],\n",
       " 'd000.s062.t003': ['job%1:04:00::'],\n",
       " 'd000.s062.t004': ['connected%5:00:00:related:02'],\n",
       " 'd000.s062.t005': ['health_problem%1:26:00::'],\n",
       " 'd000.s062.t006': ['avoid%2:41:03::'],\n",
       " 'd000.s062.t007': ['treat%2:29:00::'],\n",
       " 'd000.s063.t000': ['indiscriminately%4:02:00::'],\n",
       " 'd000.s063.t001': ['offer%2:40:02::'],\n",
       " 'd000.s063.t002': ['unnecessary%3:00:00::'],\n",
       " 'd000.s063.t003': ['medical%3:01:00::'],\n",
       " 'd000.s063.t004': ['services%1:04:00::'],\n",
       " 'd000.s063.t005': ['flu%1:26:00::'],\n",
       " 'd000.s063.t006': ['shot%1:04:03::'],\n",
       " 'd000.s063.t007': ['sun%1:19:00::'],\n",
       " 'd000.s063.t008': ['lamp%1:06:00::'],\n",
       " 'd000.s063.t009': ['treatment%1:04:00::'],\n",
       " 'd000.s064.t000': ['have%2:40:00::'],\n",
       " 'd000.s064.t001': ['regular%5:00:00:scheduled:00'],\n",
       " 'd000.s064.t002': ['physical%3:00:00::'],\n",
       " 'd000.s064.t003': ['examination%1:04:00::'],\n",
       " 'd000.s064.t004': ['program%1:09:01::'],\n",
       " 'd000.s064.t005': ['be%2:42:03::'],\n",
       " 'd000.s064.t006': ['worth%5:00:00:valuable:00'],\n",
       " 'd000.s064.t007': ['cost%2:42:01::'],\n",
       " 'd000.s065.t000': ['consider%2:32:00::'],\n",
       " 'd000.s065.t001': ['afford%2:34:00::'],\n",
       " 'd000.s065.t002': ['spend%2:40:00::'],\n",
       " 'd000.s065.t003': ['goal%1:09:00::'],\n",
       " 'd000.s065.t004': ['be%2:42:06::'],\n",
       " 'd000.s065.t005': ['set_up%2:41:02::'],\n",
       " 'd000.s065.t006': ['revamp%2:30:00::'],\n",
       " 'd000.s065.t007': ['employee%1:18:00::'],\n",
       " 'd000.s065.t008': ['benefit%1:21:00::'],\n",
       " 'd000.s065.t009': ['program%1:09:01::'],\n",
       " 'd000.s066.t000': ['too%4:02:00::'],\n",
       " 'd000.s066.t001': ['many%3:00:00::'],\n",
       " 'd000.s066.t002': ['plant%1:06:01::'],\n",
       " 'd000.s066.t003': ['official%1:18:01::'],\n",
       " 'd000.s066.t004': ['be%2:42:03::'],\n",
       " 'd000.s066.t005': ['all_too%4:02:00::'],\n",
       " 'd000.s066.t006': ['eager%3:00:00::'],\n",
       " 'd000.s066.t007': ['buy%2:40:00::'],\n",
       " 'd000.s066.t008': ['package%1:06:00::'],\n",
       " 'd000.s066.t009': ['program%1:09:00::'],\n",
       " 'd000.s066.t010': ['insurance_company%1:14:00::'],\n",
       " 'd000.s066.t011': ['simply%4:02:00::'],\n",
       " 'd000.s066.t012': ['work%2:41:03::'],\n",
       " 'd000.s066.t013': ['plant%1:06:01::'],\n",
       " 'd000.s067.t000': ['even%4:02:00::'],\n",
       " 'd000.s067.t001': ['other%3:00:00::'],\n",
       " 'd000.s067.t002': ['plant%1:06:01::'],\n",
       " 'd000.s067.t003': ['employ%2:41:00::'],\n",
       " 'd000.s067.t004': ['same%3:00:04::'],\n",
       " 'd000.s067.t005': ['number%1:23:00::'],\n",
       " 'd000.s067.t006': ['worker%1:18:00::'],\n",
       " 'd000.s067.t007': ['make%2:36:01::'],\n",
       " 'd000.s067.t008': ['same%3:00:02::'],\n",
       " 'd000.s067.t009': ['product%1:06:00::'],\n",
       " 'd000.s067.t010': ['be%2:42:00::'],\n",
       " 'd000.s067.t011': ['other%3:00:00::'],\n",
       " 'd000.s067.t012': ['fact%1:09:01::'],\n",
       " 'd000.s067.t013': ['consider%2:32:00::'],\n",
       " 'd000.s068.t000': ['be%2:42:03::'],\n",
       " 'd000.s068.t001': ['working%5:00:00:employed:00'],\n",
       " 'd000.s068.t002': ['force%1:14:00::'],\n",
       " 'd000.s069.t000': ['profit_margin%1:21:00::'],\n",
       " 'd000.s070.t000': ['section%1:15:01::'],\n",
       " 'd000.s070.t001': ['country%1:15:00::'],\n",
       " 'd000.s070.t002': ['be%2:42:05::'],\n",
       " 'd000.s070.t003': ['located%5:00:00:settled:01'],\n",
       " 'd000.s071.t000': ['be%2:42:05::'],\n",
       " 'd000.s071.t001': ['rural%3:00:00::'],\n",
       " 'd000.s071.t002': ['urban_area%1:15:00::'],\n",
       " 'd000.s072.t000': ['factor%1:11:00::'],\n",
       " 'd000.s072.t001': ['make%2:36:00::'],\n",
       " 'd000.s072.t002': ['difference%1:07:00::'],\n",
       " 'd000.s072.t003': ['waste%1:04:00::'],\n",
       " 'd000.s072.t004': ['efficiency%1:09:00::'],\n",
       " 'd000.s072.t005': ['benefit%1:21:00::'],\n",
       " 'd000.s072.t006': ['program%1:09:00::'],\n",
       " 'd000.s073.t000': ['above_all%4:02:00::'],\n",
       " 'd000.s073.t001': ['extravagant%5:00:00:wasteful:00'],\n",
       " 'd000.s073.t002': ['fringe_benefit%1:21:00::'],\n",
       " 'd000.s073.t003': ['just%4:02:00::'],\n",
       " 'd000.s073.t004': ['buy%2:40:02::'],\n",
       " 'd000.s073.t005': ['employee%1:18:00::'],\n",
       " 'd000.s073.t006': ['good_will%1:07:00::'],\n",
       " 'd000.s074.t000': ['union%1:14:01::'],\n",
       " 'd000.s074.t001': ['stress%2:32:00::'],\n",
       " 'd000.s074.t002': ['fringe_benefit%1:21:00::'],\n",
       " 'd000.s074.t003': ['individual%5:00:00:independent:00'],\n",
       " 'd000.s074.t004': ['worker%1:18:00::'],\n",
       " 'd000.s074.t005': ['prefer%2:37:00::'],\n",
       " 'd000.s074.t006': ['cash%1:21:00::'],\n",
       " 'd000.s074.t007': ['time%1:11:00::'],\n",
       " 'd000.s075.t000': ['aim%2:31:01::'],\n",
       " 'd000.s075.t001': ['balance%2:40:00::'],\n",
       " 'd000.s075.t002': ['employee%1:18:00::'],\n",
       " 'd000.s075.t003': ['benefit%1:21:00::'],\n",
       " 'd000.s075.t004': ['package%1:14:00::'],\n",
       " 'd000.s076.t000': ['plant%1:06:01::'],\n",
       " 'd000.s076.t001': ['go%2:41:00::'],\n",
       " 'd000.s076.t002': ['overboard%4:02:01::'],\n",
       " 'd000.s076.t003': ['type%1:09:00::'],\n",
       " 'd000.s076.t004': ['fringe%1:25:00::'],\n",
       " 'd000.s076.t005': ['say%2:32:03::'],\n",
       " 'd000.s076.t006': ['liberal%5:00:00:generous:01'],\n",
       " 'd000.s076.t007': ['retirement%1:26:00::'],\n",
       " 'd000.s076.t008': ['plan%1:09:00::'],\n",
       " 'd000.s076.t009': ['find%2:39:05::'],\n",
       " 'd000.s076.t010': ['vulnerable%3:00:00::'],\n",
       " 'd000.s076.t011': ['elsewhere%4:02:00::'],\n",
       " 'd000.s077.t000': ['ask_for%2:37:00::'],\n",
       " 'd000.s077.t001': ['union%1:14:01::'],\n",
       " 'd000.s077.t002': ['trouble%1:11:01::'],\n",
       " 'd000.s078.t000': ['want%2:34:00::'],\n",
       " 'd000.s078.t001': ['credit%1:10:00::'],\n",
       " 'd000.s078.t002': ['employee%1:18:00::'],\n",
       " 'd000.s078.t003': ['services%1:04:00::'],\n",
       " 'd000.s078.t004': ['program%1:09:00::'],\n",
       " 'd000.s078.t005': ['let%2:32:00::'],\n",
       " 'd000.s078.t006': ['worker%1:18:00::'],\n",
       " 'd000.s078.t007': ['know%2:31:01::'],\n",
       " 'd000.s078.t008': ['entitle%2:41:00::'],\n",
       " 'd000.s079.t000': ['encourage%2:37:00::'],\n",
       " 'd000.s079.t001': ['exercise%2:34:00::'],\n",
       " 'd000.s079.t002': ['benefit%1:07:00::'],\n",
       " 'd000.s080.t000': ['do%2:41:01::'],\n",
       " 'd000.s080.t001': ['story%1:10:03::'],\n",
       " 'd000.s080.t002': ['house_organ%1:10:00::'],\n",
       " 'd000.s080.t003': ['poster%1:10:00::'],\n",
       " 'd000.s080.t004': ['special%5:00:00:extraordinary:00'],\n",
       " 'd000.s080.t005': ['publication%1:10:00::'],\n",
       " 'd000.s080.t006': ['letter%1:10:00::'],\n",
       " 'd000.s080.t007': ['worker%1:18:00::'],\n",
       " 'd000.s080.t008': ['home%1:15:04::'],\n",
       " 'd000.s080.t009': ['by_word_of_mouth%4:02:01::'],\n",
       " 'd000.s080.t010': ['chain%1:14:00::'],\n",
       " 'd000.s080.t011': ['command%1:07:00::'],\n",
       " 'd000.s081.t000': ['company%1:14:01::'],\n",
       " 'd000.s081.t001': ['find%2:31:10::'],\n",
       " 'd000.s081.t002': ['little%3:00:03::'],\n",
       " 'd000.s081.t003': ['imagination%1:09:01::'],\n",
       " 'd000.s081.t004': ['helpful%3:00:00::'],\n",
       " 'd000.s082.t000': ['group%1:03:00::'],\n",
       " 'd000.s082.t001': ['kansas_city%1:15:00::'],\n",
       " 'd000.s082.t002': ['missouri%1:15:00::'],\n",
       " 'd000.s082.t003': ['have%2:42:00::'],\n",
       " 'd000.s082.t004': ['do-it-yourself%5:00:00:homemade:00'],\n",
       " 'd000.s082.t005': ['quiz%1:10:00::'],\n",
       " 'd000.s082.t006': ['game%1:04:00::'],\n",
       " 'd000.s082.t007': ['distribute%2:40:00::'],\n",
       " 'd000.s082.t008': ['employee%1:18:00::'],\n",
       " 'd000.s083.t000': ['group%1:03:00::'],\n",
       " 'd000.s083.t001': ['columbus%1:15:00::'],\n",
       " 'd000.s083.t002': ['give%2:40:00::'],\n",
       " 'd000.s083.t003': ['worker%1:18:00::'],\n",
       " 'd000.s083.t004': ['facsimile%1:06:01::'],\n",
       " 'd000.s083.t005': ['checkbook%1:21:00::'],\n",
       " 'd000.s083.t006': ['check%1:21:00::'],\n",
       " 'd000.s083.t007': ['show%2:39:02::'],\n",
       " 'd000.s083.t008': ['amount%1:21:00::'],\n",
       " 'd000.s083.t009': ['company%1:14:01::'],\n",
       " 'd000.s083.t010': ['spend%2:40:00::'],\n",
       " 'd000.s083.t011': ['particular%5:00:02:specific:00'],\n",
       " 'd000.s083.t012': ['fringe%1:25:00::'],\n",
       " 'd000.s084.t000': ['group%1:03:00::'],\n",
       " 'd000.s084.t001': ['new_york%1:15:01::'],\n",
       " 'd000.s084.t002': ['pass%2:40:00::'],\n",
       " 'd000.s084.t003': ['form%1:10:01::'],\n",
       " 'd000.s084.t004': ['itemize%2:32:00::'],\n",
       " 'd000.s084.t005': ['value%1:21:00::'],\n",
       " 'd000.s084.t006': ['benefit%1:21:00::'],\n",
       " 'd000.s085.t000': ['blue-collar%5:00:00:lower-class:00'],\n",
       " 'd000.s085.t001': ['worker%1:18:00::'],\n",
       " 'd000.s085.t002': ['thus%4:02:00::'],\n",
       " 'd000.s085.t003': ['know%2:31:01::'],\n",
       " 'd000.s085.t004': ['insurance%1:21:02::'],\n",
       " 'd000.s085.t005': ['package%1:14:00::'],\n",
       " 'd000.s085.t006': ['for_example%4:02:00::'],\n",
       " 'd000.s085.t007': ['cost%2:42:00::'],\n",
       " 'd000.s086.t000': ['have%2:30:00::'],\n",
       " 'd000.s086.t001': ['insurance_company%1:14:00::'],\n",
       " 'd000.s086.t002': ['own%5:00:00:personal:00'],\n",
       " 'd000.s086.t003': ['accounting%1:04:00::'],\n",
       " 'd000.s086.t004': ['department%1:14:00::'],\n",
       " 'd000.s086.t005': ['break_down%2:31:00::'],\n",
       " 'd000.s086.t006': ['cost%1:21:00::'],\n",
       " 'd000.s086.t007': ['insurance%1:21:02::'],\n",
       " 'd000.s086.t008': ['package%1:14:00::'],\n",
       " 'd000.s086.t009': ['periodically%4:02:00::'],\n",
       " 'd000.s087.t000': ['find%2:39:02::'],\n",
       " 'd000.s087.t001': ['certain%5:00:00:definite:00'],\n",
       " 'd000.s087.t002': ['coverage%1:21:00::'],\n",
       " 'd000.s087.t003': ['cost%2:42:00::'],\n",
       " 'd000.s087.t004': ['much%4:02:00::'],\n",
       " 'd000.s087.t005': ['be%2:42:03::'],\n",
       " 'd000.s087.t006': ['economically%4:02:00::'],\n",
       " 'd000.s087.t007': ['feasible%5:00:00:possible:00'],\n",
       " 'd000.s087.t008': ['thereby%4:02:00::'],\n",
       " 'd000.s087.t009': ['alert%2:32:00::'],\n",
       " 'd000.s087.t010': ['desirable%3:00:00::'],\n",
       " 'd000.s087.t011': ['revision%1:10:01::'],\n",
       " 'd000.s088.t000': ['check%2:31:02::'],\n",
       " 'd000.s088.t001': ['see%2:32:00::'],\n",
       " 'd000.s088.t002': ['benefit%1:21:00::'],\n",
       " 'd000.s088.t003': ['on_the_job%5:00:00:employed:00'],\n",
       " 'd000.s088.t004': ['disability%1:26:00::'],\n",
       " 'd000.s088.t005': ['pay%1:21:01::'],\n",
       " 'd000.s088.t006': ['put%2:35:00::'],\n",
       " 'd000.s088.t007': ['direct%5:00:00:immediate:00'],\n",
       " 'd000.s088.t008': ['payment%1:04:00::'],\n",
       " 'd000.s088.t009': ['rather%4:02:02::'],\n",
       " 'd000.s088.t010': ['insured%3:00:00::'],\n",
       " 'd000.s088.t011': ['basis%1:24:00::'],\n",
       " 'd000.s088.t012': ['saving%1:04:00::'],\n",
       " 'd000.s089.t000': ['use%2:34:01::'],\n",
       " 'd000.s089.t001': ['deductible%3:00:00::'],\n",
       " 'd000.s089.t002': ['insurance%1:21:02::'],\n",
       " 'd000.s089.t003': ['feasible%5:00:00:possible:00'],\n",
       " 'd000.s090.t000': ['put%2:35:05::'],\n",
       " 'd000.s090.t001': ['end%1:26:00::'],\n",
       " 'd000.s090.t002': ['marginal%5:00:00:minimal:00'],\n",
       " 'd000.s090.t003': ['claim%1:04:00::'],\n",
       " 'd000.s090.t004': ['play%2:36:11::'],\n",
       " 'd000.s090.t005': ['havoc%1:04:00::'],\n",
       " 'd000.s090.t006': ['insurance%1:21:02::'],\n",
       " 'd000.s090.t007': ['rate%1:21:00::'],\n",
       " 'd000.s091.t000': ['also%4:02:00::'],\n",
       " 'd000.s091.t001': ['beware%2:31:00::'],\n",
       " 'd000.s091.t002': ['open-ended%5:00:00:unrestricted:00'],\n",
       " 'd000.s091.t003': ['policy%1:10:02::'],\n",
       " 'd000.s091.t004': ['especially%4:02:00::'],\n",
       " 'd000.s091.t005': ['medical%3:01:00::'],\n",
       " 'd000.s091.t006': ['field%1:09:00::'],\n",
       " 'd000.s092.t000': ['mean%2:42:00::'],\n",
       " 'd000.s092.t001': ['time%1:11:00::'],\n",
       " 'd000.s092.t002': ['increase%1:11:00::'],\n",
       " 'd000.s092.t003': ['hospital%1:06:00::'],\n",
       " 'd000.s092.t004': ['rate%1:21:00::'],\n",
       " 'd000.s092.t005': ['cost%1:21:00::'],\n",
       " 'd000.s092.t006': ['go_up%2:30:00::'],\n",
       " 'd000.s092.t007': ['manner%1:07:02::'],\n",
       " 'd000.s093.t000': ['put%2:35:00::'],\n",
       " 'd000.s093.t001': ['dollar%1:23:00::'],\n",
       " 'd000.s093.t002': ['cent%1:23:00::'],\n",
       " 'd000.s093.t003': ['limit%1:07:00::'],\n",
       " 'd000.s093.t004': ['benefit%1:21:00::'],\n",
       " 'd000.s094.t000': ['go%2:41:00::'],\n",
       " 'd000.s094.t001': ['overboard%4:02:01::'],\n",
       " 'd000.s094.t002': ['insurance%1:10:00::'],\n",
       " 'd000.s094.t003': ['pay%2:40:00::'],\n",
       " 'd000.s094.t004': ['benefit%1:21:00::'],\n",
       " 'd000.s094.t005': ['only%4:02:01::'],\n",
       " 'd000.s094.t006': ['death%1:11:00::'],\n",
       " 'd000.s095.t000': ['generally%4:02:02::'],\n",
       " 'd000.s095.t001': ['employee%1:18:00::'],\n",
       " 'd000.s095.t002': ['greatly%4:02:00::'],\n",
       " 'd000.s095.t003': ['appreciate%2:37:00::'],\n",
       " 'd000.s095.t004': ['benefit%1:21:00::'],\n",
       " 'd000.s095.t005': ['protect%2:33:00::'],\n",
       " 'd000.s095.t006': ['working%5:00:00:employed:00'],\n",
       " 'd000.s095.t007': ['life%1:26:02::'],\n",
       " 'd000.s095.t008': ['retirement%1:26:00::'],\n",
       " 'd000.s096.t000': ['grant%2:40:01::'],\n",
       " 'd000.s096.t001': ['bereavement%1:26:00::'],\n",
       " 'd000.s096.t002': ['leave%1:28:00::'],\n",
       " 'd000.s096.t003': ['specify%2:32:02::'],\n",
       " 'd000.s096.t004': ['maximum%3:00:00::'],\n",
       " 'd000.s096.t005': ['time_off%1:28:00::'],\n",
       " 'd000.s096.t006': ['list%2:32:00::'],\n",
       " 'd000.s096.t007': ['worker%1:18:00::'],\n",
       " 'd000.s096.t008': ['relation%1:03:00::'],\n",
       " 'd000.s096.t009': ['deceased%1:18:00::'],\n",
       " 'd000.s096.t010': ['be%2:42:06::'],\n",
       " 'd000.s096.t011': ['qualify%2:42:00::'],\n",
       " 'd000.s097.t000': ['thus%4:02:01::'],\n",
       " 'd000.s097.t001': ['avoid%2:41:01::'],\n",
       " 'd000.s097.t002': ['headache%1:09:00::'],\n",
       " 'd000.s097.t003': ['employee%1:18:00::'],\n",
       " 'd000.s097.t004': ['want%2:37:00::'],\n",
       " 'd000.s097.t005': ['fourth%5:00:00:ordinal:00'],\n",
       " 'd000.s097.t006': ['cousin%1:18:00::'],\n",
       " 'd000.s097.t007': ['funeral%1:11:00::'],\n",
       " 'd000.s098.t000': ['also%4:02:00::'],\n",
       " 'd000.s098.t001': ['right%1:07:00::'],\n",
       " 'd000.s098.t002': ['demand%2:32:02::'],\n",
       " 'd000.s098.t003': ['proof%1:09:00::'],\n",
       " 'd000.s098.t004': ['death%1:26:00::'],\n",
       " 'd000.s098.t005': ['fact%1:09:01::'],\n",
       " 'd000.s098.t006': ['probably%4:02:00::'],\n",
       " 'd000.s098.t007': ['never%4:02:00::'],\n",
       " 'd000.s098.t008': ['use%2:34:01::'],\n",
       " 'd000.s099.t000': ['coffee_break%1:13:00::'],\n",
       " 'd000.s099.t001': ['be%2:42:03::'],\n",
       " 'd000.s099.t002': ['real%5:00:00:serious:00'],\n",
       " 'd000.s099.t003': ['headache%1:09:00::'],\n",
       " 'd000.s099.t004': ['not%4:02:00::'],\n",
       " 'd000.s099.t005': ['regulated%3:00:00::'],\n",
       " 'd000.s100.t000': ['vending_machine%1:06:00::'],\n",
       " 'd000.s100.t001': ['alleviate%2:29:00::'],\n",
       " 'd000.s100.t002': ['long%3:00:01::'],\n",
       " 'd000.s100.t003': ['hike%1:04:00::'],\n",
       " 'd000.s100.t004': ['cafeteria%1:06:00::'],\n",
       " 'd000.s100.t005': ['break%1:04:05::'],\n",
       " 'd000.s100.t006': ['waste%1:04:00::'],\n",
       " 'd000.s100.t007': ['production%1:04:00::'],\n",
       " 'd000.s100.t008': ['time%1:11:00::'],\n",
       " 'd000.s101.t000': ['coffee%1:13:00::'],\n",
       " 'd000.s101.t001': ['sell%2:40:00::'],\n",
       " 'd000.s101.t002': ['cafeteria%1:06:00::'],\n",
       " 'd000.s101.t003': ['let%2:41:00::'],\n",
       " 'd000.s101.t004': ['a_few%5:00:00:few:00'],\n",
       " 'd000.s101.t005': ['worker%1:18:00::'],\n",
       " 'd000.s101.t006': ['department%1:14:00::'],\n",
       " 'd000.s101.t007': ['get%2:35:03::'],\n",
       " 'd000.s101.t008': ['whole%3:00:00::'],\n",
       " 'd000.s101.t009': ['group%1:03:00::'],\n",
       " 'd000.s102.t000': ['consider%2:31:01::'],\n",
       " 'd000.s102.t001': ['install%2:35:00::'],\n",
       " 'd000.s102.t002': ['supplemental%5:00:00:secondary:01'],\n",
       " 'd000.s102.t003': ['serve%2:34:01::'],\n",
       " 'd000.s102.t004': ['line%1:14:01::'],\n",
       " 'd000.s102.t005': ['production%1:04:00::'],\n",
       " 'd000.s102.t006': ['area%1:06:00::'],\n",
       " 'd000.s103.t000': ['make%2:30:00::'],\n",
       " 'd000.s103.t001': ['sure%5:00:00:careful:00'],\n",
       " 'd000.s103.t002': ['milk%1:13:01::'],\n",
       " 'd000.s103.t003': ['coffee%1:13:00::'],\n",
       " 'd000.s103.t004': ['place%2:35:00::'],\n",
       " 'd000.s103.t005': ['dispenser%1:06:00::'],\n",
       " 'd000.s103.t006': ['rather%4:02:02::'],\n",
       " 'd000.s103.t007': ['container%1:06:00::'],\n",
       " 'd000.s103.t008': ['supply%2:40:00::'],\n",
       " 'd000.s103.t009': ['coffee%1:13:00::'],\n",
       " 'd000.s104.t000': ['saddle%2:35:10::'],\n",
       " 'd000.s104.t001': ['good%5:00:00:ample:00'],\n",
       " 'd000.s104.t002': ['size%5:00:00:sized:00'],\n",
       " 'd000.s104.t003': ['milk%1:13:01::'],\n",
       " 'd000.s104.t004': ['bill%1:10:01::'],\n",
       " 'd000.s104.t005': ['milk%1:13:01::'],\n",
       " 'd000.s104.t006': ['drinker%1:18:01::'],\n",
       " 'd000.s105.t000': ['keep%2:42:00::'],\n",
       " 'd000.s105.t001': ['retirement%1:26:00::'],\n",
       " 'd000.s105.t002': ['age%1:07:00::'],\n",
       " 'd000.s105.t003': ['flexible%3:00:02::'],\n",
       " 'd000.s105.t004': ['so%4:02:06::'],\n",
       " 'd000.s105.t005': ['skilled%3:00:00::'],\n",
       " 'd000.s105.t006': ['craftsman%1:18:00::'],\n",
       " 'd000.s105.t007': ['tool%1:06:00::'],\n",
       " 'd000.s105.t008': ['die%1:06:01::'],\n",
       " 'd000.s105.t009': ['maker%1:18:00::'],\n",
       " 'd000.s105.t010': ['keep%2:42:00::'],\n",
       " 'd000.s105.t011': ['on_the_job%5:00:00:employed:00'],\n",
       " 'd000.s105.t012': ['convenience%1:26:00::'],\n",
       " 'd000.s105.t013': ['company%1:14:01::'],\n",
       " 'd000.s106.t000': ['so%4:02:06::'],\n",
       " 'd000.s106.t001': ['deadhead%1:18:00::'],\n",
       " 'd000.s106.t002': ['payroll%1:21:00::'],\n",
       " 'd000.s106.t003': ['ease%2:38:00::'],\n",
       " 'd000.s106.t004': ['earliest%4:02:00::'],\n",
       " 'd000.s106.t005': ['possible%3:00:00::'],\n",
       " 'd000.s106.t006': ['age%1:07:00::'],\n",
       " 'd000.s107.t000': ['make%2:30:00::'],\n",
       " 'd000.s107.t001': ['sure%5:00:00:careful:00'],\n",
       " 'd000.s107.t002': ['have%2:42:00::'],\n",
       " 'd000.s107.t003': ['minimum%3:00:00::'],\n",
       " 'd000.s107.t004': ['age%1:07:00::'],\n",
       " 'd000.s107.t005': ['time%1:28:00::'],\n",
       " 'd000.s107.t006': ['on_the_job%5:00:00:employed:00'],\n",
       " 'd000.s107.t007': ['requirement%1:09:01::'],\n",
       " 'd000.s107.t008': ['tie%2:35:01::'],\n",
       " 'd000.s107.t009': ['pension%1:21:00::'],\n",
       " 'd000.s107.t010': ['plan%1:09:00::'],\n",
       " 'd000.s108.t000': ['young%3:00:00::'],\n",
       " 'd000.s108.t001': ['men%1:14:00::'],\n",
       " 'd000.s108.t002': ['usually%4:02:00::'],\n",
       " 'd000.s108.t003': ['think_of%2:31:01::'],\n",
       " 'd000.s108.t004': ['pension%1:21:00::'],\n",
       " 'd000.s108.t005': ['important%3:00:00::'],\n",
       " 'd000.s108.t006': ['job%1:04:00::'],\n",
       " 'd000.s108.t007': ['benefit%1:21:00::'],\n",
       " 'd000.s108.t008': ['factor%1:09:00::'],\n",
       " 'd000.s108.t009': ['anyhow%4:02:00::'],\n",
       " 'd000.s108.t010': ['be%2:42:03::'],\n",
       " 'd000.s108.t011': ['liable%5:00:00:likely:00'],\n",
       " 'd000.s108.t012': ['change%2:30:05::'],\n",
       " 'd000.s108.t013': ['job%1:04:00::'],\n",
       " 'd000.s108.t014': ['several%5:00:00:different:00'],\n",
       " 'd000.s108.t015': ['time%1:11:00::'],\n",
       " 'd000.s108.t016': ['settle_down%2:30:00::'],\n",
       " 'd000.s109.t000': ['choose%2:31:00::'],\n",
       " 'd000.s109.t001': ['carefully%4:02:00::'],\n",
       " 'd000.s109.t002': ['contributory%5:00:00:causative:00'],\n",
       " 'd000.s109.t003': ['contributory%5:00:00:causative:00'],\n",
       " 'd000.s109.t004': ['pension%1:21:00::'],\n",
       " 'd000.s109.t005': ['plan%1:09:00::'],\n",
       " 'd000.s110.t000': ['be%2:42:00::'],\n",
       " 'd000.s110.t001': ['two%5:00:00:cardinal:00'],\n",
       " 'd000.s110.t002': ['side%1:15:00::'],\n",
       " 'd000.s110.t003': ['coin%1:21:02::'],\n",
       " 'd000.s110.t004': ['decision%1:04:00::'],\n",
       " 'd000.s111.t000': ['worker%1:18:00::'],\n",
       " 'd000.s111.t001': ['usually%4:02:00::'],\n",
       " 'd000.s111.t002': ['think_of%2:31:01::'],\n",
       " 'd000.s111.t003': ['more%4:02:01::'],\n",
       " 'd000.s111.t004': ['plan%1:09:00::'],\n",
       " 'd000.s111.t005': ['contribute%2:40:00::'],\n",
       " 'd000.s112.t000': ['at_least%4:02:01::'],\n",
       " 'd000.s112.t001': ['collect%2:40:01::'],\n",
       " 'd000.s112.t002': ['money%1:21:00::'],\n",
       " 'd000.s112.t003': ['put_in%2:40:00::'],\n",
       " 'd000.s112.t004': ['interest%1:21:00::'],\n",
       " 'd000.s112.t005': ['leave%2:41:00::'],\n",
       " 'd000.s112.t006': ['company%1:14:01::'],\n",
       " 'd000.s113.t000': ['contributory%5:00:00:causative:00'],\n",
       " 'd000.s113.t001': ['plan%1:09:00::'],\n",
       " 'd000.s113.t002': ['usually%4:02:00::'],\n",
       " 'd000.s113.t003': ['pay_off%2:40:02::'],\n",
       " 'd000.s113.t004': ['worker%1:18:00::'],\n",
       " 'd000.s113.t005': ['retire%2:41:01::'],\n",
       " 'd000.s114.t000': ['thus%4:02:00::'],\n",
       " 'd000.s114.t001': ['be%2:42:00::'],\n",
       " 'd000.s114.t002': ['incentive%1:16:00::'],\n",
       " 'd000.s114.t003': ['stay%2:30:00::'],\n",
       " 'd000.s114.t004': ['on_the_job%5:00:00:employed:00'],\n",
       " 'd000.s115.t000': ['make%2:30:00::'],\n",
       " 'd000.s115.t001': ['sure%5:00:00:careful:00'],\n",
       " 'd000.s115.t002': ['pay%2:40:00::'],\n",
       " 'd000.s115.t003': ['holiday%1:28:00::'],\n",
       " 'd000.s115.t004': ['employee%1:18:00::'],\n",
       " 'd000.s115.t005': ['not%4:02:00::'],\n",
       " 'd000.s115.t006': ['otherwise%4:02:01::'],\n",
       " 'd000.s115.t007': ['work%2:41:02::'],\n",
       " 'd000.s116.t000': ['include%2:42:00::'],\n",
       " 'd000.s117.t000': ['leave_of_absence%1:28:00::'],\n",
       " 'd000.s117.t001': ['illness%1:26:00::'],\n",
       " 'd000.s117.t002': ['layoff%1:04:00::'],\n",
       " 'd000.s118.t000': ['consider%2:31:01::'],\n",
       " 'd000.s118.t001': ['adopt%2:40:02::'],\n",
       " 'd000.s118.t002': ['system%1:14:00::'],\n",
       " 'd000.s118.t003': ['holiday%1:28:00::'],\n",
       " 'd000.s118.t004': ['time_off%1:28:00::'],\n",
       " 'd000.s118.t005': ['grant%2:40:00::'],\n",
       " 'd000.s118.t006': ['eye%1:09:00::'],\n",
       " 'd000.s118.t007': ['minimum%3:00:00::'],\n",
       " 'd000.s118.t008': ['operation%1:26:00::'],\n",
       " 'd000.s118.t009': ['plant%1:06:01::'],\n",
       " 'd000.s119.t000': ['usually%4:02:00::'],\n",
       " 'd000.s119.t001': ['not%4:02:00::'],\n",
       " 'd000.s119.t002': ['too%4:02:00::'],\n",
       " 'd000.s119.t003': ['hard%3:00:06::'],\n",
       " 'd000.s119.t004': ['sell%2:32:00::'],\n",
       " 'd000.s119.t005': ['worker%1:18:00::'],\n",
       " 'd000.s119.t006': ['give%2:40:03::'],\n",
       " 'd000.s119.t007': ['longer%4:02:00::'],\n",
       " 'd000.s119.t008': ['holiday%1:28:00::'],\n",
       " 'd000.s119.t009': ['period%1:28:00::'],\n",
       " 'd000.s120.t000': ['for_example%4:02:00::'],\n",
       " 'd000.s120.t001': ['friday%1:28:00::'],\n",
       " 'd000.s120.t002': ['thanksgiving%1:28:00::'],\n",
       " 'd000.s120.t003': ['substitute%2:40:00::'],\n",
       " 'd000.s120.t004': ['washington%1:18:00::'],\n",
       " 'd000.s120.t005': ['birthday%1:28:00::'],\n",
       " 'd000.s121.t000': ['reduce%2:30:00::'],\n",
       " 'd000.s121.t001': ['number%1:07:00::'],\n",
       " 'd000.s121.t002': ['expensive%3:00:00::'],\n",
       " 'd000.s121.t003': ['plant%1:06:01::'],\n",
       " 'd000.s121.t004': ['shutdown%1:04:00::'],\n",
       " 'd000.s121.t005': ['startup%1:04:01::'],\n",
       " 'd000.s122.t000': ['require%2:32:00::'],\n",
       " 'd000.s122.t001': ['employee%1:18:00::'],\n",
       " 'd000.s122.t002': ['work%2:41:02::'],\n",
       " 'd000.s122.t003': ['last%3:00:00::'],\n",
       " 'd000.s122.t004': ['shift%1:28:00::'],\n",
       " 'd000.s122.t005': ['holiday%1:28:00::'],\n",
       " 'd000.s122.t006': ['be%2:42:03::'],\n",
       " 'd000.s122.t007': ['eligible%3:00:00::'],\n",
       " 'd000.s122.t008': ['pay%1:21:01::'],\n",
       " 'd000.s123.t000': ['cut%2:30:06::'],\n",
       " 'd000.s123.t001': ['absentee_rate%1:24:00::'],\n",
       " 'd000.s124.t000': ['consider%2:31:01::'],\n",
       " 'd000.s124.t001': ['use%2:34:01::'],\n",
       " 'd000.s124.t002': ['vending_machine%1:06:00::'],\n",
       " 'd000.s124.t003': ['rather%4:02:02::'],\n",
       " 'd000.s124.t004': ['subsidize%2:40:00::'],\n",
       " 'd000.s124.t005': ['cafeteria%1:06:00::'],\n",
       " 'd000.s125.t000': ['model%1:09:03::'],\n",
       " 'd000.s125.t001': ['serve%2:34:01::'],\n",
       " 'd000.s125.t002': ['hot%3:00:01::'],\n",
       " 'd000.s125.t003': ['meal%1:13:00::'],\n",
       " 'd000.s125.t004': ['reasonable%5:00:00:moderate:00'],\n",
       " 'd000.s125.t005': ['price%1:07:00::'],\n",
       " 'd000.s125.t006': ['profit%1:07:00::'],\n",
       " 'd000.s126.t000': ['concessionaire%1:18:00::'],\n",
       " 'd000.s126.t001': ['run%2:41:02::'],\n",
       " 'd000.s126.t002': ['cafeteria%1:06:00::'],\n",
       " 'd000.s126.t003': ['keep_an_eye_on%2:41:00::'],\n",
       " 'd000.s126.t004': ['quality%1:07:02::'],\n",
       " 'd000.s126.t005': ['price%1:07:00::'],\n",
       " 'd000.s127.t000': ['soup%1:13:00::'],\n",
       " 'd000.s127.t001': ['taste%2:39:02::'],\n",
       " 'd000.s127.t002': ['dishwater%1:27:00::'],\n",
       " 'd000.s127.t003': ['employee%1:18:00::'],\n",
       " ...}"
      ]
     },
     "execution_count": 642,
     "metadata": {},
     "output_type": "execute_result"
    }
   ],
   "source": [
    "d_senses"
   ]
  },
  {
   "cell_type": "code",
   "execution_count": 627,
   "metadata": {},
   "outputs": [],
   "source": [
    "f.close()"
   ]
  },
  {
   "cell_type": "code",
   "execution_count": 620,
   "metadata": {},
   "outputs": [
    {
     "name": "stdout",
     "output_type": "stream",
     "text": [
      "service\n"
     ]
    },
    {
     "data": {
      "text/plain": [
       "'serviço de'"
      ]
     },
     "execution_count": 620,
     "metadata": {},
     "output_type": "execute_result"
    }
   ],
   "source": [
    "print(input_sent_semcor[0][75:82])\n",
    "tr_semcor[0][71:81]"
   ]
  },
  {
   "cell_type": "code",
   "execution_count": 606,
   "metadata": {},
   "outputs": [
    {
     "data": {
      "text/plain": [
       "'quanto tempo tem sido desde que reviu os objectivos do seu benefício e serviço de programa ?'"
      ]
     },
     "execution_count": 606,
     "metadata": {},
     "output_type": "execute_result"
    }
   ],
   "source": [
    "tr_semcor[0]"
   ]
  },
  {
   "cell_type": "code",
   "execution_count": 607,
   "metadata": {},
   "outputs": [
    {
     "data": {
      "text/plain": [
       "[[array([ 0,  1,  2,  3,  4,  5,  6,  7,  8,  9, 10, 11, 12, 13, 14, 15, 16,\n",
       "         17, 18, 19, 20, 21, 22, 23, 24, 25, 26, 27, 28, 29, 30, 31, 32, 33,\n",
       "         34, 35, 36, 37, 38, 39, 40, 41, 42, 43, 44, 45, 46, 47, 48, 49, 50,\n",
       "         51, 52, 53, 54, 55, 56, 57, 58, 59, 60, 61, 62, 63, 64, 65, 66, 67,\n",
       "         68, 69, 70, 71, 72, 73, 74, 75, 76, 77, 78, 79, 80, 81, 82, 83, 84,\n",
       "         85, 86, 87, 88, 89, 90, 91, 92]),\n",
       "  array([ 0,  1,  2,  3,  4,  5,  6,  7,  8,  9, 10, 11, 12, 13, 14, 15, 16,\n",
       "         17, 18, 19, 20, 21, 22, 23, 24, 25, 26, 27, 28, 29, 30, 31, 32, 33,\n",
       "         34, 35, 36, 37, 38, 39, 40, 41, 42, 43, 44, 45, 46, 47, 48, 49, 50,\n",
       "         51, 52, 53, 54, 55, 56, 57, 58, 59, 60, 61, 62, 63, 64, 65, 66, 67,\n",
       "         68, 69, 70, 71, 72, 73, 74, 75, 76, 77, 78, 79, 80, 81, 82, 83, 84,\n",
       "         85, 86, 87, 88, 89, 90, 91, 92])],\n",
       " [array([ 0,  1,  2,  3,  4,  5,  6,  7,  8,  9, 10, 11, 12, 13, 14, 15, 16,\n",
       "         17, 18, 19, 20]),\n",
       "  array([ 0,  1,  2,  3,  4,  5,  6,  7,  8,  9, 10, 11, 12, 13, 14, 15, 16,\n",
       "         17, 18, 19, 20, 21])],\n",
       " [array([21, 22, 23, 24, 25, 26]), array([22, 23, 24, 25, 26, 27])],\n",
       " [array([27, 28, 29, 30, 31, 32, 33, 34, 35, 36, 37, 38, 39]),\n",
       "  array([28, 29, 30, 31, 32, 33, 34, 35, 36, 37])],\n",
       " [array([40, 41, 42, 43, 44, 45, 46, 47, 48, 49, 50, 51, 52, 53, 54, 55, 56,\n",
       "         57]),\n",
       "  array([38, 39, 40, 41, 42, 43, 44, 45, 46, 47, 48, 49, 50, 51, 52, 53, 54])],\n",
       " [array([58, 59, 60, 61, 62, 63, 64, 65, 66, 67, 68, 69, 70]),\n",
       "  array([55, 56, 57, 58, 59, 60, 61, 62, 63, 64, 65, 66, 67, 68])],\n",
       " [array([71, 72, 73, 74]), array([69, 70])],\n",
       " [array([75, 76, 77, 78, 79, 80, 81, 82]),\n",
       "  array([71, 72, 73, 74, 75, 76, 77, 78, 79, 80, 81])],\n",
       " [array([83, 84, 85, 86, 87, 88, 89, 90]),\n",
       "  array([82, 83, 84, 85, 86, 87, 88, 89, 90])]]"
      ]
     },
     "execution_count": 607,
     "metadata": {},
     "output_type": "execute_result"
    }
   ],
   "source": [
    "al_semcor[0]"
   ]
  },
  {
   "cell_type": "code",
   "execution_count": 602,
   "metadata": {},
   "outputs": [
    {
     "data": {
      "text/plain": [
       "[0, 1, 2, 3, 4, 5, 6, 7, 8, 9, 10, 11, 12, 13, 14, 15, 16]"
      ]
     },
     "execution_count": 602,
     "metadata": {},
     "output_type": "execute_result"
    }
   ],
   "source": [
    "sent_to_id_semcor[0]"
   ]
  },
  {
   "cell_type": "markdown",
   "metadata": {},
   "source": [
    "## Filtering omsti"
   ]
  },
  {
   "cell_type": "markdown",
   "metadata": {},
   "source": [
    "### Filter id's"
   ]
  },
  {
   "cell_type": "code",
   "execution_count": 1106,
   "metadata": {},
   "outputs": [
    {
     "name": "stdout",
     "output_type": "stream",
     "text": [
      "rouge          total ids: 40260\t|\t After filter: 34132\n",
      "bleu           total ids: 40260\t|\t After filter: 33846\n",
      "bleu-rouge     total ids: 40260\t|\t After filter: 32502\n"
     ]
    }
   ],
   "source": [
    "filtered_ids_omsti_r = filter_index(rouge_omsti, id_omsti, tr_omsti, p='rouge')\n",
    "filtered_ids_omsti_b = filter_index(bleu_omsti, id_omsti, tr_omsti, p='bleu')\n",
    "filtered_ids_omsti_r_b = filter_index(rouge_omsti, id_omsti, tr_omsti, bleu_omsti, p='bleu-rouge')"
   ]
  },
  {
   "cell_type": "markdown",
   "metadata": {},
   "source": [
    "### Make target"
   ]
  },
  {
   "cell_type": "code",
   "execution_count": 1108,
   "metadata": {
    "scrolled": true
   },
   "outputs": [],
   "source": [
    "pos_or_omsti, pos_tr_omsti = get_pos_tags(input_sent_omsti, tr_omsti)"
   ]
  },
  {
   "cell_type": "code",
   "execution_count": 1109,
   "metadata": {},
   "outputs": [],
   "source": [
    "for ix, s in enumerate(tr_omsti):\n",
    "    if len(s.split()) != len(pos_tr_omsti[ix]):\n",
    "        print(False)\n",
    "        break"
   ]
  },
  {
   "cell_type": "code",
   "execution_count": 1110,
   "metadata": {},
   "outputs": [],
   "source": [
    "for ix, s in enumerate(input_sent_omsti):\n",
    "    if len(s.split()) != len(pos_or_omsti[ix]):\n",
    "        print(False)\n",
    "        break"
   ]
  },
  {
   "cell_type": "code",
   "execution_count": 1111,
   "metadata": {},
   "outputs": [],
   "source": [
    "np.save('pos_or_omsti.npy', pos_or_omsti)\n",
    "np.save('pos_tr_omsti.npy', pos_tr_omsti)"
   ]
  },
  {
   "cell_type": "code",
   "execution_count": 1112,
   "metadata": {},
   "outputs": [],
   "source": [
    "verbose=False"
   ]
  },
  {
   "cell_type": "code",
   "execution_count": 1113,
   "metadata": {
    "scrolled": true
   },
   "outputs": [
    {
     "name": "stdout",
     "output_type": "stream",
     "text": [
      "tagging with rouge\n",
      "tagging with bleu\n",
      "tagging with rouge and bleu\n"
     ]
    }
   ],
   "source": [
    "print('tagging with rouge')\n",
    "tagged_tr_omsti_r = tagged_translations(filtered_ids_omsti_r, id_omsti, al_omsti, tr_omsti, input_sent_omsti, sent_to_id_omsti, target_sent_omsti, pos_or_omsti, pos_tr_omsti, wordnet_senses=wordnet_senses)\n",
    "print('tagging with bleu')\n",
    "tagged_tr_omsti_b = tagged_translations(filtered_ids_omsti_b, id_omsti, al_omsti, tr_omsti, input_sent_omsti, sent_to_id_omsti, target_sent_omsti, pos_or_omsti, pos_tr_omsti, wordnet_senses=wordnet_senses)\n",
    "print('tagging with rouge and bleu')\n",
    "tagged_tr_omsti_r_b = tagged_translations(filtered_ids_omsti_r_b, id_omsti, al_omsti, tr_omsti, input_sent_omsti, sent_to_id_omsti, target_sent_omsti, pos_or_omsti, pos_tr_omsti, wordnet_senses=wordnet_senses)"
   ]
  },
  {
   "cell_type": "code",
   "execution_count": 1114,
   "metadata": {},
   "outputs": [],
   "source": [
    "for instance in tagged_tr_omsti_r:\n",
    "    if len(instance[0]) != len(instance[1].split()):\n",
    "        print(False)"
   ]
  },
  {
   "cell_type": "code",
   "execution_count": 1115,
   "metadata": {},
   "outputs": [
    {
     "data": {
      "text/plain": [
       "4268"
      ]
     },
     "execution_count": 1115,
     "metadata": {},
     "output_type": "execute_result"
    }
   ],
   "source": [
    "# Rouge\n",
    "count_instances_with_verbs(tagged_tr_omsti_r)"
   ]
  },
  {
   "cell_type": "code",
   "execution_count": 1116,
   "metadata": {},
   "outputs": [],
   "source": [
    "for instance in tagged_tr_omsti_b:\n",
    "    if len(instance[0]) != len(instance[1].split()):\n",
    "        print(False)"
   ]
  },
  {
   "cell_type": "code",
   "execution_count": 1117,
   "metadata": {},
   "outputs": [
    {
     "data": {
      "text/plain": [
       "4238"
      ]
     },
     "execution_count": 1117,
     "metadata": {},
     "output_type": "execute_result"
    }
   ],
   "source": [
    "# Bleu\n",
    "count_instances_with_verbs(tagged_tr_omsti_b)"
   ]
  },
  {
   "cell_type": "code",
   "execution_count": 1118,
   "metadata": {},
   "outputs": [],
   "source": [
    "for instance in tagged_tr_omsti_r_b:\n",
    "    if len(instance[0]) != len(instance[1].split()):\n",
    "        print(False)"
   ]
  },
  {
   "cell_type": "code",
   "execution_count": 1119,
   "metadata": {},
   "outputs": [
    {
     "data": {
      "text/plain": [
       "4063"
      ]
     },
     "execution_count": 1119,
     "metadata": {},
     "output_type": "execute_result"
    }
   ],
   "source": [
    "# Bleu\n",
    "count_instances_with_verbs(tagged_tr_omsti_r_b)"
   ]
  },
  {
   "cell_type": "markdown",
   "metadata": {},
   "source": [
    "### Annotate corpus"
   ]
  },
  {
   "cell_type": "code",
   "execution_count": 1121,
   "metadata": {},
   "outputs": [],
   "source": [
    "d_senses_omsti = {}\n",
    "with open(Path.cwd() / 'data/WSD_Evaluation_Framework/Training_Corpora/SemCor+OMSTI/semcor+omsti.gold.key.txt', 'r') as f:\n",
    "    for line in f.read().split('\\n'):\n",
    "        if len(line):\n",
    "            temp = line.split()\n",
    "            d_senses_omsti[temp[0]] = temp[1:]"
   ]
  },
  {
   "cell_type": "code",
   "execution_count": 1162,
   "metadata": {},
   "outputs": [
    {
     "name": "stdout",
     "output_type": "stream",
     "text": [
      "Saving rouge\n",
      "0\n",
      "Saving bleu\n",
      "0\n",
      "Saving rouge and bleu\n",
      "0\n"
     ]
    }
   ],
   "source": [
    "print('Saving rouge')\n",
    "print(save_tagged_sentence(Path.cwd() / 'data/disambiguation/omsti', tagged_tr_omsti_r, 'omsti_rouge_map', d_senses_omsti, rouge_omsti.take(filtered_ids_omsti_r), wordnet_senses=wordnet_senses))\n",
    "print('Saving bleu')\n",
    "print(save_tagged_sentence(Path.cwd() / 'data/disambiguation/omsti', tagged_tr_omsti_b, 'omsti_bleu_map', d_senses_omsti, bleu_omsti.take(filtered_ids_omsti_r), wordnet_senses=wordnet_senses))\n",
    "print('Saving rouge and bleu')\n",
    "print(save_tagged_sentence(Path.cwd() / 'data/disambiguation/omsti', tagged_tr_omsti_r_b, 'omsti_rouge_bleu_map', d_senses_omsti, list(zip(rouge_omsti.take(filtered_ids_omsti_r), bleu_omsti.take(filtered_ids_omsti_r))), wordnet_senses=wordnet_senses))"
   ]
  },
  {
   "cell_type": "markdown",
   "metadata": {},
   "source": [
    "# Saving all"
   ]
  },
  {
   "cell_type": "code",
   "execution_count": 1163,
   "metadata": {},
   "outputs": [
    {
     "name": "stdout",
     "output_type": "stream",
     "text": [
      "Saving rouge\n",
      "0\n",
      "0\n",
      "Saving bleu\n",
      "0\n",
      "0\n",
      "Saving rouge and bleu\n",
      "0\n",
      "0\n"
     ]
    }
   ],
   "source": [
    "print('Saving rouge')\n",
    "print(save_tagged_sentence(Path.cwd() / 'data/disambiguation/all', tagged_tr_omsti_r, 'all_rouge_map', d_senses_omsti, rouge_omsti.take(filtered_ids_omsti_r), wordnet_senses=wordnet_senses))\n",
    "print(save_tagged_sentence(Path.cwd() / 'data/disambiguation/all', tagged_tr_semcor_r, 'all_rouge_map', d_senses, rouge_semcor.take(filtered_ids_semcor_r), mode='a', wordnet_senses=wordnet_senses))\n",
    "print('Saving bleu')\n",
    "print(save_tagged_sentence(Path.cwd() / 'data/disambiguation/all', tagged_tr_omsti_b, 'all_bleu_map', d_senses_omsti, bleu_omsti.take(filtered_ids_omsti_r), wordnet_senses=wordnet_senses))\n",
    "print(save_tagged_sentence(Path.cwd() / 'data/disambiguation/all', tagged_tr_semcor_b, 'all_bleu_map', d_senses, bleu_semcor.take(filtered_ids_semcor_r), mode='a', wordnet_senses=wordnet_senses))\n",
    "print('Saving rouge and bleu')\n",
    "print(save_tagged_sentence(Path.cwd() / 'data/disambiguation/all', tagged_tr_omsti_r_b, 'all_rouge_bleu_map', d_senses_omsti, list(zip(rouge_omsti.take(filtered_ids_omsti_r), bleu_omsti.take(filtered_ids_omsti_r))), wordnet_senses=wordnet_senses))\n",
    "print(save_tagged_sentence(Path.cwd() / 'data/disambiguation/all', tagged_tr_semcor_r_b, 'all_rouge_bleu_map', d_senses, list(zip(rouge_semcor.take(filtered_ids_semcor_r), bleu_semcor.take(filtered_ids_semcor_r))), mode='a', wordnet_senses=wordnet_senses))"
   ]
  },
  {
   "cell_type": "code",
   "execution_count": 1161,
   "metadata": {},
   "outputs": [],
   "source": [
    "def save_tagged_sentence(dir_path, tagged_tr, name_file, d_senses, metric, mode='w', wordnet_senses={}):\n",
    "    tagged_sense_sent = []\n",
    "    cont = 0\n",
    "    for instance in tagged_tr:\n",
    "        temp = []\n",
    "        for ix, word in enumerate(instance[1].split()):\n",
    "            if instance[0][ix] != 'no_instance':\n",
    "                if len(wordnet_senses) != 0:\n",
    "                    if d_senses[instance[0][ix]][0] in wordnet_senses:\n",
    "                        temp.append(wordnet_senses[d_senses[instance[0][ix]][0]])\n",
    "                    else:\n",
    "                        cont += 1\n",
    "                        temp.append(word)\n",
    "                else:\n",
    "                    temp.append(d_senses[instance[0][ix]][0])\n",
    "            else:\n",
    "                temp.append(word)\n",
    "\n",
    "        tagged_sense_sent.append(' '.join(temp))\n",
    "\n",
    "    if mode == 'w':\n",
    "        np.save(dir_path / f'{name_file}.npy', np.array(zip(tagged_sense_sent, metric)))\n",
    "    \n",
    "    with open(dir_path / f'{name_file}_out.txt', mode) as file:\n",
    "        for sent in tagged_sense_sent:\n",
    "            file.write(sent + '\\n')\n",
    "    file.close()\n",
    "            \n",
    "    with open(dir_path / f'{name_file}_in.txt', mode) as file:\n",
    "        for sent in tagged_tr:\n",
    "            file.write(sent[1] + '\\n')\n",
    "    file.close()        \n",
    "    return cont"
   ]
  },
  {
   "cell_type": "code",
   "execution_count": 1163,
   "metadata": {},
   "outputs": [
    {
     "name": "stdout",
     "output_type": "stream",
     "text": [
      "Saving rouge\n",
      "0\n",
      "0\n",
      "Saving bleu\n",
      "0\n",
      "0\n",
      "Saving rouge and bleu\n",
      "0\n",
      "0\n"
     ]
    }
   ],
   "source": [
    "print('Saving rouge')\n",
    "print(save_tagged_sentence(Path.cwd() / 'data/disambiguation/all', tagged_tr_omsti_r, 'all_rouge_map', d_senses_omsti, rouge_omsti.take(filtered_ids_omsti_r), wordnet_senses=wordnet_senses))\n",
    "print(save_tagged_sentence(Path.cwd() / 'data/disambiguation/all', tagged_tr_semcor_r, 'all_rouge_map', d_senses, rouge_semcor.take(filtered_ids_semcor_r), mode='a', wordnet_senses=wordnet_senses))\n",
    "print('Saving bleu')\n",
    "print(save_tagged_sentence(Path.cwd() / 'data/disambiguation/all', tagged_tr_omsti_b, 'all_bleu_map', d_senses_omsti, bleu_omsti.take(filtered_ids_omsti_r), wordnet_senses=wordnet_senses))\n",
    "print(save_tagged_sentence(Path.cwd() / 'data/disambiguation/all', tagged_tr_semcor_b, 'all_bleu_map', d_senses, bleu_semcor.take(filtered_ids_semcor_r), mode='a', wordnet_senses=wordnet_senses))\n",
    "print('Saving rouge and bleu')\n",
    "print(save_tagged_sentence(Path.cwd() / 'data/disambiguation/all', tagged_tr_omsti_r_b, 'all_rouge_bleu_map', d_senses_omsti, list(zip(rouge_omsti.take(filtered_ids_omsti_r), bleu_omsti.take(filtered_ids_omsti_r))), wordnet_senses=wordnet_senses))\n",
    "print(save_tagged_sentence(Path.cwd() / 'data/disambiguation/all', tagged_tr_semcor_r_b, 'all_rouge_bleu_map', d_senses, list(zip(rouge_semcor.take(filtered_ids_semcor_r), bleu_semcor.take(filtered_ids_semcor_r))), mode='a', wordnet_senses=wordnet_senses))"
   ]
  },
  {
   "cell_type": "code",
   "execution_count": 1167,
   "metadata": {},
   "outputs": [],
   "source": [
    "f_i = open(Path.cwd() / 'data/disambiguation/all/all_rouge_map_in.txt', 'r')\n",
    "f_o = open(Path.cwd() / 'data/disambiguation/all/all_rouge_map_out.txt', 'r')\n",
    "f = open(Path.cwd() / 'data/disambiguation/all/all_rouge_map.tsv', 'w')\n",
    "for l_i, l_o in zip(f_i.read().split('\\n'), f_o.read().split('\\n')):\n",
    "    f.write(l_i + '\\t' + l_o + '\\n')\n",
    "f.close()\n",
    "f_i.close()\n",
    "f_o.close()"
   ]
  },
  {
   "cell_type": "code",
   "execution_count": 1168,
   "metadata": {},
   "outputs": [],
   "source": [
    "f_i = open(Path.cwd() / 'data/disambiguation/all/all_bleu_map_in.txt', 'r')\n",
    "f_o = open(Path.cwd() / 'data/disambiguation/all/all_bleu_map_out.txt', 'r')\n",
    "f = open(Path.cwd() / 'data/disambiguation/all/all_bleu_map.tsv', 'w')\n",
    "for l_i, l_o in zip(f_i.read().split('\\n'), f_o.read().split('\\n')):\n",
    "    f.write(l_i + '\\t' + l_o + '\\n')\n",
    "f.close()\n",
    "f_i.close()\n",
    "f_o.close()"
   ]
  },
  {
   "cell_type": "code",
   "execution_count": 1169,
   "metadata": {},
   "outputs": [],
   "source": [
    "f_i = open(Path.cwd() / 'data/disambiguation/all/all_rouge_bleu_map_in.txt', 'r')\n",
    "f_o = open(Path.cwd() / 'data/disambiguation/all/all_rouge_bleu_map_out.txt', 'r')\n",
    "f = open(Path.cwd() / 'data/disambiguation/all/all_rouge_bleu_map.tsv', 'w')\n",
    "for l_i, l_o in zip(f_i.read().split('\\n'), f_o.read().split('\\n')):\n",
    "    f.write(l_i + '\\t' + l_o + '\\n')\n",
    "f.close()\n",
    "f_i.close()\n",
    "f_o.close()"
   ]
  },
  {
   "cell_type": "code",
   "execution_count": 1150,
   "metadata": {},
   "outputs": [],
   "source": [
    "    cont = []\n",
    "    with open(Path.cwd() / 'data/disambiguation/semcor' / 'semcor_rouge_out.txt', 'r') as file:\n",
    "        for sent in file.read().split('\\n'):\n",
    "            cont.append(sent)\n",
    "    file.close()"
   ]
  },
  {
   "cell_type": "code",
   "execution_count": 1151,
   "metadata": {},
   "outputs": [
    {
     "data": {
      "text/plain": [
       "'quanto tempo tem sido desde que review%2:31:00:: os objectivos do seu benefit%1:21:00:: e service%1:04:07:: de program%1:09:01:: ?'"
      ]
     },
     "execution_count": 1151,
     "metadata": {},
     "output_type": "execute_result"
    }
   ],
   "source": [
    "cont[0]"
   ]
  },
  {
   "cell_type": "code",
   "execution_count": 1147,
   "metadata": {},
   "outputs": [],
   "source": [
    "    cont = 0\n",
    "    with open(Path.cwd() / 'data/disambiguation/omsti' / 'omsti_rouge_in.txt', 'r') as file:\n",
    "        for sent in file.read().split('\\n'):\n",
    "            cont+=1\n",
    "    file.close()"
   ]
  },
  {
   "cell_type": "code",
   "execution_count": 1148,
   "metadata": {},
   "outputs": [
    {
     "data": {
      "text/plain": [
       "34133"
      ]
     },
     "execution_count": 1148,
     "metadata": {},
     "output_type": "execute_result"
    }
   ],
   "source": [
    "cont"
   ]
  },
  {
   "cell_type": "code",
   "execution_count": 1146,
   "metadata": {},
   "outputs": [
    {
     "data": {
      "text/plain": [
       "32489"
      ]
     },
     "execution_count": 1146,
     "metadata": {},
     "output_type": "execute_result"
    }
   ],
   "source": [
    "cont"
   ]
  },
  {
   "cell_type": "code",
   "execution_count": 1144,
   "metadata": {},
   "outputs": [
    {
     "data": {
      "text/plain": [
       "66621"
      ]
     },
     "execution_count": 1144,
     "metadata": {},
     "output_type": "execute_result"
    }
   ],
   "source": [
    "cont"
   ]
  },
  {
   "cell_type": "code",
   "execution_count": null,
   "metadata": {},
   "outputs": [],
   "source": []
  }
 ],
 "metadata": {
  "kernelspec": {
   "display_name": "Python 3",
   "language": "python",
   "name": "python3"
  },
  "language_info": {
   "codemirror_mode": {
    "name": "ipython",
    "version": 3
   },
   "file_extension": ".py",
   "mimetype": "text/x-python",
   "name": "python",
   "nbconvert_exporter": "python",
   "pygments_lexer": "ipython3",
   "version": "3.6.4"
  }
 },
 "nbformat": 4,
 "nbformat_minor": 2
}
