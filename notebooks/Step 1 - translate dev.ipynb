{
 "cells": [
  {
   "cell_type": "markdown",
   "metadata": {},
   "source": [
    "trnsl.1.1.20190208T160544Z.4984aee4447d8d41.9ded34b703cb87362a2a60d529d521163be1c8ae"
   ]
  },
  {
   "cell_type": "markdown",
   "metadata": {},
   "source": [
    "https://translate.yandex.net/api/v1.5/tr/translate\n",
    " ? key=<API key>\n",
    " & text=<text to translate>\n",
    " & lang=<translation direction>\n",
    " & [format=<text format>]\n",
    " & [options=<translation options>]"
   ]
  },
  {
   "cell_type": "code",
   "execution_count": 1,
   "metadata": {},
   "outputs": [],
   "source": [
    "from pathlib import Path\n",
    "import os\n",
    "import re\n",
    "from tqdm import tqdm\n",
    "from pathlib import Path\n",
    "\n",
    "os.chdir('../')\n",
    "\n",
    "from src.data import read_sentences"
   ]
  },
  {
   "cell_type": "code",
   "execution_count": 2,
   "metadata": {},
   "outputs": [],
   "source": [
    "API_KEY = ''"
   ]
  },
  {
   "cell_type": "markdown",
   "metadata": {},
   "source": [
    "## Reading data"
   ]
  },
  {
   "cell_type": "code",
   "execution_count": 3,
   "metadata": {},
   "outputs": [],
   "source": [
    "input_sent_semcor, sent_to_id_semcor, target_sent_semcor = read_sentences(Path.cwd() / 'data/WSD_Evaluation_Framework/Evaluation_Datasets/', 'ALL', False)"
   ]
  },
  {
   "cell_type": "code",
   "execution_count": 4,
   "metadata": {},
   "outputs": [
    {
     "data": {
      "text/plain": [
       "1173"
      ]
     },
     "execution_count": 4,
     "metadata": {},
     "output_type": "execute_result"
    }
   ],
   "source": [
    "len(input_sent_semcor)"
   ]
  },
  {
   "cell_type": "markdown",
   "metadata": {},
   "source": [
    "## Translation"
   ]
  },
  {
   "cell_type": "code",
   "execution_count": 5,
   "metadata": {},
   "outputs": [],
   "source": [
    "id_file = open('data/translation/dev/en_pt/id.txt', 'w')\n",
    "tr_file = open('data/translation/dev/en_pt/tr.txt', 'w')\n",
    "or_file = open('data/translation/dev/en_pt/or.txt', 'w')\n",
    "al_file = open('data/translation/dev/en_pt/al.txt', 'w')"
   ]
  },
  {
   "cell_type": "code",
   "execution_count": 13,
   "metadata": {},
   "outputs": [],
   "source": [
    "API_KEY = 'trnsl.1.1.20190216T170716Z.034edf2a933741cc.4378585f680c1e47e8bdacd36d2cbdfdd1ec9c2c'"
   ]
  },
  {
   "cell_type": "code",
   "execution_count": 15,
   "metadata": {
    "scrolled": true
   },
   "outputs": [
    {
     "name": "stderr",
     "output_type": "stream",
     "text": [
      "100%|██████████| 145/145 [02:52<00:00,  1.15s/it]\n"
     ]
    }
   ],
   "source": [
    "from tqdm import tqdm\n",
    "import requests\n",
    "\n",
    "error_api = False\n",
    "error_reg = False\n",
    "i = 0\n",
    "for sentence in tqdm(input_sent_semcor):\n",
    "    r = requests.get(\"https://translate.yandex.net/api/v1.5/tr/translate\", \n",
    "                      data={'key': API_KEY,\\\n",
    "                            'text': sentence,\\\n",
    "                            'lang': 'en-pt',\\\n",
    "                            'options': '4'})\n",
    "    \n",
    "    if '<Error' in r.text:\n",
    "        error_api = True\n",
    "        break\n",
    "    else:\n",
    "        tr = re.findall('<text>(.*?)</text>',r.text)\n",
    "        al = re.findall('<align>(.*?)</align>',r.text)\n",
    "        if len(tr) and len(al):\n",
    "            id_file.write(str(i) + '\\n')\n",
    "            tr_file.write(tr[0] + '\\n')\n",
    "            al_file.write(al[0] + '\\n')\n",
    "            or_file.write(sentence + '\\n')\n",
    "        else:\n",
    "            error_reg = True\n",
    "            i += 1\n",
    "    "
   ]
  },
  {
   "cell_type": "code",
   "execution_count": 16,
   "metadata": {},
   "outputs": [],
   "source": [
    "tr_file.close()\n",
    "al_file.close()\n",
    "or_file.close()\n",
    "id_file.close()"
   ]
  },
  {
   "cell_type": "markdown",
   "metadata": {},
   "source": [
    "## Backtranslation"
   ]
  },
  {
   "cell_type": "code",
   "execution_count": 17,
   "metadata": {},
   "outputs": [],
   "source": [
    "tr_file = open('data/translation/dev/en_pt/tr.txt', 'r')\n",
    "\n",
    "\n",
    "bck_tr_file = open('data/translation/dev/pt_en/tr.txt', 'w')\n",
    "bck_or_file = open('data/translation/dev/pt_en/or.txt', 'w')\n",
    "bck_al_file = open('data/translation/dev/pt_en/al.txt', 'w')"
   ]
  },
  {
   "cell_type": "code",
   "execution_count": 18,
   "metadata": {},
   "outputs": [],
   "source": [
    "input_sent_semcor = []\n",
    "for line in tr_file:\n",
    "    input_sent_semcor.append(line.replace('\\n', ''))"
   ]
  },
  {
   "cell_type": "code",
   "execution_count": 21,
   "metadata": {},
   "outputs": [
    {
     "name": "stderr",
     "output_type": "stream",
     "text": [
      "100%|██████████| 145/145 [02:52<00:00,  1.20s/it]\n"
     ]
    }
   ],
   "source": [
    "error_api = False\n",
    "error_reg = False\n",
    "\n",
    "for sentence in tqdm(input_sent_semcor):\n",
    "    r = requests.get(\"https://translate.yandex.net/api/v1.5/tr/translate\", \n",
    "                      data={'key': API_KEY,\\\n",
    "                            'text': sentence.replace(\"\\n\", \"\"),\\\n",
    "                            'lang': 'pt-en',\\\n",
    "                            'options': '4'})\n",
    "    \n",
    "    if '<Error' in r.text:\n",
    "        error_api = True\n",
    "        break\n",
    "    else:\n",
    "        tr = re.findall('<text>(.*?)</text>',r.text)\n",
    "        al = re.findall('<align>(.*?)</align>',r.text)\n",
    "        if len(tr) and len(al):\n",
    "            bck_tr_file.write(tr[0] + '\\n')\n",
    "            bck_al_file.write(al[0] + '\\n')\n",
    "            bck_or_file.write(sentence + '\\n')\n",
    "            i += 1\n",
    "        else:\n",
    "            error_reg = True\n",
    "            break\n",
    "            "
   ]
  },
  {
   "cell_type": "code",
   "execution_count": 22,
   "metadata": {},
   "outputs": [],
   "source": [
    "tr_file.close()\n",
    "bck_tr_file.close()\n",
    "bck_al_file.close()\n",
    "bck_or_file.close()"
   ]
  },
  {
   "cell_type": "markdown",
   "metadata": {},
   "source": [
    "## Check files"
   ]
  },
  {
   "cell_type": "code",
   "execution_count": 23,
   "metadata": {},
   "outputs": [],
   "source": [
    "tr_file = open('data/translation/dev/en_pt/dev_tr.txt', 'r')\n",
    "or_file = open('data/translation/dev/en_pt/dev_or.txt', 'r')\n",
    "bck_tr_file = open('data/translation/dev/pt_en/dev_tr.txt', 'r')\n",
    "bck_or_file = open('data/translation/dev/pt_en/dev_or.txt', 'r')"
   ]
  },
  {
   "cell_type": "code",
   "execution_count": 24,
   "metadata": {},
   "outputs": [],
   "source": [
    "input_or = []\n",
    "for sent in or_file:\n",
    "    input_or.append(sent)\n",
    "\n",
    "input_tr = []\n",
    "for sent in tr_file:\n",
    "    input_tr.append(sent)\n"
   ]
  },
  {
   "cell_type": "code",
   "execution_count": 25,
   "metadata": {},
   "outputs": [],
   "source": [
    "bck_input_or = []\n",
    "for sent in bck_or_file:\n",
    "    bck_input_or.append(sent)\n",
    "\n",
    "bck_input_tr = []\n",
    "for sent in bck_tr_file:\n",
    "    bck_input_tr.append(sent)    "
   ]
  },
  {
   "cell_type": "code",
   "execution_count": 26,
   "metadata": {},
   "outputs": [
    {
     "data": {
      "text/plain": [
       "'they belong to a group of 15 ringers -- including two octogenarians and four youngsters in training -- who drive every sunday from church to church in a sometimes-exhausting effort to keep the bells sounding in the many belfries of east anglia .\\n'"
      ]
     },
     "execution_count": 26,
     "metadata": {},
     "output_type": "execute_result"
    }
   ],
   "source": [
    "ix= 0\n",
    "input_or[ix]"
   ]
  },
  {
   "cell_type": "code",
   "execution_count": 27,
   "metadata": {},
   "outputs": [
    {
     "data": {
      "text/plain": [
       "'eles pertencem a um grupo de 15 toques, incluindo dois octogenários e quatro jovens em formação-que unidade de cada domingo da igreja para a igreja, às vezes desgastante esforço para manter os sinos soando em muitos campanários de east anglia .\\n'"
      ]
     },
     "execution_count": 27,
     "metadata": {},
     "output_type": "execute_result"
    }
   ],
   "source": [
    "input_tr[ix]"
   ]
  },
  {
   "cell_type": "code",
   "execution_count": 28,
   "metadata": {},
   "outputs": [
    {
     "data": {
      "text/plain": [
       "'eles pertencem a um grupo de 15 toques, incluindo dois octogenários e quatro jovens em formação-que unidade de cada domingo da igreja para a igreja, às vezes desgastante esforço para manter os sinos soando em muitos campanários de east anglia .\\n'"
      ]
     },
     "execution_count": 28,
     "metadata": {},
     "output_type": "execute_result"
    }
   ],
   "source": [
    "bck_input_or[ix]"
   ]
  },
  {
   "cell_type": "code",
   "execution_count": 29,
   "metadata": {},
   "outputs": [
    {
     "data": {
      "text/plain": [
       "'they belong to a group of 15 taps, including two octogenarians and four youngsters in training-that drive every Sunday from church to church, sometimes exhausting effort to keep the bells sounding in the many belfries of east anglia .\\n'"
      ]
     },
     "execution_count": 29,
     "metadata": {},
     "output_type": "execute_result"
    }
   ],
   "source": [
    "bck_input_tr[ix]"
   ]
  },
  {
   "cell_type": "code",
   "execution_count": 161,
   "metadata": {},
   "outputs": [],
   "source": [
    "tr_file.close()\n",
    "bck_tr_file.close()"
   ]
  }
 ],
 "metadata": {
  "kernelspec": {
   "display_name": "Python 3",
   "language": "python",
   "name": "python3"
  },
  "language_info": {
   "codemirror_mode": {
    "name": "ipython",
    "version": 3
   },
   "file_extension": ".py",
   "mimetype": "text/x-python",
   "name": "python",
   "nbconvert_exporter": "python",
   "pygments_lexer": "ipython3",
   "version": "3.7.1"
  }
 },
 "nbformat": 4,
 "nbformat_minor": 2
}
