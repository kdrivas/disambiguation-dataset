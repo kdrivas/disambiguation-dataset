{
 "cells": [
  {
   "cell_type": "markdown",
   "metadata": {},
   "source": [
    "trnsl.1.1.20190208T160544Z.4984aee4447d8d41.9ded34b703cb87362a2a60d529d521163be1c8ae"
   ]
  },
  {
   "cell_type": "markdown",
   "metadata": {},
   "source": [
    "https://translate.yandex.net/api/v1.5/tr/translate\n",
    " ? key=<API key>\n",
    " & text=<text to translate>\n",
    " & lang=<translation direction>\n",
    " & [format=<text format>]\n",
    " & [options=<translation options>]"
   ]
  },
  {
   "cell_type": "code",
   "execution_count": 2,
   "metadata": {},
   "outputs": [],
   "source": [
    "from pathlib import Path\n",
    "import os\n",
    "import re\n",
    "\n",
    "import requests\n",
    "from xml.etree import ElementTree"
   ]
  },
  {
   "cell_type": "code",
   "execution_count": 3,
   "metadata": {},
   "outputs": [],
   "source": [
    "os.chdir('../')"
   ]
  },
  {
   "cell_type": "code",
   "execution_count": null,
   "metadata": {},
   "outputs": [],
   "source": [
    "from data import read_sentences"
   ]
  },
  {
   "cell_type": "code",
   "execution_count": 49,
   "metadata": {},
   "outputs": [],
   "source": [
    "API_KEY = ''"
   ]
  },
  {
   "cell_type": "markdown",
   "metadata": {},
   "source": [
    "## Reading data"
   ]
  },
  {
   "cell_type": "code",
   "execution_count": 64,
   "metadata": {},
   "outputs": [],
   "source": [
    "input_sent_semcor, sent_to_id_semcor, target_sent_semcor = read_sentences('SemCor')"
   ]
  },
  {
   "cell_type": "code",
   "execution_count": 65,
   "metadata": {},
   "outputs": [
    {
     "data": {
      "text/plain": [
       "8410"
      ]
     },
     "execution_count": 65,
     "metadata": {},
     "output_type": "execute_result"
    }
   ],
   "source": [
    "len(input_sent_semcor)"
   ]
  },
  {
   "cell_type": "code",
   "execution_count": 66,
   "metadata": {},
   "outputs": [],
   "source": [
    "input_sent_temp, sent_to_id_temp, target_sent_temp = read_sentences('SemCor+OMSTI')"
   ]
  },
  {
   "cell_type": "code",
   "execution_count": 193,
   "metadata": {},
   "outputs": [
    {
     "data": {
      "text/plain": [
       "48679"
      ]
     },
     "execution_count": 193,
     "metadata": {},
     "output_type": "execute_result"
    }
   ],
   "source": [
    "len(input_sent_temp)"
   ]
  },
  {
   "cell_type": "code",
   "execution_count": 68,
   "metadata": {},
   "outputs": [],
   "source": [
    "# Filter sentences\n",
    "\n",
    "input_sent_omsti = []\n",
    "sent_to_id_omsti = []\n",
    "target_sent_omsti = []\n",
    "for ix, sent in enumerate(input_sent_temp):\n",
    "    if sent not in input_sent_semcor:\n",
    "        input_sent_omsti.append(sent)\n",
    "        sent_to_id_omsti.append(sent_to_id_temp[ix])\n",
    "        target_sent_omsti.append(target_sent_temp[ix])"
   ]
  },
  {
   "cell_type": "code",
   "execution_count": 70,
   "metadata": {
    "scrolled": true
   },
   "outputs": [
    {
     "data": {
      "text/plain": [
       "40269"
      ]
     },
     "execution_count": 70,
     "metadata": {},
     "output_type": "execute_result"
    }
   ],
   "source": [
    "len(sent_to_id_omsti)"
   ]
  },
  {
   "cell_type": "markdown",
   "metadata": {},
   "source": [
    "## Translation"
   ]
  },
  {
   "cell_type": "code",
   "execution_count": 74,
   "metadata": {},
   "outputs": [],
   "source": [
    "id_file = open('data/translation/omsti/en_pt/omsti_id.txt', 'w')\n",
    "tr_file = open('data/translation/omsti/en_pt/omsti_tr.txt', 'w')\n",
    "or_file = open('data/translation/omsti/en_pt/omsti_or.txt', 'w')\n",
    "al_file = open('data/translation/omsti/en_pt/omsti_al.txt', 'w')"
   ]
  },
  {
   "cell_type": "code",
   "execution_count": 110,
   "metadata": {
    "scrolled": true
   },
   "outputs": [
    {
     "name": "stderr",
     "output_type": "stream",
     "text": [
      "\n",
      "  0%|          | 0/5443 [00:00<?, ?it/s]\u001b[A\n",
      "  0%|          | 1/5443 [00:01<2:04:07,  1.37s/it]\u001b[A\n",
      "  0%|          | 2/5443 [00:02<1:58:48,  1.31s/it]\u001b[A\n",
      "  0%|          | 3/5443 [00:03<1:53:21,  1.25s/it]\u001b[A\n",
      "Exception in thread Thread-7:\n",
      "Traceback (most recent call last):\n",
      "  File \"/home/krivas/anaconda3/lib/python3.6/threading.py\", line 916, in _bootstrap_inner\n",
      "    self.run()\n",
      "  File \"/home/krivas/anaconda3/lib/python3.6/site-packages/tqdm-4.19.5-py3.6.egg/tqdm/_tqdm.py\", line 144, in run\n",
      "    for instance in self.tqdm_cls._instances:\n",
      "  File \"/home/krivas/anaconda3/lib/python3.6/_weakrefset.py\", line 60, in __iter__\n",
      "    for itemref in self.data:\n",
      "RuntimeError: Set changed size during iteration\n",
      "\n",
      " 84%|████████▍ | 4578/5443 [1:34:06<17:46,  1.23s/it]\n"
     ]
    }
   ],
   "source": [
    "from tqdm import tqdm\n",
    "import requests\n",
    "from xml.etree import ElementTree\n",
    "\n",
    "error_api = False\n",
    "error_reg = False\n",
    "\n",
    "for sentence in tqdm(input_sent_omsti[cont:]):\n",
    "    r = requests.get(\"https://translate.yandex.net/api/v1.5/tr/translate\", \n",
    "                      data={'key': API_KEY,\\\n",
    "                            'text': sentence,\\\n",
    "                            'lang': 'en-pt',\\\n",
    "                            'options': '4'})\n",
    "    i += 1\n",
    "    if 'Error' in r.text:\n",
    "        error_api = True\n",
    "        break\n",
    "    else:\n",
    "        tr = re.findall('<text>(.*?)</text>',r.text)\n",
    "        al = re.findall('<align>(.*?)</align>',r.text)\n",
    "        if len(tr) and len(al):\n",
    "            id_file.write(str(i-1) + '\\n')\n",
    "            tr_file.write(tr[0] + '\\n')\n",
    "            al_file.write(al[0] + '\\n')\n",
    "            or_file.write(sentence + '\\n')\n",
    "        else:\n",
    "            error_reg = True\n",
    "            break    "
   ]
  },
  {
   "cell_type": "code",
   "execution_count": 114,
   "metadata": {},
   "outputs": [],
   "source": [
    "id_file.close()\n",
    "tr_file.close()\n",
    "or_file.close()\n",
    "al_file.close()"
   ]
  },
  {
   "cell_type": "markdown",
   "metadata": {},
   "source": [
    "## Backtranslation"
   ]
  },
  {
   "cell_type": "code",
   "execution_count": 234,
   "metadata": {},
   "outputs": [],
   "source": [
    "tr_file = open('data/translation/omsti/en_pt/omsti_tr.txt', 'r')\n",
    "\n",
    "bck_tr_file = open('data/translation/omsti/pt_en/omsti_tr_2.txt', 'w')\n",
    "bck_or_file = open('data/translation/omsti/pt_en/omsti_or_2.txt', 'w')\n",
    "bck_al_file = open('data/translation/omsti/pt_en/omsti_al_2.txt', 'w')"
   ]
  },
  {
   "cell_type": "code",
   "execution_count": 215,
   "metadata": {},
   "outputs": [],
   "source": [
    "input_sentences = []\n",
    "for line in tr_file:\n",
    "    input_sentences.append(line.replace('\\n', ''))"
   ]
  },
  {
   "cell_type": "code",
   "execution_count": 259,
   "metadata": {
    "scrolled": true
   },
   "outputs": [
    {
     "name": "stderr",
     "output_type": "stream",
     "text": [
      "\n",
      "  0%|          | 0/712 [00:00<?, ?it/s]\u001b[A\n",
      "  0%|          | 1/712 [00:01<13:05,  1.11s/it]\u001b[A\n",
      "  0%|          | 2/712 [00:02<13:58,  1.18s/it]\u001b[A\n",
      "  0%|          | 3/712 [00:03<14:45,  1.25s/it]\u001b[A\n",
      "  1%|          | 4/712 [00:04<14:29,  1.23s/it]\u001b[A\n",
      "  1%|          | 5/712 [00:06<14:14,  1.21s/it]\u001b[A\n",
      "  1%|          | 6/712 [00:07<14:05,  1.20s/it]\u001b[A\n",
      "  1%|          | 7/712 [00:08<14:04,  1.20s/it]\u001b[A\n",
      "Exception in thread Thread-24:\n",
      "Traceback (most recent call last):\n",
      "  File \"/home/krivas/anaconda3/lib/python3.6/threading.py\", line 916, in _bootstrap_inner\n",
      "    self.run()\n",
      "  File \"/home/krivas/anaconda3/lib/python3.6/site-packages/tqdm-4.19.5-py3.6.egg/tqdm/_tqdm.py\", line 144, in run\n",
      "    for instance in self.tqdm_cls._instances:\n",
      "  File \"/home/krivas/anaconda3/lib/python3.6/_weakrefset.py\", line 60, in __iter__\n",
      "    for itemref in self.data:\n",
      "RuntimeError: Set changed size during iteration\n",
      "\n",
      "100%|██████████| 712/712 [14:05<00:00,  1.19s/it]\n"
     ]
    }
   ],
   "source": [
    "error_api = False\n",
    "error_reg = False\n",
    "\n",
    "for sentence in tqdm(input_sentences[cont:]):\n",
    "    r = requests.get(\"https://translate.yandex.net/api/v1.5/tr/translate\", \n",
    "                      data={'key': API_KEY,\\\n",
    "                            'text': sentence.replace(\"\\n\", \"\"),\\\n",
    "                            'lang': 'pt-en',\\\n",
    "                            'options': '4'})\n",
    "    \n",
    "    if '<Error' in r.text:\n",
    "        error_api = True\n",
    "        break\n",
    "    else:\n",
    "        tr = re.findall('<text>(.*?)</text>',r.text)\n",
    "        al = re.findall('<align>(.*?)</align>',r.text)\n",
    "        if len(tr) and len(al):\n",
    "            bck_tr_file.write(tr[0] + '\\n')\n",
    "            bck_al_file.write(al[0] + '\\n')\n",
    "            bck_or_file.write(sentence + '\\n')\n",
    "        else:\n",
    "            error_reg = True\n",
    "            break\n",
    "          "
   ]
  },
  {
   "cell_type": "code",
   "execution_count": 260,
   "metadata": {},
   "outputs": [],
   "source": [
    "tr_file.close()\n",
    "\n",
    "bck_tr_file.close()\n",
    "bck_or_file.close()\n",
    "bck_al_file.close()"
   ]
  },
  {
   "cell_type": "markdown",
   "metadata": {},
   "source": [
    "## Check files"
   ]
  },
  {
   "cell_type": "code",
   "execution_count": 286,
   "metadata": {},
   "outputs": [],
   "source": [
    "tr_file = open('data/translation/omsti/en_pt/omsti_tr.txt', 'r')\n",
    "or_file = open('data/translation/omsti/en_pt/omsti_or.txt', 'r')\n",
    "bck_tr_file = open('data/translation/omsti/pt_en/omsti_tr_2.txt', 'r')\n",
    "bck_or_file = open('data/translation/omsti/pt_en/omsti_or_2.txt', 'r')"
   ]
  },
  {
   "cell_type": "code",
   "execution_count": 287,
   "metadata": {},
   "outputs": [],
   "source": [
    "input_or = []\n",
    "for sent in or_file:\n",
    "    input_or.append(sent)\n",
    "\n",
    "input_tr = []\n",
    "for sent in tr_file:\n",
    "    input_tr.append(sent)\n"
   ]
  },
  {
   "cell_type": "code",
   "execution_count": 288,
   "metadata": {},
   "outputs": [],
   "source": [
    "bck_input_or = []\n",
    "for sent in bck_or_file:\n",
    "    bck_input_or.append(sent)\n",
    "\n",
    "bck_input_tr = []\n",
    "for sent in bck_tr_file:\n",
    "    bck_input_tr.append(sent)    "
   ]
  },
  {
   "cell_type": "code",
   "execution_count": 293,
   "metadata": {},
   "outputs": [
    {
     "data": {
      "text/plain": [
       "'though no longer enjoying legal authority , as was the case from 1968 to 1989 , paramilitary structures effectively were institutionalized during the previous administration through the existence of special private security and vigilante services ( previously known as convivir ) legally authorized to carry arms and perform functions of public order similar to those of the armed forces and police .\\n'"
      ]
     },
     "execution_count": 293,
     "metadata": {},
     "output_type": "execute_result"
    }
   ],
   "source": [
    "ix= -1\n",
    "input_or[ix]"
   ]
  },
  {
   "cell_type": "code",
   "execution_count": 294,
   "metadata": {},
   "outputs": [
    {
     "data": {
      "text/plain": [
       "'embora já não mais gozando de autoridade legal , como foi o caso de 1968 a 1989 , paramilitares estruturas efetivamente foram institucionalizadas durante a administração anterior através da existência de especiais de segurança privada e de vigilante, serviços ( anteriormente conhecido como convivir ) legalmente autorizadas a portar armas e desempenham funções de ordem pública, semelhantes aos das forças armadas e da polícia .\\n'"
      ]
     },
     "execution_count": 294,
     "metadata": {},
     "output_type": "execute_result"
    }
   ],
   "source": [
    "input_tr[ix]"
   ]
  },
  {
   "cell_type": "code",
   "execution_count": 295,
   "metadata": {},
   "outputs": [
    {
     "data": {
      "text/plain": [
       "'embora já não mais gozando de autoridade legal , como foi o caso de 1968 a 1989 , paramilitares estruturas efetivamente foram institucionalizadas durante a administração anterior através da existência de especiais de segurança privada e de vigilante, serviços ( anteriormente conhecido como convivir ) legalmente autorizadas a portar armas e desempenham funções de ordem pública, semelhantes aos das forças armadas e da polícia .\\n'"
      ]
     },
     "execution_count": 295,
     "metadata": {},
     "output_type": "execute_result"
    }
   ],
   "source": [
    "bck_input_or[ix]"
   ]
  },
  {
   "cell_type": "code",
   "execution_count": 296,
   "metadata": {},
   "outputs": [
    {
     "data": {
      "text/plain": [
       "'though no longer enjoying legal authority , as was the case from 1968 to 1989 , paramilitary structures were effectively institutionalised during the previous administration through the existence of special private security and vigilante services ( formerly known as convivir ) legally authorised to bear arms and perform functions of public order, similar to those of the armed forces and the police .\\n'"
      ]
     },
     "execution_count": 296,
     "metadata": {},
     "output_type": "execute_result"
    }
   ],
   "source": [
    "bck_input_tr[ix]"
   ]
  },
  {
   "cell_type": "code",
   "execution_count": null,
   "metadata": {},
   "outputs": [],
   "source": []
  }
 ],
 "metadata": {
  "kernelspec": {
   "display_name": "Python 3",
   "language": "python",
   "name": "python3"
  },
  "language_info": {
   "codemirror_mode": {
    "name": "ipython",
    "version": 3
   },
   "file_extension": ".py",
   "mimetype": "text/x-python",
   "name": "python",
   "nbconvert_exporter": "python",
   "pygments_lexer": "ipython3",
   "version": "3.7.1"
  }
 },
 "nbformat": 4,
 "nbformat_minor": 2
}
