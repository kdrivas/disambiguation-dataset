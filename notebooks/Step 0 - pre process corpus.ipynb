{
 "cells": [
  {
   "cell_type": "code",
   "execution_count": 36,
   "metadata": {},
   "outputs": [
    {
     "name": "stdout",
     "output_type": "stream",
     "text": [
      "The autoreload extension is already loaded. To reload it, use:\n",
      "  %reload_ext autoreload\n"
     ]
    }
   ],
   "source": [
    "from pathlib import Path\n",
    "import pandas as pd\n",
    "import matplotlib.pyplot as plt\n",
    "import seaborn as sns\n",
    "import numpy as np\n",
    "import os\n",
    "\n",
    "%load_ext autoreload\n",
    "%autoreload 2"
   ]
  },
  {
   "cell_type": "code",
   "execution_count": 2,
   "metadata": {},
   "outputs": [],
   "source": [
    "os.chdir('../')"
   ]
  },
  {
   "cell_type": "code",
   "execution_count": 3,
   "metadata": {},
   "outputs": [],
   "source": [
    "PATH = Path.cwd()\n",
    "PATH_DATA = PATH / 'data'"
   ]
  },
  {
   "cell_type": "code",
   "execution_count": 4,
   "metadata": {},
   "outputs": [
    {
     "data": {
      "text/plain": [
       "PosixPath('/home/krivas/projects/disambiguation-dataset')"
      ]
     },
     "execution_count": 4,
     "metadata": {},
     "output_type": "execute_result"
    }
   ],
   "source": [
    "PATH"
   ]
  },
  {
   "cell_type": "code",
   "execution_count": 11,
   "metadata": {},
   "outputs": [],
   "source": [
    "path_files = []\n",
    "for root, dirs, files in os.walk(PATH / 'data'):\n",
    "    for file in files:\n",
    "        if 'verb' in root and file[0] == 'D':\n",
    "            #print(root , file)\n",
    "            path_files.append(os.path.join(root, file))\n",
    "    "
   ]
  },
  {
   "cell_type": "markdown",
   "metadata": {},
   "source": [
    "### Explore dataset"
   ]
  },
  {
   "cell_type": "code",
   "execution_count": 7,
   "metadata": {},
   "outputs": [],
   "source": [
    "selected_words = ['tratar', 'estabelecer', 'marcar', 'vir', 'colocar', 'fechar', 'dar', 'cair',\\\n",
    "                 'encontrar', 'registrar', 'levar', 'receber', 'apresentar', 'passar', 'deixar', 'chegar',\\\n",
    "                 'ficar', 'fazar', 'ter', 'ser']"
   ]
  },
  {
   "cell_type": "code",
   "execution_count": 17,
   "metadata": {},
   "outputs": [],
   "source": [
    "def check_line(line):\n",
    "    for word in selected_words:\n",
    "        if word in line:\n",
    "            return True\n",
    "    \n",
    "    return False"
   ]
  },
  {
   "cell_type": "code",
   "execution_count": 22,
   "metadata": {},
   "outputs": [],
   "source": [
    "import re\n",
    "\n",
    "def check_word_tag(line):\n",
    "    for word in selected_words:\n",
    "        if word in line and re.findall(f'{word}<', line):\n",
    "            return True\n",
    "    \n",
    "    return False"
   ]
  },
  {
   "cell_type": "code",
   "execution_count": 29,
   "metadata": {
    "scrolled": true
   },
   "outputs": [
    {
     "name": "stdout",
     "output_type": "stream",
     "text": [
      "total texts: 3524 texts with ambiguous word: 587  texts with tag: 178\n"
     ]
    }
   ],
   "source": [
    "texts = []\n",
    "tagged_texts = []\n",
    "total = 0\n",
    "for path in path_files:\n",
    "    with open(path) as file:\n",
    "        for line in file.readlines():\n",
    "            total += 1\n",
    "            if check_line(line):\n",
    "                texts.append(line)\n",
    "                if check_word_tag(line):\n",
    "                    tagged_texts.append(line)\n",
    "\n",
    "print(f'total texts: {total} texts with ambiguous word: {len(texts)}  texts with tag: {len(tagged_texts)}')"
   ]
  },
  {
   "cell_type": "code",
   "execution_count": 37,
   "metadata": {},
   "outputs": [
    {
     "data": {
      "image/png": "[encoded data removed]",
      "text/plain": [
       "<Figure size 432x288 with 1 Axes>"
      ]
     },
     "metadata": {},
     "output_type": "display_data"
    }
   ],
   "source": [
    "lenghts = [len(text) for text in tagged_texts]\n",
    "sns.boxplot(lenghts)\n",
    "plt.show()"
   ]
  },
  {
   "cell_type": "code",
   "execution_count": null,
   "metadata": {},
   "outputs": [],
   "source": []
  }
 ],
 "metadata": {
  "kernelspec": {
   "display_name": "Python 3",
   "language": "python",
   "name": "python3"
  },
  "language_info": {
   "codemirror_mode": {
    "name": "ipython",
    "version": 3
   },
   "file_extension": ".py",
   "mimetype": "text/x-python",
   "name": "python",
   "nbconvert_exporter": "python",
   "pygments_lexer": "ipython3",
   "version": "3.6.4"
  }
 },
 "nbformat": 4,
 "nbformat_minor": 2
}
