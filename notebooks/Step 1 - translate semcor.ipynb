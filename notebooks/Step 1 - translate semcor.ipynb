{
 "cells": [
  {
   "cell_type": "markdown",
   "metadata": {},
   "source": [
    "trnsl.1.1.20190208T160544Z.4984aee4447d8d41.9ded34b703cb87362a2a60d529d521163be1c8ae"
   ]
  },
  {
   "cell_type": "markdown",
   "metadata": {},
   "source": [
    "https://translate.yandex.net/api/v1.5/tr/translate\n",
    " ? key=<API key>\n",
    " & text=<text to translate>\n",
    " & lang=<translation direction>\n",
    " & [format=<text format>]\n",
    " & [options=<translation options>]"
   ]
  },
  {
   "cell_type": "code",
   "execution_count": 163,
   "metadata": {},
   "outputs": [],
   "source": [
    "from pathlib import Path\n",
    "import os\n",
    "import re\n",
    "from tqdm import tqdm\n",
    "from pathlib import Path\n",
    "\n",
    "os.chdir('../')\n",
    "\n",
    "from data import read_sentences"
   ]
  },
  {
   "cell_type": "code",
   "execution_count": 164,
   "metadata": {},
   "outputs": [],
   "source": [
    "API_KEY = ''"
   ]
  },
  {
   "cell_type": "markdown",
   "metadata": {},
   "source": [
    "## Reading data"
   ]
  },
  {
   "cell_type": "code",
   "execution_count": 3,
   "metadata": {},
   "outputs": [],
   "source": [
    "input_sent_semcor, sent_to_id_semcor, target_sent_semcor = read_sentences(Path.cwd() / 'data/WSD_Evaluation_Framework/Training_Corpora/', 'SemCor', False)"
   ]
  },
  {
   "cell_type": "code",
   "execution_count": 4,
   "metadata": {},
   "outputs": [
    {
     "data": {
      "text/plain": [
       "37176"
      ]
     },
     "execution_count": 4,
     "metadata": {},
     "output_type": "execute_result"
    }
   ],
   "source": [
    "len(input_sent_semcor)"
   ]
  },
  {
   "cell_type": "markdown",
   "metadata": {},
   "source": [
    "## Translation"
   ]
  },
  {
   "cell_type": "code",
   "execution_count": 5,
   "metadata": {},
   "outputs": [],
   "source": [
    "id_file = open('data/translation/semcor/en_pt/semcor_id_2.txt', 'w')\n",
    "tr_file = open('data/translation/semcor/en_pt/semcor_tr_2.txt', 'w')\n",
    "or_file = open('data/translation/semcor/en_pt/semcor_or_2.txt', 'w')\n",
    "al_file = open('data/translation/semcor/en_pt/semcor_al_2.txt', 'w')"
   ]
  },
  {
   "cell_type": "code",
   "execution_count": null,
   "metadata": {},
   "outputs": [],
   "source": [
    "i = 0"
   ]
  },
  {
   "cell_type": "code",
   "execution_count": null,
   "metadata": {},
   "outputs": [],
   "source": [
    "API_KEY = ''\n",
    "cont = i"
   ]
  },
  {
   "cell_type": "code",
   "execution_count": 77,
   "metadata": {
    "scrolled": true
   },
   "outputs": [
    {
     "name": "stderr",
     "output_type": "stream",
     "text": [
      "0it [00:00, ?it/s]\n"
     ]
    }
   ],
   "source": [
    "from tqdm import tqdm\n",
    "import requests\n",
    "\n",
    "error_api = False\n",
    "error_reg = False\n",
    "\n",
    "for sentence in tqdm(input_sent_semcor[cont:]):\n",
    "    r = requests.get(\"https://translate.yandex.net/api/v1.5/tr/translate\", \n",
    "                      data={'key': API_KEY,\\\n",
    "                            'text': sentence,\\\n",
    "                            'lang': 'en-pt',\\\n",
    "                            'options': '4'})\n",
    "    \n",
    "    if '<Error' in r.text:\n",
    "        error_api = True\n",
    "        break\n",
    "    else:\n",
    "        tr = re.findall('<text>(.*?)</text>',r.text)\n",
    "        al = re.findall('<align>(.*?)</align>',r.text)\n",
    "        if len(tr) and len(al):\n",
    "            id_file.write(str(i) + '\\n')\n",
    "            tr_file.write(tr[0] + '\\n')\n",
    "            al_file.write(al[0] + '\\n')\n",
    "            or_file.write(sentence + '\\n')\n",
    "        else:\n",
    "            error_reg = True\n",
    "            i += 1\n",
    "    "
   ]
  },
  {
   "cell_type": "code",
   "execution_count": 165,
   "metadata": {},
   "outputs": [],
   "source": [
    "tr_file.close()\n",
    "al_file.close()\n",
    "or_file.close()\n",
    "id_file.close()"
   ]
  },
  {
   "cell_type": "markdown",
   "metadata": {},
   "source": [
    "## Backtranslation"
   ]
  },
  {
   "cell_type": "code",
   "execution_count": 82,
   "metadata": {},
   "outputs": [],
   "source": [
    "tr_file = open('data/translation/semcor/en_pt/semcor_tr_2.txt', 'r')\n",
    "\n",
    "bck_tr_file = open('data/translation/semcor/pt_en/semcor_tr_3.txt', 'w')\n",
    "bck_or_file = open('data/translation/semcor/pt_en/semcor_or_3.txt', 'w')\n",
    "bck_al_file = open('data/translation/semcor/pt_en/semcor_al_3.txt', 'w')"
   ]
  },
  {
   "cell_type": "code",
   "execution_count": 83,
   "metadata": {},
   "outputs": [],
   "source": [
    "input_sent_semcor = []\n",
    "for line in tr_file:\n",
    "    input_sent_semcor.append(line.replace('\\n', ''))"
   ]
  },
  {
   "cell_type": "code",
   "execution_count": 96,
   "metadata": {},
   "outputs": [
    {
     "name": "stderr",
     "output_type": "stream",
     "text": [
      "\n",
      "  0%|          | 0/5838 [00:00<?, ?it/s]\u001b[A\n",
      "  0%|          | 1/5838 [00:01<1:46:15,  1.09s/it]\u001b[A\n",
      "  0%|          | 2/5838 [00:02<1:42:56,  1.06s/it]\u001b[A\n",
      "  0%|          | 3/5838 [00:03<1:42:59,  1.06s/it]\u001b[A\n",
      "  0%|          | 4/5838 [00:04<1:43:42,  1.07s/it]\u001b[A\n",
      "  0%|          | 5/5838 [00:05<1:43:33,  1.07s/it]\u001b[A\n",
      "  0%|          | 6/5838 [00:06<1:44:48,  1.08s/it]\u001b[A\n",
      "  0%|          | 7/5838 [00:07<1:45:31,  1.09s/it]\u001b[A\n",
      "  0%|          | 8/5838 [00:08<1:46:13,  1.09s/it]\u001b[A\n",
      "Exception in thread Thread-18:\n",
      "Traceback (most recent call last):\n",
      "  File \"/home/krivas/anaconda3/lib/python3.6/threading.py\", line 916, in _bootstrap_inner\n",
      "    self.run()\n",
      "  File \"/home/krivas/anaconda3/lib/python3.6/site-packages/tqdm-4.19.5-py3.6.egg/tqdm/_tqdm.py\", line 144, in run\n",
      "    for instance in self.tqdm_cls._instances:\n",
      "  File \"/home/krivas/anaconda3/lib/python3.6/_weakrefset.py\", line 60, in __iter__\n",
      "    for itemref in self.data:\n",
      "RuntimeError: Set changed size during iteration\n",
      "\n",
      "100%|██████████| 5838/5838 [1:47:02<00:00,  1.10s/it]\n"
     ]
    }
   ],
   "source": [
    "error_api = False\n",
    "error_reg = False\n",
    "\n",
    "for sentence in tqdm(input_sent_semcor[cont:]):\n",
    "    r = requests.get(\"https://translate.yandex.net/api/v1.5/tr/translate\", \n",
    "                      data={'key': API_KEY,\\\n",
    "                            'text': sentence.replace(\"\\n\", \"\"),\\\n",
    "                            'lang': 'pt-en',\\\n",
    "                            'options': '4'})\n",
    "    \n",
    "    if '<Error' in r.text:\n",
    "        error_api = True\n",
    "        break\n",
    "    else:\n",
    "        tr = re.findall('<text>(.*?)</text>',r.text)\n",
    "        al = re.findall('<align>(.*?)</align>',r.text)\n",
    "        if len(tr) and len(al):\n",
    "            bck_tr_file.write(tr[0] + '\\n')\n",
    "            bck_al_file.write(al[0] + '\\n')\n",
    "            bck_or_file.write(sentence + '\\n')\n",
    "            i += 1\n",
    "        else:\n",
    "            error_reg = True\n",
    "            break\n",
    "            "
   ]
  },
  {
   "cell_type": "code",
   "execution_count": 99,
   "metadata": {},
   "outputs": [],
   "source": [
    "tr_file.close()\n",
    "bck_tr_file.close()\n",
    "bck_al_file.close()\n",
    "bck_or_file.close()"
   ]
  },
  {
   "cell_type": "markdown",
   "metadata": {},
   "source": [
    "## Check files"
   ]
  },
  {
   "cell_type": "code",
   "execution_count": 154,
   "metadata": {},
   "outputs": [],
   "source": [
    "tr_file = open('data/translation/semcor/en_pt/semcor_tr_2.txt', 'r')\n",
    "or_file = open('data/translation/semcor/en_pt/semcor_or_2.txt', 'r')\n",
    "bck_tr_file = open('data/translation/semcor/pt_en/semcor_tr_2.txt', 'r')\n",
    "bck_or_file = open('data/translation/semcor/pt_en/semcor_or_2.txt', 'r')"
   ]
  },
  {
   "cell_type": "code",
   "execution_count": 155,
   "metadata": {},
   "outputs": [],
   "source": [
    "input_or = []\n",
    "for sent in or_file:\n",
    "    input_or.append(sent)\n",
    "\n",
    "input_tr = []\n",
    "for sent in tr_file:\n",
    "    input_tr.append(sent)\n"
   ]
  },
  {
   "cell_type": "code",
   "execution_count": 156,
   "metadata": {},
   "outputs": [],
   "source": [
    "bck_input_or = []\n",
    "for sent in bck_or_file:\n",
    "    bck_input_or.append(sent)\n",
    "\n",
    "bck_input_tr = []\n",
    "for sent in bck_tr_file:\n",
    "    bck_input_tr.append(sent)    "
   ]
  },
  {
   "cell_type": "code",
   "execution_count": 157,
   "metadata": {},
   "outputs": [
    {
     "data": {
      "text/plain": [
       "'how long has it been since you reviewed the objectives of your benefit and service program ?\\n'"
      ]
     },
     "execution_count": 157,
     "metadata": {},
     "output_type": "execute_result"
    }
   ],
   "source": [
    "ix= 0\n",
    "input_or[ix]"
   ]
  },
  {
   "cell_type": "code",
   "execution_count": 158,
   "metadata": {},
   "outputs": [
    {
     "data": {
      "text/plain": [
       "'quanto tempo tem sido desde que reviu os objectivos do seu benefício e serviço de programa ?\\n'"
      ]
     },
     "execution_count": 158,
     "metadata": {},
     "output_type": "execute_result"
    }
   ],
   "source": [
    "input_tr[ix]"
   ]
  },
  {
   "cell_type": "code",
   "execution_count": 159,
   "metadata": {},
   "outputs": [
    {
     "data": {
      "text/plain": [
       "'quanto tempo tem sido desde que reviu os objectivos do seu benefício e serviço de programa ?\\n'"
      ]
     },
     "execution_count": 159,
     "metadata": {},
     "output_type": "execute_result"
    }
   ],
   "source": [
    "bck_input_or[ix]"
   ]
  },
  {
   "cell_type": "code",
   "execution_count": 162,
   "metadata": {},
   "outputs": [
    {
     "data": {
      "text/plain": [
       "'how long has it been since you reviewed the objectives of your benefit and service program ?\\n'"
      ]
     },
     "execution_count": 162,
     "metadata": {},
     "output_type": "execute_result"
    }
   ],
   "source": [
    "bck_input_tr[ix]"
   ]
  },
  {
   "cell_type": "code",
   "execution_count": 161,
   "metadata": {},
   "outputs": [],
   "source": [
    "tr_file.close()\n",
    "bck_tr_file.close()"
   ]
  }
 ],
 "metadata": {
  "kernelspec": {
   "display_name": "Python 3",
   "language": "python",
   "name": "python3"
  },
  "language_info": {
   "codemirror_mode": {
    "name": "ipython",
    "version": 3
   },
   "file_extension": ".py",
   "mimetype": "text/x-python",
   "name": "python",
   "nbconvert_exporter": "python",
   "pygments_lexer": "ipython3",
   "version": "3.6.4"
  }
 },
 "nbformat": 4,
 "nbformat_minor": 2
}
