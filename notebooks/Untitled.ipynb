{
 "cells": [
  {
   "cell_type": "code",
   "execution_count": 2,
   "metadata": {},
   "outputs": [],
   "source": [
    "import torch\n",
    "import torch.nn as nn\n",
    "from torch.nn import functional\n",
    "from torch.autograd import Variable\n",
    "from torch import optim\n",
    "import torch.nn.functional as F\n",
    "\n",
    "import pandas as pd\n",
    "import numpy as np\n",
    "import time\n",
    "import random\n",
    "import os\n",
    "\n",
    "os.chdir('../')\n",
    "\n",
    "%load_ext autoreload\n",
    "%autoreload 2"
   ]
  },
  {
   "cell_type": "code",
   "execution_count": 3,
   "metadata": {},
   "outputs": [],
   "source": [
    "from model.encoder import Encoder\n",
    "from model.decoder_v2 import Decoder_luong\n",
    "\n",
    "from src.utils import time_since\n",
    "from src.data import prepare_data\n",
    "from src.data_loader import get_loader"
   ]
  },
  {
   "cell_type": "code",
   "execution_count": 4,
   "metadata": {},
   "outputs": [],
   "source": [
    "dir_files = 'data/disambiguation/'\n",
    "dir_test = os.path.join(dir_files, 'test')"
   ]
  },
  {
   "cell_type": "code",
   "execution_count": 5,
   "metadata": {
    "scrolled": true
   },
   "outputs": [
    {
     "name": "stdout",
     "output_type": "stream",
     "text": [
      "Reading lines...\n",
      "Read 40870 train pairs\n",
      "Reading lines...\n"
     ]
    },
    {
     "ename": "FileNotFoundError",
     "evalue": "[Errno 2] No such file or directory: 'None/dev_in.txt'",
     "output_type": "error",
     "traceback": [
      "\u001b[0;31m---------------------------------------------------------------------------\u001b[0m",
      "\u001b[0;31mFileNotFoundError\u001b[0m                         Traceback (most recent call last)",
      "\u001b[0;32m<ipython-input-5-259b79306c35>\u001b[0m in \u001b[0;36m<module>\u001b[0;34m\u001b[0m\n\u001b[1;32m      4\u001b[0m         _, _, pairs_train, pairs_test, _= prepare_data(name_file, 'verbs_selected_lemma',\n\u001b[1;32m      5\u001b[0m                                                                        \u001b[0mmax_length\u001b[0m\u001b[0;34m=\u001b[0m\u001b[0;36m100\u001b[0m\u001b[0;34m,\u001b[0m \u001b[0mdir_train\u001b[0m\u001b[0;34m=\u001b[0m\u001b[0mdir_train\u001b[0m\u001b[0;34m,\u001b[0m\u001b[0;34m\u001b[0m\u001b[0;34m\u001b[0m\u001b[0m\n\u001b[0;32m----> 6\u001b[0;31m                                                                        dir_test=dir_test)\n\u001b[0m\u001b[1;32m      7\u001b[0m \u001b[0;34m\u001b[0m\u001b[0m\n\u001b[1;32m      8\u001b[0m         \u001b[0mpd\u001b[0m\u001b[0;34m.\u001b[0m\u001b[0mDataFrame\u001b[0m\u001b[0;34m(\u001b[0m\u001b[0mpairs_train\u001b[0m\u001b[0;34m)\u001b[0m\u001b[0;34m.\u001b[0m\u001b[0mto_csv\u001b[0m\u001b[0;34m(\u001b[0m\u001b[0mos\u001b[0m\u001b[0;34m.\u001b[0m\u001b[0mpath\u001b[0m\u001b[0;34m.\u001b[0m\u001b[0mjoin\u001b[0m\u001b[0;34m(\u001b[0m\u001b[0mdir_train\u001b[0m\u001b[0;34m,\u001b[0m \u001b[0mname_file\u001b[0m \u001b[0;34m+\u001b[0m \u001b[0;34m'.tsv'\u001b[0m\u001b[0;34m)\u001b[0m\u001b[0;34m,\u001b[0m \u001b[0mheader\u001b[0m\u001b[0;34m=\u001b[0m\u001b[0;32mFalse\u001b[0m\u001b[0;34m,\u001b[0m \u001b[0mindex\u001b[0m\u001b[0;34m=\u001b[0m\u001b[0;32mFalse\u001b[0m\u001b[0;34m,\u001b[0m \u001b[0msep\u001b[0m\u001b[0;34m=\u001b[0m\u001b[0;34m'\\t'\u001b[0m\u001b[0;34m)\u001b[0m\u001b[0;34m\u001b[0m\u001b[0;34m\u001b[0m\u001b[0m\n",
      "\u001b[0;32m~/disambiguation-dataset/src/data.py\u001b[0m in \u001b[0;36mprepare_data\u001b[0;34m(name_file_train, name_file_test, reverse, min_length, max_length, dir_train, dir_dev, dir_test, return_trees, output_tree, return_orig)\u001b[0m\n\u001b[1;32m    432\u001b[0m     \u001b[0mprint\u001b[0m\u001b[0;34m(\u001b[0m\u001b[0;34m\"Read %d train pairs\"\u001b[0m \u001b[0;34m%\u001b[0m \u001b[0mlen\u001b[0m\u001b[0;34m(\u001b[0m\u001b[0mpairs_train\u001b[0m\u001b[0;34m)\u001b[0m\u001b[0;34m)\u001b[0m\u001b[0;34m\u001b[0m\u001b[0;34m\u001b[0m\u001b[0m\n\u001b[1;32m    433\u001b[0m \u001b[0;34m\u001b[0m\u001b[0m\n\u001b[0;32m--> 434\u001b[0;31m     \u001b[0mpairs_dev\u001b[0m \u001b[0;34m=\u001b[0m \u001b[0mread_file\u001b[0m\u001b[0;34m(\u001b[0m\u001b[0;34m'dev'\u001b[0m\u001b[0;34m,\u001b[0m \u001b[0mreverse\u001b[0m\u001b[0;34m=\u001b[0m\u001b[0mreverse\u001b[0m\u001b[0;34m,\u001b[0m \u001b[0mdir\u001b[0m\u001b[0;34m=\u001b[0m\u001b[0mdir_dev\u001b[0m\u001b[0;34m,\u001b[0m \u001b[0mreturn_orig\u001b[0m\u001b[0;34m=\u001b[0m\u001b[0mreturn_orig\u001b[0m\u001b[0;34m)\u001b[0m\u001b[0;34m\u001b[0m\u001b[0;34m\u001b[0m\u001b[0m\n\u001b[0m\u001b[1;32m    435\u001b[0m     \u001b[0mprint\u001b[0m\u001b[0;34m(\u001b[0m\u001b[0;34m\"Read %d dev pairs\"\u001b[0m \u001b[0;34m%\u001b[0m \u001b[0mlen\u001b[0m\u001b[0;34m(\u001b[0m\u001b[0mpairs_dev\u001b[0m\u001b[0;34m)\u001b[0m\u001b[0;34m)\u001b[0m\u001b[0;34m\u001b[0m\u001b[0;34m\u001b[0m\u001b[0m\n\u001b[1;32m    436\u001b[0m \u001b[0;34m\u001b[0m\u001b[0m\n",
      "\u001b[0;32m~/disambiguation-dataset/src/data.py\u001b[0m in \u001b[0;36mread_file\u001b[0;34m(name_file, reverse, dir, return_orig)\u001b[0m\n\u001b[1;32m    389\u001b[0m     \u001b[0;31m# Read the file and split into lines\u001b[0m\u001b[0;34m\u001b[0m\u001b[0;34m\u001b[0m\u001b[0;34m\u001b[0m\u001b[0m\n\u001b[1;32m    390\u001b[0m     \u001b[0mfilename\u001b[0m \u001b[0;34m=\u001b[0m \u001b[0;34mf'{dir}/{name_file}_in.txt'\u001b[0m\u001b[0;34m\u001b[0m\u001b[0;34m\u001b[0m\u001b[0m\n\u001b[0;32m--> 391\u001b[0;31m     \u001b[0mlines_a\u001b[0m \u001b[0;34m=\u001b[0m \u001b[0mopen\u001b[0m\u001b[0;34m(\u001b[0m\u001b[0mfilename\u001b[0m\u001b[0;34m,\u001b[0m \u001b[0mencoding\u001b[0m\u001b[0;34m=\u001b[0m\u001b[0;34m'utf8'\u001b[0m\u001b[0;34m)\u001b[0m\u001b[0;34m.\u001b[0m\u001b[0mread\u001b[0m\u001b[0;34m(\u001b[0m\u001b[0;34m)\u001b[0m\u001b[0;34m.\u001b[0m\u001b[0mstrip\u001b[0m\u001b[0;34m(\u001b[0m\u001b[0;34m)\u001b[0m\u001b[0;34m.\u001b[0m\u001b[0msplit\u001b[0m\u001b[0;34m(\u001b[0m\u001b[0;34m'\\n'\u001b[0m\u001b[0;34m)\u001b[0m\u001b[0;34m\u001b[0m\u001b[0;34m\u001b[0m\u001b[0m\n\u001b[0m\u001b[1;32m    392\u001b[0m     \u001b[0mfilename\u001b[0m \u001b[0;34m=\u001b[0m \u001b[0;34mf'{dir}/{name_file}_out.txt'\u001b[0m\u001b[0;34m\u001b[0m\u001b[0;34m\u001b[0m\u001b[0m\n\u001b[1;32m    393\u001b[0m     \u001b[0mlines_b\u001b[0m \u001b[0;34m=\u001b[0m \u001b[0mopen\u001b[0m\u001b[0;34m(\u001b[0m\u001b[0mfilename\u001b[0m\u001b[0;34m,\u001b[0m \u001b[0mencoding\u001b[0m\u001b[0;34m=\u001b[0m\u001b[0;34m'utf8'\u001b[0m\u001b[0;34m)\u001b[0m\u001b[0;34m.\u001b[0m\u001b[0mread\u001b[0m\u001b[0;34m(\u001b[0m\u001b[0;34m)\u001b[0m\u001b[0;34m.\u001b[0m\u001b[0mstrip\u001b[0m\u001b[0;34m(\u001b[0m\u001b[0;34m)\u001b[0m\u001b[0;34m.\u001b[0m\u001b[0msplit\u001b[0m\u001b[0;34m(\u001b[0m\u001b[0;34m'\\n'\u001b[0m\u001b[0;34m)\u001b[0m\u001b[0;34m\u001b[0m\u001b[0;34m\u001b[0m\u001b[0m\n",
      "\u001b[0;31mFileNotFoundError\u001b[0m: [Errno 2] No such file or directory: 'None/dev_in.txt'"
     ]
    }
   ],
   "source": [
    "for name_dir in ['all_eq', 'all_less']:\n",
    "    dir_train = os.path.join(dir_files, name_dir)\n",
    "    for name_file in ['all_f1_lemma', 'all_f1_random_lemma', 'all_meteor_lemma', 'all_meteor_random_lemma']:\n",
    "        _, _, pairs_train, pairs_test, _= prepare_data(name_file, 'verbs_selected_lemma',\n",
    "                                                                       max_length=100, dir_train=dir_train, \n",
    "                                                                       dir_test=dir_test)\n",
    "        \n",
    "        pd.DataFrame(pairs_train).to_csv(os.path.join(dir_train, name_file + '.tsv'), header=False, index=False, sep='\\t')\n",
    "                "
   ]
  },
  {
   "cell_type": "code",
   "execution_count": 5,
   "metadata": {},
   "outputs": [],
   "source": [
    "pd.DataFrame(pairs_test).to_csv(os.path.join(dir_test, 'verbs_selected_lemma.tsv'), header=False, index=False, sep='\\t')"
   ]
  },
  {
   "cell_type": "code",
   "execution_count": 8,
   "metadata": {},
   "outputs": [
    {
     "name": "stdout",
     "output_type": "stream",
     "text": [
      "Better speed can be achieved with apex installed from https://www.github.com/nvidia/apex.\n"
     ]
    }
   ],
   "source": [
    "import itertools\n",
    "from typing import Iterator, List, Dict\n",
    "import fire\n",
    "import torch\n",
    "import torch.optim as optim\n",
    "from allennlp.data.dataset_readers.seq2seq import Seq2SeqDatasetReader\n",
    "from allennlp.data.iterators import BucketIterator\n",
    "from allennlp.data.fields import TextField, IndexField\n",
    "from allennlp.data.token_indexers import TokenIndexer, SingleIdTokenIndexer\n",
    "from allennlp.data.tokenizers import Token\n",
    "from allennlp.data import Instance\n",
    "\n",
    "from allennlp.data.tokenizers.character_tokenizer import CharacterTokenizer\n",
    "from allennlp.data.tokenizers.word_tokenizer import WordTokenizer\n",
    "from allennlp.data.vocabulary import Vocabulary\n",
    "from allennlp.nn.activations import Activation\n",
    "from allennlp.models.encoder_decoders.simple_seq2seq import SimpleSeq2Seq\n",
    "from allennlp.models import DecomposableAttention\n",
    "from allennlp.modules.attention import LinearAttention, BilinearAttention, DotProductAttention\n",
    "from allennlp.modules.seq2seq_encoders import PytorchSeq2SeqWrapper, StackedSelfAttentionEncoder\n",
    "from allennlp.modules.text_field_embedders import BasicTextFieldEmbedder\n",
    "from allennlp.modules.token_embedders import Embedding\n",
    "from allennlp.predictors import SimpleSeq2SeqPredictor\n",
    "from allennlp.training.trainer import Trainer\n",
    "from allennlp.data.dataset_readers import DatasetReader"
   ]
  },
  {
   "cell_type": "code",
   "execution_count": 7,
   "metadata": {},
   "outputs": [
    {
     "name": "stdout",
     "output_type": "stream",
     "text": [
      "Collecting allennlp\n",
      "\u001b[?25l  Downloading https://files.pythonhosted.org/packages/a4/c8/10342a6068a8d156a5947e03c95525d559e71ad62de0f2585ab922e14533/allennlp-0.8.3-py3-none-any.whl (5.6MB)\n",
      "\u001b[K    100% |████████████████████████████████| 5.6MB 1.5MB/s ta 0:00:011\n",
      "\u001b[?25hRequirement already satisfied: pytest in /home/krivas/anaconda3/lib/python3.7/site-packages (from allennlp) (4.0.2)\n",
      "Requirement already satisfied: requests>=2.18 in /home/krivas/anaconda3/lib/python3.7/site-packages (from allennlp) (2.21.0)\n",
      "Collecting ftfy (from allennlp)\n",
      "  Using cached https://files.pythonhosted.org/packages/8f/86/df789c5834f15ae1ca53a8d4c1fc4788676c2e32112f6a786f2625d9c6e6/ftfy-5.5.1-py3-none-any.whl\n",
      "Collecting parsimonious>=0.8.0 (from allennlp)\n",
      "\u001b[?25l  Downloading https://files.pythonhosted.org/packages/02/fc/067a3f89869a41009e1a7cdfb14725f8ddd246f30f63c645e8ef8a1c56f4/parsimonious-0.8.1.tar.gz (45kB)\n",
      "\u001b[K    100% |████████████████████████████████| 51kB 13.0MB/s ta 0:00:01\n",
      "\u001b[?25hRequirement already satisfied: pytz>=2017.3 in /home/krivas/anaconda3/lib/python3.7/site-packages (from allennlp) (2018.7)\n",
      "Requirement already satisfied: torch>=0.4.1 in /home/krivas/anaconda3/lib/python3.7/site-packages (from allennlp) (0.4.1)\n",
      "Collecting word2number>=1.1 (from allennlp)\n",
      "  Downloading https://files.pythonhosted.org/packages/4a/29/a31940c848521f0725f0df6b25dca8917f13a2025b0e8fcbe5d0457e45e6/word2number-1.1.zip\n",
      "Collecting awscli>=1.11.91 (from allennlp)\n",
      "\u001b[?25l  Downloading https://files.pythonhosted.org/packages/c9/a6/1aacae318329a0315121933261a290766c623c4d9585c1d0632fc609ba25/awscli-1.16.138-py2.py3-none-any.whl (1.5MB)\n",
      "\u001b[K    100% |████████████████████████████████| 1.5MB 739kB/s ta 0:00:011\n",
      "\u001b[?25hRequirement already satisfied: numpydoc>=0.8.0 in /home/krivas/anaconda3/lib/python3.7/site-packages (from allennlp) (0.8.0)\n",
      "Requirement already satisfied: gevent>=1.3.6 in /home/krivas/anaconda3/lib/python3.7/site-packages (from allennlp) (1.3.7)\n",
      "Requirement already satisfied: h5py in /home/krivas/anaconda3/lib/python3.7/site-packages (from allennlp) (2.8.0)\n",
      "Collecting sqlparse>=0.2.4 (from allennlp)\n",
      "  Downloading https://files.pythonhosted.org/packages/ef/53/900f7d2a54557c6a37886585a91336520e5539e3ae2423ff1102daf4f3a7/sqlparse-0.3.0-py2.py3-none-any.whl\n",
      "Requirement already satisfied: scipy in /home/krivas/anaconda3/lib/python3.7/site-packages (from allennlp) (1.1.0)\n",
      "Collecting moto>=1.3.4 (from allennlp)\n",
      "\u001b[?25l  Downloading https://files.pythonhosted.org/packages/57/40/cec89fa5c13108eb1c8de435633f8b7639e0e43fcbcdc8ac52633efeeabe/moto-1.3.7-py2.py3-none-any.whl (552kB)\n",
      "\u001b[K    100% |████████████████████████████████| 552kB 828kB/s ta 0:00:011\n",
      "\u001b[?25hRequirement already satisfied: numpy in /home/krivas/anaconda3/lib/python3.7/site-packages (from allennlp) (1.16.2)\n",
      "Collecting conllu==0.11 (from allennlp)\n",
      "  Using cached https://files.pythonhosted.org/packages/d4/2c/856344d9b69baf5b374c395b4286626181a80f0c2b2f704914d18a1cea47/conllu-0.11-py2.py3-none-any.whl\n",
      "Collecting boto3 (from allennlp)\n",
      "\u001b[?25l  Downloading https://files.pythonhosted.org/packages/bc/2d/831406bd8ad5846aef015f98cfb8ebee6a4830bdc3b3bf14ab378f79c970/boto3-1.9.128-py2.py3-none-any.whl (128kB)\n",
      "\u001b[K    100% |████████████████████████████████| 133kB 248kB/s ta 0:00:01\n",
      "\u001b[?25hCollecting pytorch-pretrained-bert>=0.6.0 (from allennlp)\n",
      "  Using cached https://files.pythonhosted.org/packages/5d/3c/d5fa084dd3a82ffc645aba78c417e6072ff48552e3301b1fa3bd711e03d4/pytorch_pretrained_bert-0.6.1-py3-none-any.whl\n",
      "Requirement already satisfied: nltk in /home/krivas/anaconda3/lib/python3.7/site-packages (from allennlp) (3.4)\n",
      "Collecting flaky (from allennlp)\n",
      "  Using cached https://files.pythonhosted.org/packages/02/42/cca66659a786567c8af98587d66d75e7d2b6e65662f8daab75db708ac35b/flaky-3.5.3-py2.py3-none-any.whl\n",
      "Requirement already satisfied: matplotlib>=2.2.3 in /home/krivas/anaconda3/lib/python3.7/site-packages (from allennlp) (3.0.2)\n",
      "Requirement already satisfied: msgpack<0.6.0,>=0.5.6 in /home/krivas/anaconda3/lib/python3.7/site-packages (from allennlp) (0.5.6)\n",
      "Requirement already satisfied: scikit-learn in /home/krivas/anaconda3/lib/python3.7/site-packages (from allennlp) (0.20.1)\n",
      "Collecting tensorboardX>=1.2 (from allennlp)\n",
      "\u001b[?25l  Downloading https://files.pythonhosted.org/packages/5c/76/89dd44458eb976347e5a6e75eb79fecf8facd46c1ce259bad54e0044ea35/tensorboardX-1.6-py2.py3-none-any.whl (129kB)\n",
      "\u001b[K    100% |████████████████████████████████| 133kB 710kB/s ta 0:00:01\n",
      "\u001b[?25hRequirement already satisfied: flask>=1.0.2 in /home/krivas/anaconda3/lib/python3.7/site-packages (from allennlp) (1.0.2)\n",
      "Requirement already satisfied: tqdm>=4.19 in /home/krivas/anaconda3/lib/python3.7/site-packages (from allennlp) (4.28.1)\n",
      "Collecting responses>=0.7 (from allennlp)\n",
      "  Downloading https://files.pythonhosted.org/packages/d1/5a/b887e89925f1de7890ef298a74438371ed4ed29b33def9e6d02dc6036fd8/responses-0.10.6-py2.py3-none-any.whl\n",
      "Collecting unidecode (from allennlp)\n",
      "  Using cached https://files.pythonhosted.org/packages/31/39/53096f9217b057cb049fe872b7fc7ce799a1a89b76cf917d9639e7a558b5/Unidecode-1.0.23-py2.py3-none-any.whl\n",
      "Collecting jsonnet>=0.10.0; sys_platform != \"win32\" (from allennlp)\n",
      "\u001b[?25l  Downloading https://files.pythonhosted.org/packages/60/dc/3abd3971869a741d7acdba166d71d4f9366b6b53028dfd56f95de356af0f/jsonnet-0.12.1.tar.gz (240kB)\n",
      "\u001b[K    100% |████████████████████████████████| 245kB 761kB/s ta 0:00:011\n",
      "\u001b[?25hCollecting overrides (from allennlp)\n",
      "  Using cached https://files.pythonhosted.org/packages/de/55/3100c6d14c1ed177492fcf8f07c4a7d2d6c996c0a7fc6a9a0a41308e7eec/overrides-1.9.tar.gz\n",
      "Requirement already satisfied: flask-cors>=3.0.7 in /home/krivas/anaconda3/lib/python3.7/site-packages (from allennlp) (3.0.7)\n",
      "Requirement already satisfied: spacy<2.2,>=2.0 in /home/krivas/anaconda3/lib/python3.7/site-packages (from allennlp) (2.0.12)\n",
      "Collecting editdistance (from allennlp)\n",
      "\u001b[?25l  Downloading https://files.pythonhosted.org/packages/51/08/8698d562fe1c3dce1f6c16c021bc68308af2e3bbd09a1913a9bb2560da6b/editdistance-0.5.3-cp37-cp37m-manylinux1_x86_64.whl (179kB)\n",
      "\u001b[K    100% |████████████████████████████████| 184kB 740kB/s ta 0:00:01\n",
      "\u001b[?25hRequirement already satisfied: py>=1.5.0 in /home/krivas/anaconda3/lib/python3.7/site-packages (from pytest->allennlp) (1.7.0)\n",
      "Requirement already satisfied: six>=1.10.0 in /home/krivas/anaconda3/lib/python3.7/site-packages (from pytest->allennlp) (1.12.0)\n",
      "Requirement already satisfied: setuptools in /home/krivas/anaconda3/lib/python3.7/site-packages (from pytest->allennlp) (40.6.3)\n",
      "Requirement already satisfied: attrs>=17.4.0 in /home/krivas/anaconda3/lib/python3.7/site-packages (from pytest->allennlp) (18.2.0)\n",
      "Requirement already satisfied: more-itertools>=4.0.0 in /home/krivas/anaconda3/lib/python3.7/site-packages (from pytest->allennlp) (4.3.0)\n",
      "Requirement already satisfied: atomicwrites>=1.0 in /home/krivas/anaconda3/lib/python3.7/site-packages (from pytest->allennlp) (1.2.1)\n",
      "Requirement already satisfied: pluggy>=0.7 in /home/krivas/anaconda3/lib/python3.7/site-packages (from pytest->allennlp) (0.8.0)\n",
      "Requirement already satisfied: idna<2.9,>=2.5 in /home/krivas/anaconda3/lib/python3.7/site-packages (from requests>=2.18->allennlp) (2.8)\n",
      "Requirement already satisfied: certifi>=2017.4.17 in /home/krivas/anaconda3/lib/python3.7/site-packages (from requests>=2.18->allennlp) (2019.3.9)\n",
      "Requirement already satisfied: urllib3<1.25,>=1.21.1 in /home/krivas/anaconda3/lib/python3.7/site-packages (from requests>=2.18->allennlp) (1.24.1)\n",
      "Requirement already satisfied: chardet<3.1.0,>=3.0.2 in /home/krivas/anaconda3/lib/python3.7/site-packages (from requests>=2.18->allennlp) (3.0.4)\n",
      "Requirement already satisfied: wcwidth in /home/krivas/anaconda3/lib/python3.7/site-packages (from ftfy->allennlp) (0.1.7)\n",
      "Collecting colorama<=0.3.9,>=0.2.5 (from awscli>=1.11.91->allennlp)\n",
      "  Using cached https://files.pythonhosted.org/packages/db/c8/7dcf9dbcb22429512708fe3a547f8b6101c0d02137acbd892505aee57adf/colorama-0.3.9-py2.py3-none-any.whl\n",
      "Collecting s3transfer<0.3.0,>=0.2.0 (from awscli>=1.11.91->allennlp)\n",
      "  Using cached https://files.pythonhosted.org/packages/d7/de/5737f602e22073ecbded7a0c590707085e154e32b68d86545dcc31004c02/s3transfer-0.2.0-py2.py3-none-any.whl\n"
     ]
    },
    {
     "name": "stdout",
     "output_type": "stream",
     "text": [
      "Collecting rsa<=3.5.0,>=3.1.2 (from awscli>=1.11.91->allennlp)\n",
      "  Using cached https://files.pythonhosted.org/packages/e1/ae/baedc9cb175552e95f3395c43055a6a5e125ae4d48a1d7a924baca83e92e/rsa-3.4.2-py2.py3-none-any.whl\n",
      "Requirement already satisfied: PyYAML<=3.13,>=3.10 in /home/krivas/anaconda3/lib/python3.7/site-packages (from awscli>=1.11.91->allennlp) (3.13)\n",
      "Collecting botocore==1.12.128 (from awscli>=1.11.91->allennlp)\n",
      "\u001b[?25l  Downloading https://files.pythonhosted.org/packages/57/80/9f9f6a23f244b21f75ee424167aca7c51dfb1241d6061ec02bd1a8658d02/botocore-1.12.128-py2.py3-none-any.whl (5.4MB)\n",
      "\u001b[K    100% |████████████████████████████████| 5.4MB 695kB/s ta 0:00:01\n",
      "\u001b[?25hRequirement already satisfied: docutils>=0.10 in /home/krivas/anaconda3/lib/python3.7/site-packages (from awscli>=1.11.91->allennlp) (0.14)\n",
      "Requirement already satisfied: sphinx>=1.2.3 in /home/krivas/anaconda3/lib/python3.7/site-packages (from numpydoc>=0.8.0->allennlp) (1.8.2)\n",
      "Requirement already satisfied: Jinja2>=2.3 in /home/krivas/anaconda3/lib/python3.7/site-packages (from numpydoc>=0.8.0->allennlp) (2.10)\n",
      "Requirement already satisfied: greenlet>=0.4.14 in /home/krivas/anaconda3/lib/python3.7/site-packages (from gevent>=1.3.6->allennlp) (0.4.15)\n",
      "Requirement already satisfied: boto>=2.36.0 in /home/krivas/anaconda3/lib/python3.7/site-packages (from moto>=1.3.4->allennlp) (2.49.0)\n",
      "Collecting mock (from moto>=1.3.4->allennlp)\n",
      "  Using cached https://files.pythonhosted.org/packages/e6/35/f187bdf23be87092bd0f1200d43d23076cee4d0dec109f195173fd3ebc79/mock-2.0.0-py2.py3-none-any.whl\n",
      "Collecting docker>=2.5.1 (from moto>=1.3.4->allennlp)\n",
      "\u001b[?25l  Downloading https://files.pythonhosted.org/packages/48/68/c3afca1a5aa8d2997ec3b8ee822a4d752cf85907b321f07ea86888545152/docker-3.7.2-py2.py3-none-any.whl (134kB)\n",
      "\u001b[K    100% |████████████████████████████████| 143kB 12.6MB/s ta 0:00:01\n",
      "\u001b[?25hRequirement already satisfied: werkzeug in /home/krivas/anaconda3/lib/python3.7/site-packages (from moto>=1.3.4->allennlp) (0.14.1)\n",
      "Collecting aws-xray-sdk<0.96,>=0.93 (from moto>=1.3.4->allennlp)\n",
      "  Using cached https://files.pythonhosted.org/packages/a4/a5/da7887285564f9e0ae5cd25a453cca36e2cd43d8ccc9effde260b4d80904/aws_xray_sdk-0.95-py2.py3-none-any.whl\n",
      "Collecting pyaml (from moto>=1.3.4->allennlp)\n",
      "  Using cached https://files.pythonhosted.org/packages/c5/e1/1523fb1dab744e2c6b1f02446f2139a78726c18c062a8ddd53875abb20f8/pyaml-18.11.0-py2.py3-none-any.whl\n",
      "Collecting xmltodict (from moto>=1.3.4->allennlp)\n",
      "  Downloading https://files.pythonhosted.org/packages/28/fd/30d5c1d3ac29ce229f6bdc40bbc20b28f716e8b363140c26eff19122d8a5/xmltodict-0.12.0-py2.py3-none-any.whl\n",
      "Collecting python-jose<3.0.0 (from moto>=1.3.4->allennlp)\n",
      "  Using cached https://files.pythonhosted.org/packages/bf/5c/5fa238c0c5b0656994b52721dd8b1d7bf52ebd8786518dde794f44de86b6/python_jose-2.0.2-py2.py3-none-any.whl\n",
      "Collecting jsondiff==1.1.1 (from moto>=1.3.4->allennlp)\n",
      "  Using cached https://files.pythonhosted.org/packages/bd/5f/13e28a2f9abeda2ffb3f44f2f809b01b52bc02cdb63816e05b8c9cbbdfc5/jsondiff-1.1.1.tar.gz\n",
      "Requirement already satisfied: cryptography>=2.3.0 in /home/krivas/anaconda3/lib/python3.7/site-packages (from moto>=1.3.4->allennlp) (2.4.2)\n",
      "Requirement already satisfied: python-dateutil<3.0.0,>=2.1 in /home/krivas/anaconda3/lib/python3.7/site-packages (from moto>=1.3.4->allennlp) (2.7.5)\n",
      "Collecting jmespath<1.0.0,>=0.7.1 (from boto3->allennlp)\n",
      "  Downloading https://files.pythonhosted.org/packages/83/94/7179c3832a6d45b266ddb2aac329e101367fbdb11f425f13771d27f225bb/jmespath-0.9.4-py2.py3-none-any.whl\n",
      "Requirement already satisfied: regex in /home/krivas/anaconda3/lib/python3.7/site-packages (from pytorch-pretrained-bert>=0.6.0->allennlp) (2018.7.11)\n",
      "Requirement already satisfied: singledispatch in /home/krivas/anaconda3/lib/python3.7/site-packages (from nltk->allennlp) (3.4.0.3)\n",
      "Requirement already satisfied: cycler>=0.10 in /home/krivas/anaconda3/lib/python3.7/site-packages (from matplotlib>=2.2.3->allennlp) (0.10.0)\n",
      "Requirement already satisfied: kiwisolver>=1.0.1 in /home/krivas/anaconda3/lib/python3.7/site-packages (from matplotlib>=2.2.3->allennlp) (1.0.1)\n",
      "Requirement already satisfied: pyparsing!=2.0.4,!=2.1.2,!=2.1.6,>=2.0.1 in /home/krivas/anaconda3/lib/python3.7/site-packages (from matplotlib>=2.2.3->allennlp) (2.3.0)\n",
      "Collecting protobuf>=3.2.0 (from tensorboardX>=1.2->allennlp)\n",
      "\u001b[?25l  Downloading https://files.pythonhosted.org/packages/19/a5/ac51df34cdf4739574492ed4903c11dadd72a7bec4a31bb0496f4f50fc19/protobuf-3.7.1-cp37-cp37m-manylinux1_x86_64.whl (1.2MB)\n",
      "\u001b[K    100% |████████████████████████████████| 1.2MB 772kB/s ta 0:00:011\n",
      "\u001b[?25hRequirement already satisfied: itsdangerous>=0.24 in /home/krivas/anaconda3/lib/python3.7/site-packages (from flask>=1.0.2->allennlp) (1.1.0)\n",
      "Requirement already satisfied: click>=5.1 in /home/krivas/anaconda3/lib/python3.7/site-packages (from flask>=1.0.2->allennlp) (7.0)\n",
      "Requirement already satisfied: murmurhash<0.29,>=0.28 in /home/krivas/anaconda3/lib/python3.7/site-packages (from spacy<2.2,>=2.0->allennlp) (0.28.0)\n",
      "Requirement already satisfied: cymem<1.32,>=1.30 in /home/krivas/anaconda3/lib/python3.7/site-packages (from spacy<2.2,>=2.0->allennlp) (1.31.2)\n",
      "Requirement already satisfied: preshed<2.0.0,>=1.0.0 in /home/krivas/anaconda3/lib/python3.7/site-packages (from spacy<2.2,>=2.0->allennlp) (1.0.1)\n",
      "Requirement already satisfied: thinc<6.11.0,>=6.10.3 in /home/krivas/anaconda3/lib/python3.7/site-packages (from spacy<2.2,>=2.0->allennlp) (6.10.3)\n",
      "Requirement already satisfied: plac<1.0.0,>=0.9.6 in /home/krivas/anaconda3/lib/python3.7/site-packages (from spacy<2.2,>=2.0->allennlp) (0.9.6)\n",
      "Requirement already satisfied: ujson>=1.35 in /home/krivas/anaconda3/lib/python3.7/site-packages (from spacy<2.2,>=2.0->allennlp) (1.35)\n",
      "Requirement already satisfied: dill<0.3,>=0.2 in /home/krivas/anaconda3/lib/python3.7/site-packages (from spacy<2.2,>=2.0->allennlp) (0.2.9)\n",
      "Collecting pyasn1>=0.1.3 (from rsa<=3.5.0,>=3.1.2->awscli>=1.11.91->allennlp)\n",
      "  Using cached https://files.pythonhosted.org/packages/7b/7c/c9386b82a25115cccf1903441bba3cbadcfae7b678a20167347fa8ded34c/pyasn1-0.4.5-py2.py3-none-any.whl\n",
      "Requirement already satisfied: Pygments>=2.0 in /home/krivas/anaconda3/lib/python3.7/site-packages (from sphinx>=1.2.3->numpydoc>=0.8.0->allennlp) (2.3.1)\n",
      "Requirement already satisfied: snowballstemmer>=1.1 in /home/krivas/anaconda3/lib/python3.7/site-packages (from sphinx>=1.2.3->numpydoc>=0.8.0->allennlp) (1.2.1)\n",
      "Requirement already satisfied: babel!=2.0,>=1.3 in /home/krivas/anaconda3/lib/python3.7/site-packages (from sphinx>=1.2.3->numpydoc>=0.8.0->allennlp) (2.6.0)\n",
      "Requirement already satisfied: alabaster<0.8,>=0.7 in /home/krivas/anaconda3/lib/python3.7/site-packages (from sphinx>=1.2.3->numpydoc>=0.8.0->allennlp) (0.7.12)\n",
      "Requirement already satisfied: imagesize in /home/krivas/anaconda3/lib/python3.7/site-packages (from sphinx>=1.2.3->numpydoc>=0.8.0->allennlp) (1.1.0)\n",
      "Requirement already satisfied: packaging in /home/krivas/anaconda3/lib/python3.7/site-packages (from sphinx>=1.2.3->numpydoc>=0.8.0->allennlp) (18.0)\n",
      "Requirement already satisfied: sphinxcontrib-websupport in /home/krivas/anaconda3/lib/python3.7/site-packages (from sphinx>=1.2.3->numpydoc>=0.8.0->allennlp) (1.1.0)\n",
      "Requirement already satisfied: MarkupSafe>=0.23 in /home/krivas/anaconda3/lib/python3.7/site-packages (from Jinja2>=2.3->numpydoc>=0.8.0->allennlp) (1.1.0)\n",
      "Collecting pbr>=0.11 (from mock->moto>=1.3.4->allennlp)\n",
      "\u001b[?25l  Downloading https://files.pythonhosted.org/packages/14/09/12fe9a14237a6b7e0ba3a8d6fcf254bf4b10ec56a0185f73d651145e9222/pbr-5.1.3-py2.py3-none-any.whl (107kB)\n",
      "\u001b[K    100% |████████████████████████████████| 112kB 10.9MB/s ta 0:00:01\n",
      "\u001b[?25hCollecting docker-pycreds>=0.4.0 (from docker>=2.5.1->moto>=1.3.4->allennlp)\n",
      "  Using cached https://files.pythonhosted.org/packages/f5/e8/f6bd1eee09314e7e6dee49cbe2c5e22314ccdb38db16c9fc72d2fa80d054/docker_pycreds-0.4.0-py2.py3-none-any.whl\n",
      "Collecting websocket-client>=0.32.0 (from docker>=2.5.1->moto>=1.3.4->allennlp)\n",
      "\u001b[?25l  Downloading https://files.pythonhosted.org/packages/29/19/44753eab1fdb50770ac69605527e8859468f3c0fd7dc5a76dd9c4dbd7906/websocket_client-0.56.0-py2.py3-none-any.whl (200kB)\n"
     ]
    },
    {
     "name": "stdout",
     "output_type": "stream",
     "text": [
      "\u001b[K    100% |████████████████████████████████| 204kB 795kB/s ta 0:00:01\n",
      "\u001b[?25hRequirement already satisfied: wrapt in /home/krivas/anaconda3/lib/python3.7/site-packages (from aws-xray-sdk<0.96,>=0.93->moto>=1.3.4->allennlp) (1.10.11)\n",
      "Collecting jsonpickle (from aws-xray-sdk<0.96,>=0.93->moto>=1.3.4->allennlp)\n",
      "  Using cached https://files.pythonhosted.org/packages/dc/12/8c44eabb501e2bc0aec0dd152b328074d98a50968d3a02be28f6037f0c6a/jsonpickle-1.1-py2.py3-none-any.whl\n",
      "Collecting pycryptodome<4.0.0,>=3.3.1 (from python-jose<3.0.0->moto>=1.3.4->allennlp)\n",
      "\u001b[?25l  Downloading https://files.pythonhosted.org/packages/62/a8/06e9a96c07e334459eec9673af19f20e60aa7fdeaf31215c10c06a748206/pycryptodome-3.8.0-cp37-cp37m-manylinux1_x86_64.whl (9.7MB)\n",
      "\u001b[K    100% |████████████████████████████████| 9.7MB 2.0MB/s ta 0:00:011\n",
      "\u001b[?25hCollecting ecdsa<1.0 (from python-jose<3.0.0->moto>=1.3.4->allennlp)\n",
      "  Using cached https://files.pythonhosted.org/packages/63/f4/73669d51825516ce8c43b816c0a6b64cd6eb71d08b99820c00792cb42222/ecdsa-0.13-py2.py3-none-any.whl\n",
      "Requirement already satisfied: future<1.0 in /home/krivas/anaconda3/lib/python3.7/site-packages (from python-jose<3.0.0->moto>=1.3.4->allennlp) (0.17.1)\n",
      "Requirement already satisfied: cffi!=1.11.3,>=1.7 in /home/krivas/anaconda3/lib/python3.7/site-packages (from cryptography>=2.3.0->moto>=1.3.4->allennlp) (1.11.5)\n",
      "Requirement already satisfied: asn1crypto>=0.21.0 in /home/krivas/anaconda3/lib/python3.7/site-packages (from cryptography>=2.3.0->moto>=1.3.4->allennlp) (0.24.0)\n",
      "Requirement already satisfied: msgpack-numpy<1.0.0,>=0.4.1 in /home/krivas/anaconda3/lib/python3.7/site-packages (from thinc<6.11.0,>=6.10.3->spacy<2.2,>=2.0->allennlp) (0.4.4.2)\n",
      "Requirement already satisfied: cytoolz<0.10,>=0.9.0 in /home/krivas/anaconda3/lib/python3.7/site-packages (from thinc<6.11.0,>=6.10.3->spacy<2.2,>=2.0->allennlp) (0.9.0.1)\n",
      "Requirement already satisfied: pycparser in /home/krivas/anaconda3/lib/python3.7/site-packages (from cffi!=1.11.3,>=1.7->cryptography>=2.3.0->moto>=1.3.4->allennlp) (2.19)\n",
      "Requirement already satisfied: toolz>=0.8.0 in /home/krivas/anaconda3/lib/python3.7/site-packages (from cytoolz<0.10,>=0.9.0->thinc<6.11.0,>=6.10.3->spacy<2.2,>=2.0->allennlp) (0.9.0)\n",
      "Building wheels for collected packages: parsimonious, word2number, jsonnet, overrides, jsondiff\n",
      "  Running setup.py bdist_wheel for parsimonious ... \u001b[?25ldone\n",
      "\u001b[?25h  Stored in directory: /home/krivas/.cache/pip/wheels/b7/8d/e7/a0e74217da5caeb3c1c7689639b6d28ddbf9985b840bc96a9a\n",
      "  Running setup.py bdist_wheel for word2number ... \u001b[?25ldone\n",
      "\u001b[?25h  Stored in directory: /home/krivas/.cache/pip/wheels/46/2f/53/5f5c1d275492f2fce1cdab9a9bb12d49286dead829a4078e0e\n",
      "  Running setup.py bdist_wheel for jsonnet ... \u001b[?25ldone\n",
      "\u001b[?25h  Stored in directory: /home/krivas/.cache/pip/wheels/f0/47/51/a178b15274ed0db775a1ae9c799ce31e511609c3ab75a7dec5\n",
      "  Running setup.py bdist_wheel for overrides ... \u001b[?25ldone\n",
      "\u001b[?25h  Stored in directory: /home/krivas/.cache/pip/wheels/8d/52/86/e5a83b1797e7d263b458d2334edd2704c78508b3eea9323718\n",
      "  Running setup.py bdist_wheel for jsondiff ... \u001b[?25ldone\n",
      "\u001b[?25h  Stored in directory: /home/krivas/.cache/pip/wheels/68/08/07/69d839606fb7fdc778fa86476abc0a864693d45969a0c1936c\n",
      "Successfully built parsimonious word2number jsonnet overrides jsondiff\n",
      "Installing collected packages: ftfy, parsimonious, word2number, colorama, jmespath, botocore, s3transfer, pyasn1, rsa, awscli, sqlparse, boto3, pbr, mock, docker-pycreds, websocket-client, docker, responses, jsonpickle, aws-xray-sdk, pyaml, xmltodict, pycryptodome, ecdsa, python-jose, jsondiff, moto, conllu, pytorch-pretrained-bert, flaky, protobuf, tensorboardX, unidecode, jsonnet, overrides, editdistance, allennlp\n",
      "  Found existing installation: colorama 0.4.1\n",
      "    Uninstalling colorama-0.4.1:\n",
      "      Successfully uninstalled colorama-0.4.1\n",
      "Successfully installed allennlp-0.8.3 aws-xray-sdk-0.95 awscli-1.16.138 boto3-1.9.128 botocore-1.12.128 colorama-0.3.9 conllu-0.11 docker-3.7.2 docker-pycreds-0.4.0 ecdsa-0.13 editdistance-0.5.3 flaky-3.5.3 ftfy-5.5.1 jmespath-0.9.4 jsondiff-1.1.1 jsonnet-0.12.1 jsonpickle-1.1 mock-2.0.0 moto-1.3.7 overrides-1.9 parsimonious-0.8.1 pbr-5.1.3 protobuf-3.7.1 pyaml-18.11.0 pyasn1-0.4.5 pycryptodome-3.8.0 python-jose-2.0.2 pytorch-pretrained-bert-0.6.1 responses-0.10.6 rsa-3.4.2 s3transfer-0.2.0 sqlparse-0.3.0 tensorboardX-1.6 unidecode-1.0.23 websocket-client-0.56.0 word2number-1.1 xmltodict-0.12.0\n"
     ]
    }
   ],
   "source": [
    "!pip install allennlp"
   ]
  },
  {
   "cell_type": "code",
   "execution_count": null,
   "metadata": {},
   "outputs": [],
   "source": []
  }
 ],
 "metadata": {
  "kernelspec": {
   "display_name": "Python 3",
   "language": "python",
   "name": "python3"
  },
  "language_info": {
   "codemirror_mode": {
    "name": "ipython",
    "version": 3
   },
   "file_extension": ".py",
   "mimetype": "text/x-python",
   "name": "python",
   "nbconvert_exporter": "python",
   "pygments_lexer": "ipython3",
   "version": "3.7.1"
  }
 },
 "nbformat": 4,
 "nbformat_minor": 2
}
