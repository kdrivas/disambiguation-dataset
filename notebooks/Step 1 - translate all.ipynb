{
 "cells": [
  {
   "cell_type": "markdown",
   "metadata": {},
   "source": [
    "trnsl.1.1.20190208T160544Z.4984aee4447d8d41.9ded34b703cb87362a2a60d529d521163be1c8ae"
   ]
  },
  {
   "cell_type": "markdown",
   "metadata": {},
   "source": [
    "https://translate.yandex.net/api/v1.5/tr/translate\n",
    " ? key=<API key>\n",
    " & text=<text to translate>\n",
    " & lang=<translation direction>\n",
    " & [format=<text format>]\n",
    " & [options=<translation options>]"
   ]
  },
  {
   "cell_type": "code",
   "execution_count": 7,
   "metadata": {},
   "outputs": [],
   "source": [
    "from pathlib import Path\n",
    "import os\n",
    "import re\n",
    "from tqdm import tqdm\n",
    "from pathlib import Path\n",
    "import requests\n",
    "import time\n",
    "\n",
    "#os.chdir('../')\n",
    "\n",
    "from src.data import read_sentences"
   ]
  },
  {
   "cell_type": "code",
   "execution_count": 48,
   "metadata": {},
   "outputs": [],
   "source": [
    "def get_request(api_key, sentence, lang_src, lang_tgt):\n",
    "    r = requests.get(\"https://translate.yandex.net/api/v1.5/tr/translate\", \n",
    "                        data={'key': api_key,\\\n",
    "                            'text': sentence,\\\n",
    "                            'lang': f'{lang_src}-{lang_tgt}',\\\n",
    "                            'options': '4'})\n",
    "    \n",
    "    return r"
   ]
  },
  {
   "cell_type": "code",
   "execution_count": 58,
   "metadata": {},
   "outputs": [],
   "source": [
    "r = get_request(API_KEYS[2], 'hi world lalala', 'en', 'pt')"
   ]
  },
  {
   "cell_type": "code",
   "execution_count": 59,
   "metadata": {},
   "outputs": [],
   "source": [
    "                tr = re.findall('<text>(.*?)</text>', r.text)\n",
    "                al = re.findall('<align>(.*?)</align>',r.text)"
   ]
  },
  {
   "cell_type": "code",
   "execution_count": 60,
   "metadata": {},
   "outputs": [
    {
     "data": {
      "text/plain": [
       "['oi mundial lalala']"
      ]
     },
     "execution_count": 60,
     "metadata": {},
     "output_type": "execute_result"
    }
   ],
   "source": [
    "tr"
   ]
  },
  {
   "cell_type": "code",
   "execution_count": 61,
   "metadata": {},
   "outputs": [
    {
     "data": {
      "text/plain": [
       "['0:15-0:17,0:8-0:10,9:6-11:6']"
      ]
     },
     "execution_count": 61,
     "metadata": {},
     "output_type": "execute_result"
    }
   ],
   "source": [
    "al"
   ]
  },
  {
   "cell_type": "code",
   "execution_count": 42,
   "metadata": {},
   "outputs": [],
   "source": [
    "def translate(path, sentences, api_keys, lang_src='en', lang_tgt='pt'):\n",
    "    ix_key = 0\n",
    "    no_tr = []\n",
    "    translations = []\n",
    "    alignments = []\n",
    "    id_translations = []\n",
    "    with tqdm(total=len(sentences)) as pbar:\n",
    "        for ix_sentence, sentence in enumerate(sentences):\n",
    "            try:\n",
    "                r = get_request(api_keys[ix_key], sentence, lang_src, lang_tgt)\n",
    "                while 'Maximum daily translated text volume exceeded' in r.text and ix_key < len(api_keys):\n",
    "                    print('Changing key')\n",
    "                    ix_key += 1\n",
    "                    r = get_request(api_keys[ix_key], sentence, lang_src, lang_tgt)\n",
    "            except:\n",
    "                print('sleeping')\n",
    "                time.sleep(50)\n",
    "                r = get_request(api_keys[ix_key], sentence, lang_src, lang_tgt)\n",
    "                while 'Maximum daily translated text volume exceeded' in r.text and ix_key < len(api_keys):\n",
    "                    print('Changing key')\n",
    "                    ix_key += 1\n",
    "                    r = get_request(api_keys[ix_key], sentence, lang_src, lang_tgt)\n",
    "                    \n",
    "            if ix_key >= len(api_keys):\n",
    "                break\n",
    "            else:\n",
    "                tr = re.findall('<text>(.*?)</text>', r.text)\n",
    "                al = re.findall('<align>(.*?)</align>',r.text)\n",
    "                if len(tr) and len(al):\n",
    "                    translations.append(tr[0])\n",
    "                    alignments.append(al[0])\n",
    "                    id_translations.append(ix_sentence)\n",
    "                else:\n",
    "                    no_tr.append(ix_sentence)\n",
    "            pbar.update(1)\n",
    "    \n",
    "    print('No translated:', no_tr)\n",
    "    back_translations = []\n",
    "    for sentence in translations:\n",
    "        try:\n",
    "            r = get_request(api_keys[ix_key], sentence, lang_tgt, lang_src)\n",
    "            while 'Maximum daily translated text volume exceeded' in r.text and ix_key < len(api_keys):\n",
    "                ix_key += 1\n",
    "                r = get_request(api_keys[ix_key], sentence, lang_tgt, lang_src)\n",
    "        except:\n",
    "            print('sleeping')\n",
    "            time.sleep(50)\n",
    "            r = get_request(api_keys[ix_key], sentence, lang_tgt, lang_src)\n",
    "            while 'Maximum daily translated text volume exceeded' in r.text and ix_key < len(api_keys):\n",
    "                print('Changing key')\n",
    "                ix_key += 1\n",
    "                r = get_request(api_keys[ix_key], sentence, lang_tgt, lang_src)\n",
    "        if ix_key >= len(api_keys):\n",
    "            break\n",
    "        else:\n",
    "            tr = re.findall('<text>(.*?)</text>', r.text)\n",
    "            if len(tr):\n",
    "                back_translations.append(tr[0])\n",
    "                \n",
    "    or_file = open(path / 'or.txt', 'w')\n",
    "    trn_file = open(path / 'trn.txt', 'w')\n",
    "    bck_file = open(path / 'bck.txt', 'w')\n",
    "    al_file = open(path / 'al.txt', 'w')\n",
    "    id_file = open(path / 'id.txt', 'w')\n",
    "\n",
    "    for ix in range(len(id_translations)):\n",
    "        or_file.write(sentences[ix] + '\\n')\n",
    "        trn_file.write(translations[ix] + '\\n')\n",
    "        bck_file.write(back_translations[ix] + '\\n')\n",
    "        al_file.write(alignments[ix] + '\\n')\n",
    "        id_file.write(id_translations[ix] + '\\n')\n",
    "\n",
    "    or_file.close()\n",
    "    trn_file.close()\n",
    "    bck_file.close()\n",
    "    al_file.close()\n",
    "    id_file.close()\n",
    "    \n",
    "    return id_translations, translations, alignments, back_translations, no_tr"
   ]
  },
  {
   "cell_type": "code",
   "execution_count": 3,
   "metadata": {},
   "outputs": [],
   "source": [
    "API_KEYS = ['trnsl.1.1.20190214T025847Z.fa65319f70094455.5e6c51a7180828d7d9adcc484b1aec45d0452fe1',\n",
    "           'trnsl.1.1.20190214T043436Z.15ee3f5f639d23db.232d53490edf34112c2aec6acf83161c31d2cdfb',\n",
    "           'trnsl.1.1.20190208T160544Z.4984aee4447d8d41.9ded34b703cb87362a2a60d529d521163be1c8ae',\n",
    "           'trnsl.1.1.20190217T034227Z.98276dd651ef8acb.eacf29edd667aa0789cecf1b88bfb18dbc9eaa8b',\n",
    "           'trnsl.1.1.20190216T170716Z.034edf2a933741cc.4378585f680c1e47e8bdacd36d2cbdfdd1ec9c2c',\n",
    "           'trnsl.1.1.20190211T055047Z.c615f5fcf5c0b79e.30465e943c8c4d6222723a66b8a1bc381a9c1f81',\n",
    "           'trnsl.1.1.20190114T011658Z.9589270a6c96ec20.a04b9a672564f0b41b2a5271aeed8375e4f2c012',\n",
    "           'trnsl.1.1.20190211T050608Z.273880813ec60ed0.e6bc9d5122fce64de7dacf412e648c1c658e13bc',\n",
    "           'trnsl.1.1.20190210T185353Z.f5abf55e19682a61.88f40c7fa1dba8fb3eb076700b9bb8c93a0ca44e',\n",
    "           'trnsl.1.1.20190211T031906Z.bb3fcac7713d5e2e.f0cca830a5c82c1a533729209ac23313c3043e36',\n",
    "           'trnsl.1.1.20190416T235935Z.39f031ec25aa7b49.9059497d62a297d20c574e7517ce2e5119da4c4e',\n",
    "           'trnsl.1.1.20190417T000255Z.eb207b405ac31309.7043d5c58aec4959ad1edd00858a9a62cd12022b',\n",
    "           'trnsl.1.1.20190417T000555Z.24b9a28a589b75f5.deb7d1a519106a3b586ab8d1444f296c4d42b9ca',\n",
    "           'trnsl.1.1.20190211T210021Z.b390760b52adfb41.8b94e1c488240160fece6452d8c6920b29f24fa6',\n",
    "           'trnsl.1.1.20190213T225706Z.cf3e02766e4decba.45935fed1c0e9610e5576d802eba55440ef13bbe']"
   ]
  },
  {
   "cell_type": "markdown",
   "metadata": {},
   "source": [
    "## Reading data"
   ]
  },
  {
   "cell_type": "code",
   "execution_count": 4,
   "metadata": {},
   "outputs": [],
   "source": []
  },
  {
   "cell_type": "code",
   "execution_count": 5,
   "metadata": {},
   "outputs": [
    {
     "data": {
      "text/plain": [
       "37176"
      ]
     },
     "execution_count": 5,
     "metadata": {},
     "output_type": "execute_result"
    }
   ],
   "source": [
    "input_sent_semcor, sent_to_id_semcor, target_sent_semcor = read_sentences(Path.cwd() / 'data/WSD_Evaluation_Framework/Training_Corpora/', 'SemCor', False)\n",
    "len(input_sent_semcor)\n"
   ]
  },
  {
   "cell_type": "code",
   "execution_count": 40,
   "metadata": {},
   "outputs": [
    {
     "data": {
      "text/plain": [
       "1173"
      ]
     },
     "execution_count": 40,
     "metadata": {},
     "output_type": "execute_result"
    }
   ],
   "source": [
    "input_sent_dev, sent_to_id_dev, target_sent_dev = read_sentences(Path.cwd() / 'data/WSD_Evaluation_Framework/Evaluation_Datasets/', 'ALL', False)\n",
    "len(input_sent_dev)\n"
   ]
  },
  {
   "cell_type": "markdown",
   "metadata": {},
   "source": [
    "## Translation"
   ]
  },
  {
   "cell_type": "code",
   "execution_count": 43,
   "metadata": {},
   "outputs": [
    {
     "name": "stderr",
     "output_type": "stream",
     "text": [
      "\n",
      "  0%|          | 0/37176 [00:00<?, ?it/s]\u001b[A"
     ]
    },
    {
     "name": "stdout",
     "output_type": "stream",
     "text": [
      "Changing key\n",
      "Changing key\n",
      "Changing key\n",
      "Changing key\n"
     ]
    },
    {
     "name": "stderr",
     "output_type": "stream",
     "text": [
      "\n",
      "  0%|          | 1/37176 [00:05<59:23:01,  5.75s/it]\u001b[A\n",
      "  0%|          | 2/37176 [00:06<45:08:26,  4.37s/it]\u001b[A\n",
      "  0%|          | 3/37176 [00:08<35:13:35,  3.41s/it]\u001b[A\n",
      "  0%|          | 4/37176 [00:09<28:40:21,  2.78s/it]\u001b[A\n",
      "  0%|          | 5/37176 [00:10<23:10:16,  2.24s/it]\u001b[A"
     ]
    },
    {
     "name": "stdout",
     "output_type": "stream",
     "text": [
      "sleeping\n"
     ]
    },
    {
     "name": "stderr",
     "output_type": "stream",
     "text": [
      "\n",
      "\u001b[A"
     ]
    },
    {
     "ename": "KeyboardInterrupt",
     "evalue": "",
     "output_type": "error",
     "traceback": [
      "\u001b[0;31m---------------------------------------------------------------------------\u001b[0m",
      "\u001b[0;31mKeyboardInterrupt\u001b[0m                         Traceback (most recent call last)",
      "\u001b[0;32m<ipython-input-42-9ff3c5e7856e>\u001b[0m in \u001b[0;36mtranslate\u001b[0;34m(path, sentences, api_keys, lang_src, lang_tgt)\u001b[0m\n\u001b[1;32m      9\u001b[0m             \u001b[0;32mtry\u001b[0m\u001b[0;34m:\u001b[0m\u001b[0;34m\u001b[0m\u001b[0;34m\u001b[0m\u001b[0m\n\u001b[0;32m---> 10\u001b[0;31m                 \u001b[0mr\u001b[0m \u001b[0;34m=\u001b[0m \u001b[0mget_request\u001b[0m\u001b[0;34m(\u001b[0m\u001b[0mapi_keys\u001b[0m\u001b[0;34m[\u001b[0m\u001b[0mix_key\u001b[0m\u001b[0;34m]\u001b[0m\u001b[0;34m,\u001b[0m \u001b[0msentence\u001b[0m\u001b[0;34m,\u001b[0m \u001b[0mlang_src\u001b[0m\u001b[0;34m,\u001b[0m \u001b[0mlang_tgt\u001b[0m\u001b[0;34m)\u001b[0m\u001b[0;34m\u001b[0m\u001b[0;34m\u001b[0m\u001b[0m\n\u001b[0m\u001b[1;32m     11\u001b[0m                 \u001b[0;32mwhile\u001b[0m \u001b[0;34m'Maximum daily translated text volume exceeded'\u001b[0m \u001b[0;32min\u001b[0m \u001b[0mr\u001b[0m\u001b[0;34m.\u001b[0m\u001b[0mtext\u001b[0m \u001b[0;32mand\u001b[0m \u001b[0mix_key\u001b[0m \u001b[0;34m<\u001b[0m \u001b[0mlen\u001b[0m\u001b[0;34m(\u001b[0m\u001b[0mapi_keys\u001b[0m\u001b[0;34m)\u001b[0m\u001b[0;34m:\u001b[0m\u001b[0;34m\u001b[0m\u001b[0;34m\u001b[0m\u001b[0m\n",
      "\u001b[0;32m<ipython-input-12-bd5eee8d708c>\u001b[0m in \u001b[0;36mget_request\u001b[0;34m(api_key, sentence, lang_src, lang_tgt)\u001b[0m\n\u001b[1;32m      5\u001b[0m                             \u001b[0;34m'lang'\u001b[0m\u001b[0;34m:\u001b[0m \u001b[0;34mf'{lang_src}-{lang_tgt}'\u001b[0m\u001b[0;34m,\u001b[0m\u001b[0;31m\\\u001b[0m\u001b[0;34m\u001b[0m\u001b[0;34m\u001b[0m\u001b[0m\n\u001b[0;32m----> 6\u001b[0;31m                             'options': '4'})\n\u001b[0m\u001b[1;32m      7\u001b[0m \u001b[0;34m\u001b[0m\u001b[0m\n",
      "\u001b[0;32m~/anaconda3/lib/python3.7/site-packages/requests/api.py\u001b[0m in \u001b[0;36mget\u001b[0;34m(url, params, **kwargs)\u001b[0m\n\u001b[1;32m     74\u001b[0m     \u001b[0mkwargs\u001b[0m\u001b[0;34m.\u001b[0m\u001b[0msetdefault\u001b[0m\u001b[0;34m(\u001b[0m\u001b[0;34m'allow_redirects'\u001b[0m\u001b[0;34m,\u001b[0m \u001b[0;32mTrue\u001b[0m\u001b[0;34m)\u001b[0m\u001b[0;34m\u001b[0m\u001b[0;34m\u001b[0m\u001b[0m\n\u001b[0;32m---> 75\u001b[0;31m     \u001b[0;32mreturn\u001b[0m \u001b[0mrequest\u001b[0m\u001b[0;34m(\u001b[0m\u001b[0;34m'get'\u001b[0m\u001b[0;34m,\u001b[0m \u001b[0murl\u001b[0m\u001b[0;34m,\u001b[0m \u001b[0mparams\u001b[0m\u001b[0;34m=\u001b[0m\u001b[0mparams\u001b[0m\u001b[0;34m,\u001b[0m \u001b[0;34m**\u001b[0m\u001b[0mkwargs\u001b[0m\u001b[0;34m)\u001b[0m\u001b[0;34m\u001b[0m\u001b[0;34m\u001b[0m\u001b[0m\n\u001b[0m\u001b[1;32m     76\u001b[0m \u001b[0;34m\u001b[0m\u001b[0m\n",
      "\u001b[0;32m~/anaconda3/lib/python3.7/site-packages/requests/api.py\u001b[0m in \u001b[0;36mrequest\u001b[0;34m(method, url, **kwargs)\u001b[0m\n\u001b[1;32m     59\u001b[0m     \u001b[0;32mwith\u001b[0m \u001b[0msessions\u001b[0m\u001b[0;34m.\u001b[0m\u001b[0mSession\u001b[0m\u001b[0;34m(\u001b[0m\u001b[0;34m)\u001b[0m \u001b[0;32mas\u001b[0m \u001b[0msession\u001b[0m\u001b[0;34m:\u001b[0m\u001b[0;34m\u001b[0m\u001b[0;34m\u001b[0m\u001b[0m\n\u001b[0;32m---> 60\u001b[0;31m         \u001b[0;32mreturn\u001b[0m \u001b[0msession\u001b[0m\u001b[0;34m.\u001b[0m\u001b[0mrequest\u001b[0m\u001b[0;34m(\u001b[0m\u001b[0mmethod\u001b[0m\u001b[0;34m=\u001b[0m\u001b[0mmethod\u001b[0m\u001b[0;34m,\u001b[0m \u001b[0murl\u001b[0m\u001b[0;34m=\u001b[0m\u001b[0murl\u001b[0m\u001b[0;34m,\u001b[0m \u001b[0;34m**\u001b[0m\u001b[0mkwargs\u001b[0m\u001b[0;34m)\u001b[0m\u001b[0;34m\u001b[0m\u001b[0;34m\u001b[0m\u001b[0m\n\u001b[0m\u001b[1;32m     61\u001b[0m \u001b[0;34m\u001b[0m\u001b[0m\n",
      "\u001b[0;32m~/anaconda3/lib/python3.7/site-packages/requests/sessions.py\u001b[0m in \u001b[0;36mrequest\u001b[0;34m(self, method, url, params, data, headers, cookies, files, auth, timeout, allow_redirects, proxies, hooks, stream, verify, cert, json)\u001b[0m\n\u001b[1;32m    532\u001b[0m         \u001b[0msend_kwargs\u001b[0m\u001b[0;34m.\u001b[0m\u001b[0mupdate\u001b[0m\u001b[0;34m(\u001b[0m\u001b[0msettings\u001b[0m\u001b[0;34m)\u001b[0m\u001b[0;34m\u001b[0m\u001b[0;34m\u001b[0m\u001b[0m\n\u001b[0;32m--> 533\u001b[0;31m         \u001b[0mresp\u001b[0m \u001b[0;34m=\u001b[0m \u001b[0mself\u001b[0m\u001b[0;34m.\u001b[0m\u001b[0msend\u001b[0m\u001b[0;34m(\u001b[0m\u001b[0mprep\u001b[0m\u001b[0;34m,\u001b[0m \u001b[0;34m**\u001b[0m\u001b[0msend_kwargs\u001b[0m\u001b[0;34m)\u001b[0m\u001b[0;34m\u001b[0m\u001b[0;34m\u001b[0m\u001b[0m\n\u001b[0m\u001b[1;32m    534\u001b[0m \u001b[0;34m\u001b[0m\u001b[0m\n",
      "\u001b[0;32m~/anaconda3/lib/python3.7/site-packages/requests/sessions.py\u001b[0m in \u001b[0;36msend\u001b[0;34m(self, request, **kwargs)\u001b[0m\n\u001b[1;32m    645\u001b[0m         \u001b[0;31m# Send the request\u001b[0m\u001b[0;34m\u001b[0m\u001b[0;34m\u001b[0m\u001b[0;34m\u001b[0m\u001b[0m\n\u001b[0;32m--> 646\u001b[0;31m         \u001b[0mr\u001b[0m \u001b[0;34m=\u001b[0m \u001b[0madapter\u001b[0m\u001b[0;34m.\u001b[0m\u001b[0msend\u001b[0m\u001b[0;34m(\u001b[0m\u001b[0mrequest\u001b[0m\u001b[0;34m,\u001b[0m \u001b[0;34m**\u001b[0m\u001b[0mkwargs\u001b[0m\u001b[0;34m)\u001b[0m\u001b[0;34m\u001b[0m\u001b[0;34m\u001b[0m\u001b[0m\n\u001b[0m\u001b[1;32m    647\u001b[0m \u001b[0;34m\u001b[0m\u001b[0m\n",
      "\u001b[0;32m~/anaconda3/lib/python3.7/site-packages/requests/adapters.py\u001b[0m in \u001b[0;36msend\u001b[0;34m(self, request, stream, timeout, verify, cert, proxies)\u001b[0m\n\u001b[1;32m    448\u001b[0m                     \u001b[0mretries\u001b[0m\u001b[0;34m=\u001b[0m\u001b[0mself\u001b[0m\u001b[0;34m.\u001b[0m\u001b[0mmax_retries\u001b[0m\u001b[0;34m,\u001b[0m\u001b[0;34m\u001b[0m\u001b[0;34m\u001b[0m\u001b[0m\n\u001b[0;32m--> 449\u001b[0;31m                     \u001b[0mtimeout\u001b[0m\u001b[0;34m=\u001b[0m\u001b[0mtimeout\u001b[0m\u001b[0;34m\u001b[0m\u001b[0;34m\u001b[0m\u001b[0m\n\u001b[0m\u001b[1;32m    450\u001b[0m                 )\n",
      "\u001b[0;32m~/anaconda3/lib/python3.7/site-packages/urllib3/connectionpool.py\u001b[0m in \u001b[0;36murlopen\u001b[0;34m(self, method, url, body, headers, retries, redirect, assert_same_host, timeout, pool_timeout, release_conn, chunked, body_pos, **response_kw)\u001b[0m\n\u001b[1;32m    599\u001b[0m                                                   \u001b[0mbody\u001b[0m\u001b[0;34m=\u001b[0m\u001b[0mbody\u001b[0m\u001b[0;34m,\u001b[0m \u001b[0mheaders\u001b[0m\u001b[0;34m=\u001b[0m\u001b[0mheaders\u001b[0m\u001b[0;34m,\u001b[0m\u001b[0;34m\u001b[0m\u001b[0;34m\u001b[0m\u001b[0m\n\u001b[0;32m--> 600\u001b[0;31m                                                   chunked=chunked)\n\u001b[0m\u001b[1;32m    601\u001b[0m \u001b[0;34m\u001b[0m\u001b[0m\n",
      "\u001b[0;32m~/anaconda3/lib/python3.7/site-packages/urllib3/connectionpool.py\u001b[0m in \u001b[0;36m_make_request\u001b[0;34m(self, conn, method, url, timeout, chunked, **httplib_request_kw)\u001b[0m\n\u001b[1;32m    342\u001b[0m         \u001b[0;32mtry\u001b[0m\u001b[0;34m:\u001b[0m\u001b[0;34m\u001b[0m\u001b[0;34m\u001b[0m\u001b[0m\n\u001b[0;32m--> 343\u001b[0;31m             \u001b[0mself\u001b[0m\u001b[0;34m.\u001b[0m\u001b[0m_validate_conn\u001b[0m\u001b[0;34m(\u001b[0m\u001b[0mconn\u001b[0m\u001b[0;34m)\u001b[0m\u001b[0;34m\u001b[0m\u001b[0;34m\u001b[0m\u001b[0m\n\u001b[0m\u001b[1;32m    344\u001b[0m         \u001b[0;32mexcept\u001b[0m \u001b[0;34m(\u001b[0m\u001b[0mSocketTimeout\u001b[0m\u001b[0;34m,\u001b[0m \u001b[0mBaseSSLError\u001b[0m\u001b[0;34m)\u001b[0m \u001b[0;32mas\u001b[0m \u001b[0me\u001b[0m\u001b[0;34m:\u001b[0m\u001b[0;34m\u001b[0m\u001b[0;34m\u001b[0m\u001b[0m\n",
      "\u001b[0;32m~/anaconda3/lib/python3.7/site-packages/urllib3/connectionpool.py\u001b[0m in \u001b[0;36m_validate_conn\u001b[0;34m(self, conn)\u001b[0m\n\u001b[1;32m    838\u001b[0m         \u001b[0;32mif\u001b[0m \u001b[0;32mnot\u001b[0m \u001b[0mgetattr\u001b[0m\u001b[0;34m(\u001b[0m\u001b[0mconn\u001b[0m\u001b[0;34m,\u001b[0m \u001b[0;34m'sock'\u001b[0m\u001b[0;34m,\u001b[0m \u001b[0;32mNone\u001b[0m\u001b[0;34m)\u001b[0m\u001b[0;34m:\u001b[0m  \u001b[0;31m# AppEngine might not have  `.sock`\u001b[0m\u001b[0;34m\u001b[0m\u001b[0;34m\u001b[0m\u001b[0m\n\u001b[0;32m--> 839\u001b[0;31m             \u001b[0mconn\u001b[0m\u001b[0;34m.\u001b[0m\u001b[0mconnect\u001b[0m\u001b[0;34m(\u001b[0m\u001b[0;34m)\u001b[0m\u001b[0;34m\u001b[0m\u001b[0;34m\u001b[0m\u001b[0m\n\u001b[0m\u001b[1;32m    840\u001b[0m \u001b[0;34m\u001b[0m\u001b[0m\n",
      "\u001b[0;32m~/anaconda3/lib/python3.7/site-packages/urllib3/connection.py\u001b[0m in \u001b[0;36mconnect\u001b[0;34m(self)\u001b[0m\n\u001b[1;32m    300\u001b[0m         \u001b[0;31m# Add certificate verification\u001b[0m\u001b[0;34m\u001b[0m\u001b[0;34m\u001b[0m\u001b[0;34m\u001b[0m\u001b[0m\n\u001b[0;32m--> 301\u001b[0;31m         \u001b[0mconn\u001b[0m \u001b[0;34m=\u001b[0m \u001b[0mself\u001b[0m\u001b[0;34m.\u001b[0m\u001b[0m_new_conn\u001b[0m\u001b[0;34m(\u001b[0m\u001b[0;34m)\u001b[0m\u001b[0;34m\u001b[0m\u001b[0;34m\u001b[0m\u001b[0m\n\u001b[0m\u001b[1;32m    302\u001b[0m         \u001b[0mhostname\u001b[0m \u001b[0;34m=\u001b[0m \u001b[0mself\u001b[0m\u001b[0;34m.\u001b[0m\u001b[0mhost\u001b[0m\u001b[0;34m\u001b[0m\u001b[0;34m\u001b[0m\u001b[0m\n",
      "\u001b[0;32m~/anaconda3/lib/python3.7/site-packages/urllib3/connection.py\u001b[0m in \u001b[0;36m_new_conn\u001b[0;34m(self)\u001b[0m\n\u001b[1;32m    158\u001b[0m             conn = connection.create_connection(\n\u001b[0;32m--> 159\u001b[0;31m                 (self._dns_host, self.port), self.timeout, **extra_kw)\n\u001b[0m\u001b[1;32m    160\u001b[0m \u001b[0;34m\u001b[0m\u001b[0m\n",
      "\u001b[0;32m~/anaconda3/lib/python3.7/site-packages/urllib3/util/connection.py\u001b[0m in \u001b[0;36mcreate_connection\u001b[0;34m(address, timeout, source_address, socket_options)\u001b[0m\n\u001b[1;32m     69\u001b[0m                 \u001b[0msock\u001b[0m\u001b[0;34m.\u001b[0m\u001b[0mbind\u001b[0m\u001b[0;34m(\u001b[0m\u001b[0msource_address\u001b[0m\u001b[0;34m)\u001b[0m\u001b[0;34m\u001b[0m\u001b[0;34m\u001b[0m\u001b[0m\n\u001b[0;32m---> 70\u001b[0;31m             \u001b[0msock\u001b[0m\u001b[0;34m.\u001b[0m\u001b[0mconnect\u001b[0m\u001b[0;34m(\u001b[0m\u001b[0msa\u001b[0m\u001b[0;34m)\u001b[0m\u001b[0;34m\u001b[0m\u001b[0;34m\u001b[0m\u001b[0m\n\u001b[0m\u001b[1;32m     71\u001b[0m             \u001b[0;32mreturn\u001b[0m \u001b[0msock\u001b[0m\u001b[0;34m\u001b[0m\u001b[0;34m\u001b[0m\u001b[0m\n",
      "\u001b[0;31mKeyboardInterrupt\u001b[0m: ",
      "\nDuring handling of the above exception, another exception occurred:\n",
      "\u001b[0;31mKeyboardInterrupt\u001b[0m                         Traceback (most recent call last)",
      "\u001b[0;32m<ipython-input-43-f3e77a67e657>\u001b[0m in \u001b[0;36m<module>\u001b[0;34m\u001b[0m\n\u001b[1;32m      3\u001b[0m                                                                          \u001b[0mAPI_KEYS\u001b[0m\u001b[0;34m,\u001b[0m\u001b[0;34m\u001b[0m\u001b[0;34m\u001b[0m\u001b[0m\n\u001b[1;32m      4\u001b[0m                                                                          \u001b[0mlang_src\u001b[0m\u001b[0;34m=\u001b[0m\u001b[0;34m'en'\u001b[0m\u001b[0;34m,\u001b[0m\u001b[0;34m\u001b[0m\u001b[0;34m\u001b[0m\u001b[0m\n\u001b[0;32m----> 5\u001b[0;31m                                                                          lang_tgt='pt')\n\u001b[0m",
      "\u001b[0;32m<ipython-input-42-9ff3c5e7856e>\u001b[0m in \u001b[0;36mtranslate\u001b[0;34m(path, sentences, api_keys, lang_src, lang_tgt)\u001b[0m\n\u001b[1;32m     15\u001b[0m             \u001b[0;32mexcept\u001b[0m\u001b[0;34m:\u001b[0m\u001b[0;34m\u001b[0m\u001b[0;34m\u001b[0m\u001b[0m\n\u001b[1;32m     16\u001b[0m                 \u001b[0mprint\u001b[0m\u001b[0;34m(\u001b[0m\u001b[0;34m'sleeping'\u001b[0m\u001b[0;34m)\u001b[0m\u001b[0;34m\u001b[0m\u001b[0;34m\u001b[0m\u001b[0m\n\u001b[0;32m---> 17\u001b[0;31m                 \u001b[0mtime\u001b[0m\u001b[0;34m.\u001b[0m\u001b[0msleep\u001b[0m\u001b[0;34m(\u001b[0m\u001b[0;36m50\u001b[0m\u001b[0;34m)\u001b[0m\u001b[0;34m\u001b[0m\u001b[0;34m\u001b[0m\u001b[0m\n\u001b[0m\u001b[1;32m     18\u001b[0m                 \u001b[0mr\u001b[0m \u001b[0;34m=\u001b[0m \u001b[0mget_request\u001b[0m\u001b[0;34m(\u001b[0m\u001b[0mapi_keys\u001b[0m\u001b[0;34m[\u001b[0m\u001b[0mix_key\u001b[0m\u001b[0;34m]\u001b[0m\u001b[0;34m,\u001b[0m \u001b[0msentence\u001b[0m\u001b[0;34m,\u001b[0m \u001b[0mlang_src\u001b[0m\u001b[0;34m,\u001b[0m \u001b[0mlang_tgt\u001b[0m\u001b[0;34m)\u001b[0m\u001b[0;34m\u001b[0m\u001b[0;34m\u001b[0m\u001b[0m\n\u001b[1;32m     19\u001b[0m                 \u001b[0;32mwhile\u001b[0m \u001b[0;34m'Maximum daily translated text volume exceeded'\u001b[0m \u001b[0;32min\u001b[0m \u001b[0mr\u001b[0m\u001b[0;34m.\u001b[0m\u001b[0mtext\u001b[0m \u001b[0;32mand\u001b[0m \u001b[0mix_key\u001b[0m \u001b[0;34m<\u001b[0m \u001b[0mlen\u001b[0m\u001b[0;34m(\u001b[0m\u001b[0mapi_keys\u001b[0m\u001b[0;34m)\u001b[0m\u001b[0;34m:\u001b[0m\u001b[0;34m\u001b[0m\u001b[0;34m\u001b[0m\u001b[0m\n",
      "\u001b[0;31mKeyboardInterrupt\u001b[0m: "
     ]
    }
   ],
   "source": [
    "id_translations, translations, alignments, back_translations, no_tr = translate('data/translation/semcor/en_pt/', \n",
    "                                                                         input_sent_semcor, \n",
    "                                                                         API_KEYS, \n",
    "                                                                         lang_src='en', \n",
    "                                                                         lang_tgt='pt')"
   ]
  },
  {
   "cell_type": "code",
   "execution_count": null,
   "metadata": {},
   "outputs": [
    {
     "name": "stderr",
     "output_type": "stream",
     "text": [
      "\n",
      "  0%|          | 0/1173 [00:00<?, ?it/s]\u001b[A"
     ]
    },
    {
     "name": "stdout",
     "output_type": "stream",
     "text": [
      "Changing key\n",
      "Changing key\n",
      "Changing key\n",
      "Changing key\n"
     ]
    },
    {
     "name": "stderr",
     "output_type": "stream",
     "text": [
      "\n",
      "  0%|          | 1/1173 [00:05<1:39:00,  5.07s/it]\u001b[A\n",
      "  0%|          | 2/1173 [00:06<1:15:46,  3.88s/it]\u001b[A\n",
      "  0%|          | 3/1173 [00:07<58:41,  3.01s/it]  \u001b[A\n",
      "  0%|          | 4/1173 [00:08<47:57,  2.46s/it]\u001b[A\n",
      "  0%|          | 5/1173 [00:09<40:19,  2.07s/it]\u001b[A\n",
      "  1%|          | 6/1173 [00:10<34:34,  1.78s/it]\u001b[A\n",
      "  1%|          | 7/1173 [00:11<31:28,  1.62s/it]\u001b[A\n",
      "  1%|          | 8/1173 [00:13<29:06,  1.50s/it]\u001b[A\n",
      "  1%|          | 9/1173 [00:14<26:25,  1.36s/it]\u001b[A\n",
      "  1%|          | 10/1173 [00:15<24:10,  1.25s/it]\u001b[A\n",
      "  1%|          | 11/1173 [00:16<24:43,  1.28s/it]\u001b[A"
     ]
    }
   ],
   "source": [
    "id_dev, translations_dev, alignments_dev, back_translations_dev, no_tr_dev = translate('data/translation/dev/en_pt/', \n",
    "                                                                         input_sent_dev, \n",
    "                                                                         API_KEYS, \n",
    "                                                                         lang_src='en', \n",
    "                                                                         lang_tgt='pt')"
   ]
  },
  {
   "cell_type": "code",
   "execution_count": 47,
   "metadata": {},
   "outputs": [
    {
     "ename": "NameError",
     "evalue": "name 'id_dev' is not defined",
     "output_type": "error",
     "traceback": [
      "\u001b[0;31m---------------------------------------------------------------------------\u001b[0m",
      "\u001b[0;31mNameError\u001b[0m                                 Traceback (most recent call last)",
      "\u001b[0;32m<ipython-input-47-e8a7dff71407>\u001b[0m in \u001b[0;36m<module>\u001b[0;34m\u001b[0m\n\u001b[0;32m----> 1\u001b[0;31m \u001b[0mlen\u001b[0m\u001b[0;34m(\u001b[0m\u001b[0mid_dev\u001b[0m\u001b[0;34m)\u001b[0m\u001b[0;34m\u001b[0m\u001b[0;34m\u001b[0m\u001b[0m\n\u001b[0m",
      "\u001b[0;31mNameError\u001b[0m: name 'id_dev' is not defined"
     ]
    }
   ],
   "source": [
    "len(id_dev)"
   ]
  },
  {
   "cell_type": "code",
   "execution_count": 64,
   "metadata": {},
   "outputs": [],
   "source": [
    "path='data/translation/dev/en_pt/'\n",
    "sentences=input_sent_dev\n",
    "api_keys=API_KEYS\n",
    "lang_src='en'\n",
    "lang_tgt='pt'"
   ]
  },
  {
   "cell_type": "code",
   "execution_count": 16,
   "metadata": {},
   "outputs": [
    {
     "data": {
      "text/plain": [
       "37164"
      ]
     },
     "execution_count": 16,
     "metadata": {},
     "output_type": "execute_result"
    }
   ],
   "source": [
    "len(translations)"
   ]
  },
  {
   "cell_type": "code",
   "execution_count": 20,
   "metadata": {},
   "outputs": [
    {
     "data": {
      "text/plain": [
       "'o kohnstamm-positivo assuntos parecia ser mais livre para experimentar o inusitado e aparentemente impossível no mundo externo .'"
      ]
     },
     "execution_count": 20,
     "metadata": {},
     "output_type": "execute_result"
    }
   ],
   "source": [
    "translations[-12]"
   ]
  },
  {
   "cell_type": "code",
   "execution_count": 63,
   "metadata": {},
   "outputs": [
    {
     "data": {
      "text/plain": [
       "1173"
      ]
     },
     "execution_count": 63,
     "metadata": {},
     "output_type": "execute_result"
    }
   ],
   "source": [
    "len(translations)"
   ]
  },
  {
   "cell_type": "code",
   "execution_count": null,
   "metadata": {},
   "outputs": [
    {
     "name": "stderr",
     "output_type": "stream",
     "text": [
      "\n",
      "  0%|          | 0/1173 [00:00<?, ?it/s]\u001b[A\n",
      "  0%|          | 1/1173 [00:01<29:53,  1.53s/it]\u001b[A\n",
      "  0%|          | 2/1173 [00:02<27:37,  1.42s/it]\u001b[A\n",
      "  0%|          | 3/1173 [00:03<25:41,  1.32s/it]\u001b[A\n",
      "  0%|          | 4/1173 [00:05<25:25,  1.30s/it]\u001b[A\n",
      "  0%|          | 5/1173 [00:06<23:59,  1.23s/it]\u001b[A\n",
      "  1%|          | 6/1173 [00:07<23:41,  1.22s/it]\u001b[A\n",
      "  1%|          | 7/1173 [00:08<22:50,  1.18s/it]\u001b[A\n",
      "  1%|          | 8/1173 [00:09<23:20,  1.20s/it]\u001b[A\n",
      "  1%|          | 9/1173 [00:10<23:04,  1.19s/it]\u001b[A\n",
      "  1%|          | 10/1173 [00:11<22:30,  1.16s/it]\u001b[A\n",
      "  1%|          | 11/1173 [00:13<22:17,  1.15s/it]\u001b[A\n",
      "  1%|          | 12/1173 [00:14<21:57,  1.14s/it]\u001b[A\n",
      "  1%|          | 13/1173 [00:15<22:17,  1.15s/it]\u001b[A\n",
      "  1%|          | 14/1173 [00:16<21:53,  1.13s/it]\u001b[A"
     ]
    }
   ],
   "source": [
    "    ix_key = 0\n",
    "    no_tr = []\n",
    "    translations = []\n",
    "    alignments = []\n",
    "    id_translations = []\n",
    "    with tqdm(total=len(sentences)) as pbar:\n",
    "        for ix_sentence, sentence in enumerate(input_sent_dev):\n",
    "            try:\n",
    "                r = get_request(api_keys[ix_key], sentence, lang_src, lang_tgt)\n",
    "                while 'Maximum daily translated text volume exceeded' in r.text and ix_key < len(api_keys):\n",
    "                    print('Changing key')\n",
    "                    ix_key += 1\n",
    "                    r = get_request(api_keys[ix_key], sentence, lang_src, lang_tgt)\n",
    "            except:\n",
    "                print('sleeping')\n",
    "                time.sleep(120)\n",
    "                r = get_request(api_keys[ix_key], sentence, lang_src, lang_tgt)\n",
    "                while 'Maximum daily translated text volume exceeded' in r.text and ix_key < len(api_keys):\n",
    "                    print('Changing key')\n",
    "                    ix_key += 1\n",
    "                    r = get_request(api_keys[ix_key], sentence, lang_src, lang_tgt)\n",
    "                    \n",
    "            if ix_key >= len(API_KEYS):\n",
    "                break\n",
    "            else:\n",
    "                tr = re.findall('<text>(.*?)</text>', r.text)\n",
    "                al = re.findall('<align>(.*?)</align>',r.text)\n",
    "                if len(tr) and len(al):\n",
    "                    translations.append(tr[0])\n",
    "                    alignments.append(al[0])\n",
    "                    id_translations.append(ix_sentence)\n",
    "                else:\n",
    "                    no_tr.append(ix_sentence)\n",
    "            pbar.update(1)\n",
    "    \n"
   ]
  },
  {
   "cell_type": "code",
   "execution_count": null,
   "metadata": {},
   "outputs": [
    {
     "name": "stdout",
     "output_type": "stream",
     "text": [
      "No translated: []\n"
     ]
    }
   ],
   "source": [
    "    print('No translated:', no_tr)\n",
    "    back_translations = []\n",
    "    for sentence in translations:\n",
    "        try:\n",
    "            r = get_request(api_keys[ix_key], sentence, lang_tgt, lang_src)\n",
    "            while 'Maximum daily translated text volume exceeded' in r.text and ix_key < len(api_keys):\n",
    "                ix_key += 1\n",
    "                r = get_request(api_keys[ix_key], sentence, lang_tgt, lang_src)\n",
    "        except:\n",
    "            print('sleeping')\n",
    "            time.sleep(10)\n",
    "            r = get_request(api_keys[ix_key], sentence, lang_tgt, lang_src)\n",
    "            while 'Maximum daily translated text volume exceeded' in r.text and ix_key < len(api_keys):\n",
    "                print('Changing key')\n",
    "                ix_key += 1\n",
    "                r = get_request(api_keys[ix_key], sentence, lang_tgt, lang_src)\n",
    "        if ix_key >= len(API_KEYS):\n",
    "            break\n",
    "        else:\n",
    "            tr = re.findall('<text>(.*?)</text>', r.text)\n",
    "            if len(tr):\n",
    "                back_translations.append(tr[0])\n",
    "                \n",
    "    or_file = open(path / 'or.txt', 'w')\n",
    "    trn_file = open(path / 'trn.txt', 'w')\n",
    "    bck_file = open(path / 'bck.txt', 'w')\n",
    "    al_file = open(path / 'al.txt', 'w')\n",
    "    id_file = open(path / 'id.txt', 'w')\n",
    "\n",
    "    for ix in range(len(id_translations)):\n",
    "        or_file.write(sentences[ix] + '\\n')\n",
    "        trn_file.write(translations[ix] + '\\n')\n",
    "        bck_file.write(back_translations[ix] + '\\n')\n",
    "        al_file.write(alignments[ix] + '\\n')\n",
    "        id_file.write(id_translations[ix] + '\\n')\n",
    "\n",
    "    or_file.close()\n",
    "    trn_file.close()\n",
    "    bck_file.close()\n",
    "    al_file.close()\n",
    "    id_file.close()"
   ]
  },
  {
   "cell_type": "markdown",
   "metadata": {},
   "source": [
    "## Check files"
   ]
  },
  {
   "cell_type": "code",
   "execution_count": 154,
   "metadata": {},
   "outputs": [],
   "source": [
    "tr_file = open('data/translation/semcor/en_pt/tr.txt', 'r')\n",
    "or_file = open('data/translation/semcor/en_pt/or.txt', 'r')\n",
    "bck_file = open('data/translation/semcor/pt_en/bck.txt', 'r')\n",
    "al_file = open('data/translation/semcor/pt_en/al.txt', 'r')"
   ]
  },
  {
   "cell_type": "code",
   "execution_count": 155,
   "metadata": {},
   "outputs": [],
   "source": [
    "input_or = []\n",
    "for sent in or_file:\n",
    "    input_or.append(sent)\n",
    "\n",
    "input_tr = []\n",
    "for sent in tr_file:\n",
    "    input_tr.append(sent)\n"
   ]
  },
  {
   "cell_type": "code",
   "execution_count": 156,
   "metadata": {},
   "outputs": [],
   "source": [
    "bck_input_or = []\n",
    "for sent in bck_or_file:\n",
    "    bck_input_or.append(sent)\n",
    "\n",
    "bck_input_tr = []\n",
    "for sent in bck_tr_file:\n",
    "    bck_input_tr.append(sent)    "
   ]
  },
  {
   "cell_type": "code",
   "execution_count": 157,
   "metadata": {},
   "outputs": [
    {
     "data": {
      "text/plain": [
       "'how long has it been since you reviewed the objectives of your benefit and service program ?\\n'"
      ]
     },
     "execution_count": 157,
     "metadata": {},
     "output_type": "execute_result"
    }
   ],
   "source": [
    "ix= 0\n",
    "input_or[ix]"
   ]
  },
  {
   "cell_type": "code",
   "execution_count": 158,
   "metadata": {},
   "outputs": [
    {
     "data": {
      "text/plain": [
       "'quanto tempo tem sido desde que reviu os objectivos do seu benefício e serviço de programa ?\\n'"
      ]
     },
     "execution_count": 158,
     "metadata": {},
     "output_type": "execute_result"
    }
   ],
   "source": [
    "input_tr[ix]"
   ]
  },
  {
   "cell_type": "code",
   "execution_count": 159,
   "metadata": {},
   "outputs": [
    {
     "data": {
      "text/plain": [
       "'quanto tempo tem sido desde que reviu os objectivos do seu benefício e serviço de programa ?\\n'"
      ]
     },
     "execution_count": 159,
     "metadata": {},
     "output_type": "execute_result"
    }
   ],
   "source": [
    "bck_input_or[ix]"
   ]
  },
  {
   "cell_type": "code",
   "execution_count": 162,
   "metadata": {},
   "outputs": [
    {
     "data": {
      "text/plain": [
       "'how long has it been since you reviewed the objectives of your benefit and service program ?\\n'"
      ]
     },
     "execution_count": 162,
     "metadata": {},
     "output_type": "execute_result"
    }
   ],
   "source": [
    "bck_input_tr[ix]"
   ]
  },
  {
   "cell_type": "code",
   "execution_count": 161,
   "metadata": {},
   "outputs": [],
   "source": [
    "tr_file.close()\n",
    "bck_tr_file.close()"
   ]
  }
 ],
 "metadata": {
  "kernelspec": {
   "display_name": "Python 3",
   "language": "python",
   "name": "python3"
  },
  "language_info": {
   "codemirror_mode": {
    "name": "ipython",
    "version": 3
   },
   "file_extension": ".py",
   "mimetype": "text/x-python",
   "name": "python",
   "nbconvert_exporter": "python",
   "pygments_lexer": "ipython3",
   "version": "3.7.1"
  }
 },
 "nbformat": 4,
 "nbformat_minor": 2
}
